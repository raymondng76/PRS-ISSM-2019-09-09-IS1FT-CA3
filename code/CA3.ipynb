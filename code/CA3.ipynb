{
 "cells": [
  {
   "cell_type": "markdown",
   "metadata": {},
   "source": [
    "### ISSM CA3"
   ]
  },
  {
   "cell_type": "code",
   "execution_count": 34,
   "metadata": {},
   "outputs": [],
   "source": [
    "import numpy as np\n",
    "import pandas as pd\n",
    "import pydot\n",
    "import IPython\n",
    "import matplotlib.pyplot as plt\n",
    "%matplotlib inline\n",
    "\n",
    "import os\n",
    "import glob\n",
    "import time\n",
    "\n",
    "from keras.layers import Input, Dense, Concatenate\n",
    "from keras.models import Model\n",
    "from keras.callbacks import ReduceLROnPlateau, EarlyStopping\n",
    "\n",
    "from sklearn.model_selection import train_test_split\n",
    "from sklearn.preprocessing import StandardScaler\n",
    "from sklearn import metrics\n",
    "\n",
    "from keras.utils import plot_model"
   ]
  },
  {
   "cell_type": "markdown",
   "metadata": {},
   "source": [
    "### Dataset attributes\n",
    "Column 1: Timestamp in seconds  \n",
    "Column 2: Timestamp in microseconds  \n",
    "Column 3-15: [AccX, AccY, AccZ, GyrX, GyrY, GyrZ, MagX, MagY, MagZ, Q1, Q2, Q3, Q4] of sensor S1 (Left Calf)  \n",
    "Column 16-28: [AccX, AccY, AccZ, GyrX, GyrY, GyrZ, MagX, MagY, MagZ, Q1, Q2, Q3, Q4] of sensor S2 (Left Thigh)  \n",
    "Column 29-41: [AccX, AccY, AccZ, GyrX, GyrY, GyrZ, MagX, MagY, MagZ, Q1, Q2, Q3, Q4] of sensor S3 (Right Calf)  \n",
    "Column 42-54: [AccX, AccY, AccZ, GyrX, GyrY, GyrZ, MagX, MagY, MagZ, Q1, Q2, Q3, Q4] of sensor S4 (Right Thigh)  \n",
    "Column 55-67: [AccX, AccY, AccZ, GyrX, GyrY, GyrZ, MagX, MagY, MagZ, Q1, Q2, Q3, Q4] of sensor S5 (Back)  \n",
    "Column 68-80: [AccX, AccY, AccZ, GyrX, GyrY, GyrZ, MagX, MagY, MagZ, Q1, Q2, Q3, Q4] of sensor S6 (Left Lower Arm)  \n",
    "Column 81-93: [AccX, AccY, AccZ, GyrX, GyrY, GyrZ, MagX, MagY, MagZ, Q1, Q2, Q3, Q4] of sensor S7 (Left Upper Arm)  \n",
    "Column 94-106: [AccX, AccY, AccZ, GyrX, GyrY, GyrZ, MagX, MagY, MagZ, Q1, Q2, Q3, Q4] of sensor S8 (Right Lower Arm)  \n",
    "Column 107-119: [AccX, AccY, AccZ, GyrX, GyrY, GyrZ, MagX, MagY, MagZ, Q1, Q2, Q3, Q4] of sensor S9 (Right Upper Arm)  \n",
    "Column 120: Label (see activity set) [Walking = 1] [Jogging = 2] [Running = 3]"
   ]
  },
  {
   "cell_type": "markdown",
   "metadata": {},
   "source": [
    "### Run following cells for the following dataset structure:\n",
    "* df_walk : all 17 subjects + walking + (accel + gyro + quart)  \n",
    "* df_jog : all 17 subjects + jogging + (accel + gyro + quart)  \n",
    "* df_run : all 17 subjects + running + (accel + gyro + quart)  \n",
    "    \n",
    "Col[0]: Timestamp in seconds  \n",
    "Col[1]: Timestamp in microseconds  \n",
    "Col[67-79]: Sensor S6 (without Mag sensor [74 - 76])  \n",
    "Col[93-105]: Sensor S8 (without Mag sensor [100 - 103])  \n",
    "Col[119]: Activity Label"
   ]
  },
  {
   "cell_type": "code",
   "execution_count": 2,
   "metadata": {},
   "outputs": [],
   "source": [
    "data_dir = '..\\dataset'\n",
    "# This method reads all dataset and filter out walking, jogging and running activities\n",
    "def readcsvDataset(directory):\n",
    "    files = glob.glob(directory + '\\*.csv')\n",
    "    df_walk = []\n",
    "    df_jog = []\n",
    "    df_run = []\n",
    "    for file in files:\n",
    "        df_all = pd.read_csv(file, header=None, delim_whitespace=True)\n",
    "        df_walk.append(df_all[df_all[119] == 1])\n",
    "        df_jog.append(df_all[df_all[119] == 2])\n",
    "        df_run.append(df_all[df_all[119] == 3])\n",
    "    return pd.concat(df_walk, ignore_index=True), pd.concat(df_jog, ignore_index=True), pd.concat(df_run, ignore_index=True)"
   ]
  },
  {
   "cell_type": "code",
   "execution_count": 3,
   "metadata": {},
   "outputs": [],
   "source": [
    "# This method removes all positional sensors other than left/right lower arm, as well as Magnetic sensors\n",
    "def removeOtherSensor(df_walk, df_jog, df_run):\n",
    "    # [2:67] S1 to S5\n",
    "    # [73:76] Mag sensor for S6\n",
    "    # [80:93] S7\n",
    "    # [99:102] Mag sensor for S8\n",
    "    # [106:119] S9\n",
    "    idx = np.r_[2:67, 73:76, 80:93, 99,102, 106:119]\n",
    "    return df_walk.drop(df_walk.columns[idx], axis=1), df_jog.drop(df_jog.columns[idx], axis=1), df_run.drop(df_run.columns[idx], axis=1)"
   ]
  },
  {
   "cell_type": "code",
   "execution_count": 4,
   "metadata": {},
   "outputs": [
    {
     "name": "stdout",
     "output_type": "stream",
     "text": [
      "Wall time: 31.9 s\n"
     ]
    }
   ],
   "source": [
    "%%time\n",
    "dfw, dfj, dfr = readcsvDataset(data_dir)"
   ]
  },
  {
   "cell_type": "code",
   "execution_count": 5,
   "metadata": {},
   "outputs": [],
   "source": [
    "dfwalk, dfjog, dfrun = removeOtherSensor(dfw, dfj, dfr)"
   ]
  },
  {
   "cell_type": "code",
   "execution_count": 6,
   "metadata": {},
   "outputs": [],
   "source": [
    "standscale = StandardScaler()\n",
    "dfwalk = standscale.fit_transform(dfwalk)\n",
    "dfjog = standscale.fit_transform(dfjog)\n",
    "dfrun = standscale.fit_transform(dfrun)"
   ]
  },
  {
   "cell_type": "code",
   "execution_count": 7,
   "metadata": {},
   "outputs": [
    {
     "data": {
      "text/plain": [
       "(45638, 24)"
      ]
     },
     "execution_count": 7,
     "metadata": {},
     "output_type": "execute_result"
    }
   ],
   "source": [
    "dfwalk.shape"
   ]
  },
  {
   "cell_type": "markdown",
   "metadata": {},
   "source": [
    "### Run following cells for the following dataset structure:\n",
    "* df_accel: all 17 subjects + (walk || jog || run) + accel\n",
    "* df_gyro: all 17 subjects + (walk || jog || run) + gyro\n",
    "* df_quart: all 17 subjects + (walk || jog || run) + quart"
   ]
  },
  {
   "cell_type": "code",
   "execution_count": 8,
   "metadata": {},
   "outputs": [],
   "source": [
    "def splitSensor(df):\n",
    "    # index for time\n",
    "    idx_time = [0,1]\n",
    "    # index for activity\n",
    "    idx_activity = [119]\n",
    "    # index for accel sensor for S6 and S8\n",
    "    idx_accel = idx_time + [67, 68, 69, 93, 94, 95] + idx_activity\n",
    "    # index for gryo sensor for S6 and S8\n",
    "    idx_gyro = idx_time + [70, 71, 72, 96, 97, 98] + idx_activity\n",
    "    # index for quart sensor for S6 and S8\n",
    "    idx_quart = idx_time + [76, 77, 78, 79, 102, 103, 104, 105] + idx_activity\n",
    "    \n",
    "    return df[idx_accel], df[idx_gyro], df[idx_quart]"
   ]
  },
  {
   "cell_type": "code",
   "execution_count": 9,
   "metadata": {},
   "outputs": [],
   "source": [
    "dfaccel, dfgyro, dfquart = splitSensor(dfr)"
   ]
  },
  {
   "cell_type": "code",
   "execution_count": 10,
   "metadata": {},
   "outputs": [],
   "source": [
    "dfaccel.columns = ['Seconds', 'Microseconds', 'S6_AccX', 'S6_AccY', 'S6_AccZ', 'S8_AccX', 'S8_AccY', 'S8_AccZ', 'Activity']\n",
    "dfgyro.columns = ['Seconds', 'Microseconds', 'S6_GyrX', 'S6_GyrY', 'S6_GyrZ', 'S8_GyrX', 'S8_GyrY', 'S8_GyrZ', 'Activity']\n",
    "dfquart.columns = ['Seconds', 'Microseconds', 'S6_Q1', 'S6_Q2', 'S6_Q3', 'S6_Q4', 'S8_Q1', 'S8_Q2', 'S8_Q3', 'S8_Q4', 'Activity']"
   ]
  },
  {
   "cell_type": "code",
   "execution_count": 11,
   "metadata": {},
   "outputs": [
    {
     "data": {
      "text/html": [
       "<div>\n",
       "<style scoped>\n",
       "    .dataframe tbody tr th:only-of-type {\n",
       "        vertical-align: middle;\n",
       "    }\n",
       "\n",
       "    .dataframe tbody tr th {\n",
       "        vertical-align: top;\n",
       "    }\n",
       "\n",
       "    .dataframe thead th {\n",
       "        text-align: right;\n",
       "    }\n",
       "</style>\n",
       "<table border=\"1\" class=\"dataframe\">\n",
       "  <thead>\n",
       "    <tr style=\"text-align: right;\">\n",
       "      <th></th>\n",
       "      <th>S6_AccX</th>\n",
       "      <th>S6_AccY</th>\n",
       "      <th>S6_AccZ</th>\n",
       "      <th>S8_AccX</th>\n",
       "      <th>S8_AccY</th>\n",
       "      <th>S8_AccZ</th>\n",
       "    </tr>\n",
       "  </thead>\n",
       "  <tbody>\n",
       "    <tr>\n",
       "      <td>0</td>\n",
       "      <td>1.4122</td>\n",
       "      <td>-2.41950</td>\n",
       "      <td>14.6970</td>\n",
       "      <td>-3.8459</td>\n",
       "      <td>-5.679600</td>\n",
       "      <td>-4.0406</td>\n",
       "    </tr>\n",
       "    <tr>\n",
       "      <td>1</td>\n",
       "      <td>7.0918</td>\n",
       "      <td>-2.31050</td>\n",
       "      <td>18.3930</td>\n",
       "      <td>-12.1090</td>\n",
       "      <td>-2.293900</td>\n",
       "      <td>-6.4204</td>\n",
       "    </tr>\n",
       "    <tr>\n",
       "      <td>2</td>\n",
       "      <td>8.6302</td>\n",
       "      <td>-0.81221</td>\n",
       "      <td>15.4420</td>\n",
       "      <td>-22.5160</td>\n",
       "      <td>-1.304600</td>\n",
       "      <td>-4.8783</td>\n",
       "    </tr>\n",
       "    <tr>\n",
       "      <td>3</td>\n",
       "      <td>7.5291</td>\n",
       "      <td>1.03300</td>\n",
       "      <td>10.0310</td>\n",
       "      <td>-17.6310</td>\n",
       "      <td>0.057412</td>\n",
       "      <td>-1.6752</td>\n",
       "    </tr>\n",
       "    <tr>\n",
       "      <td>4</td>\n",
       "      <td>7.7501</td>\n",
       "      <td>2.09880</td>\n",
       "      <td>6.9139</td>\n",
       "      <td>-14.1530</td>\n",
       "      <td>-0.511720</td>\n",
       "      <td>-1.1493</td>\n",
       "    </tr>\n",
       "  </tbody>\n",
       "</table>\n",
       "</div>"
      ],
      "text/plain": [
       "   S6_AccX  S6_AccY  S6_AccZ  S8_AccX   S8_AccY  S8_AccZ\n",
       "0   1.4122 -2.41950  14.6970  -3.8459 -5.679600  -4.0406\n",
       "1   7.0918 -2.31050  18.3930 -12.1090 -2.293900  -6.4204\n",
       "2   8.6302 -0.81221  15.4420 -22.5160 -1.304600  -4.8783\n",
       "3   7.5291  1.03300  10.0310 -17.6310  0.057412  -1.6752\n",
       "4   7.7501  2.09880   6.9139 -14.1530 -0.511720  -1.1493"
      ]
     },
     "execution_count": 11,
     "metadata": {},
     "output_type": "execute_result"
    }
   ],
   "source": [
    "dfaccel = dfaccel.drop(['Seconds', 'Microseconds', 'Activity'], axis=1)\n",
    "dfaccel.head()"
   ]
  },
  {
   "cell_type": "code",
   "execution_count": 12,
   "metadata": {},
   "outputs": [
    {
     "data": {
      "text/plain": [
       "(40142, 6)"
      ]
     },
     "execution_count": 12,
     "metadata": {},
     "output_type": "execute_result"
    }
   ],
   "source": [
    "dfaccel.shape"
   ]
  },
  {
   "cell_type": "code",
   "execution_count": 13,
   "metadata": {},
   "outputs": [
    {
     "data": {
      "text/html": [
       "<div>\n",
       "<style scoped>\n",
       "    .dataframe tbody tr th:only-of-type {\n",
       "        vertical-align: middle;\n",
       "    }\n",
       "\n",
       "    .dataframe tbody tr th {\n",
       "        vertical-align: top;\n",
       "    }\n",
       "\n",
       "    .dataframe thead th {\n",
       "        text-align: right;\n",
       "    }\n",
       "</style>\n",
       "<table border=\"1\" class=\"dataframe\">\n",
       "  <thead>\n",
       "    <tr style=\"text-align: right;\">\n",
       "      <th></th>\n",
       "      <th>S6_GyrX</th>\n",
       "      <th>S6_GyrY</th>\n",
       "      <th>S6_GyrZ</th>\n",
       "      <th>S8_GyrX</th>\n",
       "      <th>S8_GyrY</th>\n",
       "      <th>S8_GyrZ</th>\n",
       "    </tr>\n",
       "  </thead>\n",
       "  <tbody>\n",
       "    <tr>\n",
       "      <td>0</td>\n",
       "      <td>-1.63200</td>\n",
       "      <td>-0.55933</td>\n",
       "      <td>0.941290</td>\n",
       "      <td>0.26695</td>\n",
       "      <td>1.5552</td>\n",
       "      <td>0.41222</td>\n",
       "    </tr>\n",
       "    <tr>\n",
       "      <td>1</td>\n",
       "      <td>-0.68447</td>\n",
       "      <td>1.45270</td>\n",
       "      <td>0.519170</td>\n",
       "      <td>1.29020</td>\n",
       "      <td>2.7345</td>\n",
       "      <td>1.06410</td>\n",
       "    </tr>\n",
       "    <tr>\n",
       "      <td>2</td>\n",
       "      <td>-1.31230</td>\n",
       "      <td>3.91880</td>\n",
       "      <td>0.030051</td>\n",
       "      <td>1.61850</td>\n",
       "      <td>2.4691</td>\n",
       "      <td>0.93687</td>\n",
       "    </tr>\n",
       "    <tr>\n",
       "      <td>3</td>\n",
       "      <td>-1.23930</td>\n",
       "      <td>5.87110</td>\n",
       "      <td>0.097996</td>\n",
       "      <td>1.14530</td>\n",
       "      <td>3.5412</td>\n",
       "      <td>0.56630</td>\n",
       "    </tr>\n",
       "    <tr>\n",
       "      <td>4</td>\n",
       "      <td>-1.15990</td>\n",
       "      <td>6.80680</td>\n",
       "      <td>0.307600</td>\n",
       "      <td>0.65851</td>\n",
       "      <td>3.8733</td>\n",
       "      <td>-0.14329</td>\n",
       "    </tr>\n",
       "  </tbody>\n",
       "</table>\n",
       "</div>"
      ],
      "text/plain": [
       "   S6_GyrX  S6_GyrY   S6_GyrZ  S8_GyrX  S8_GyrY  S8_GyrZ\n",
       "0 -1.63200 -0.55933  0.941290  0.26695   1.5552  0.41222\n",
       "1 -0.68447  1.45270  0.519170  1.29020   2.7345  1.06410\n",
       "2 -1.31230  3.91880  0.030051  1.61850   2.4691  0.93687\n",
       "3 -1.23930  5.87110  0.097996  1.14530   3.5412  0.56630\n",
       "4 -1.15990  6.80680  0.307600  0.65851   3.8733 -0.14329"
      ]
     },
     "execution_count": 13,
     "metadata": {},
     "output_type": "execute_result"
    }
   ],
   "source": [
    "dfgyro = dfgyro.drop(['Seconds', 'Microseconds', 'Activity'], axis=1)\n",
    "dfgyro.head()"
   ]
  },
  {
   "cell_type": "code",
   "execution_count": 14,
   "metadata": {},
   "outputs": [
    {
     "data": {
      "text/plain": [
       "(40142, 6)"
      ]
     },
     "execution_count": 14,
     "metadata": {},
     "output_type": "execute_result"
    }
   ],
   "source": [
    "dfgyro.shape"
   ]
  },
  {
   "cell_type": "code",
   "execution_count": 15,
   "metadata": {},
   "outputs": [
    {
     "data": {
      "text/html": [
       "<div>\n",
       "<style scoped>\n",
       "    .dataframe tbody tr th:only-of-type {\n",
       "        vertical-align: middle;\n",
       "    }\n",
       "\n",
       "    .dataframe tbody tr th {\n",
       "        vertical-align: top;\n",
       "    }\n",
       "\n",
       "    .dataframe thead th {\n",
       "        text-align: right;\n",
       "    }\n",
       "</style>\n",
       "<table border=\"1\" class=\"dataframe\">\n",
       "  <thead>\n",
       "    <tr style=\"text-align: right;\">\n",
       "      <th></th>\n",
       "      <th>S6_Q1</th>\n",
       "      <th>S6_Q2</th>\n",
       "      <th>S6_Q3</th>\n",
       "      <th>S6_Q4</th>\n",
       "      <th>S8_Q1</th>\n",
       "      <th>S8_Q2</th>\n",
       "      <th>S8_Q3</th>\n",
       "      <th>S8_Q4</th>\n",
       "    </tr>\n",
       "  </thead>\n",
       "  <tbody>\n",
       "    <tr>\n",
       "      <td>0</td>\n",
       "      <td>-0.13994</td>\n",
       "      <td>0.17305</td>\n",
       "      <td>0.022179</td>\n",
       "      <td>-0.97467</td>\n",
       "      <td>-0.72138</td>\n",
       "      <td>0.15473</td>\n",
       "      <td>-0.65619</td>\n",
       "      <td>-0.15837</td>\n",
       "    </tr>\n",
       "    <tr>\n",
       "      <td>1</td>\n",
       "      <td>-0.13406</td>\n",
       "      <td>0.18831</td>\n",
       "      <td>0.025613</td>\n",
       "      <td>-0.97258</td>\n",
       "      <td>-0.70337</td>\n",
       "      <td>0.14305</td>\n",
       "      <td>-0.67923</td>\n",
       "      <td>-0.15311</td>\n",
       "    </tr>\n",
       "    <tr>\n",
       "      <td>2</td>\n",
       "      <td>-0.13217</td>\n",
       "      <td>0.22793</td>\n",
       "      <td>0.033093</td>\n",
       "      <td>-0.96410</td>\n",
       "      <td>-0.68718</td>\n",
       "      <td>0.12908</td>\n",
       "      <td>-0.70003</td>\n",
       "      <td>-0.14520</td>\n",
       "    </tr>\n",
       "    <tr>\n",
       "      <td>3</td>\n",
       "      <td>-0.13012</td>\n",
       "      <td>0.28571</td>\n",
       "      <td>0.036735</td>\n",
       "      <td>-0.94873</td>\n",
       "      <td>-0.66257</td>\n",
       "      <td>0.12266</td>\n",
       "      <td>-0.72622</td>\n",
       "      <td>-0.13621</td>\n",
       "    </tr>\n",
       "    <tr>\n",
       "      <td>4</td>\n",
       "      <td>-0.12607</td>\n",
       "      <td>0.35101</td>\n",
       "      <td>0.037964</td>\n",
       "      <td>-0.92707</td>\n",
       "      <td>-0.63498</td>\n",
       "      <td>0.12456</td>\n",
       "      <td>-0.75198</td>\n",
       "      <td>-0.12572</td>\n",
       "    </tr>\n",
       "  </tbody>\n",
       "</table>\n",
       "</div>"
      ],
      "text/plain": [
       "     S6_Q1    S6_Q2     S6_Q3    S6_Q4    S8_Q1    S8_Q2    S8_Q3    S8_Q4\n",
       "0 -0.13994  0.17305  0.022179 -0.97467 -0.72138  0.15473 -0.65619 -0.15837\n",
       "1 -0.13406  0.18831  0.025613 -0.97258 -0.70337  0.14305 -0.67923 -0.15311\n",
       "2 -0.13217  0.22793  0.033093 -0.96410 -0.68718  0.12908 -0.70003 -0.14520\n",
       "3 -0.13012  0.28571  0.036735 -0.94873 -0.66257  0.12266 -0.72622 -0.13621\n",
       "4 -0.12607  0.35101  0.037964 -0.92707 -0.63498  0.12456 -0.75198 -0.12572"
      ]
     },
     "execution_count": 15,
     "metadata": {},
     "output_type": "execute_result"
    }
   ],
   "source": [
    "dfquart = dfquart.drop(['Seconds', 'Microseconds', 'Activity'], axis=1)\n",
    "dfquart.head()"
   ]
  },
  {
   "cell_type": "code",
   "execution_count": 16,
   "metadata": {},
   "outputs": [
    {
     "data": {
      "text/plain": [
       "(40142, 8)"
      ]
     },
     "execution_count": 16,
     "metadata": {},
     "output_type": "execute_result"
    }
   ],
   "source": [
    "dfquart.shape"
   ]
  },
  {
   "cell_type": "code",
   "execution_count": 17,
   "metadata": {},
   "outputs": [],
   "source": [
    "standscale = StandardScaler()\n",
    "dfaccel = standscale.fit_transform(dfaccel)\n",
    "dfgyro = standscale.fit_transform(dfgyro)\n",
    "dfquart = standscale.fit_transform(dfquart)"
   ]
  },
  {
   "cell_type": "code",
   "execution_count": 18,
   "metadata": {},
   "outputs": [],
   "source": [
    "train_size = np.int(len(dfaccel) * 0.8)\n",
    "train_accel, test_accel = dfaccel[:train_size], dfaccel[train_size:]\n",
    "train_gyro, test_gyro = dfgyro[:train_size], dfgyro[train_size:]\n",
    "train_quart, test_quart = dfquart[:train_size], dfquart[train_size:]"
   ]
  },
  {
   "cell_type": "code",
   "execution_count": 19,
   "metadata": {},
   "outputs": [
    {
     "data": {
      "text/plain": [
       "(8029, 6)"
      ]
     },
     "execution_count": 19,
     "metadata": {},
     "output_type": "execute_result"
    }
   ],
   "source": [
    "test_accel.shape"
   ]
  },
  {
   "cell_type": "code",
   "execution_count": 20,
   "metadata": {},
   "outputs": [],
   "source": [
    "seed = 42\n",
    "np.random.seed(seed)"
   ]
  },
  {
   "cell_type": "code",
   "execution_count": 21,
   "metadata": {},
   "outputs": [],
   "source": [
    "# Config\n",
    "encoder_dimension = 42\n",
    "EPOCH = 20\n",
    "BATCH_SIZE = 24"
   ]
  },
  {
   "cell_type": "code",
   "execution_count": 37,
   "metadata": {},
   "outputs": [],
   "source": [
    "def build_model(train_accel, train_gyro, train_quart):\n",
    "    # Input dimension\n",
    "    accel_dim = train_accel.shape[1]\n",
    "    gyro_dim = train_gyro.shape[1]\n",
    "    quart_dim = train_quart.shape[1]\n",
    "    # All input\n",
    "    input_accel = Input(shape=(accel_dim,), name='Input_Accel')\n",
    "    input_gyro = Input(shape=(gyro_dim,), name='Input_Gyro')\n",
    "    input_quart = Input(shape=(quart_dim,), name='Input_Quart')\n",
    "    # Autoencoder branch for Accel\n",
    "    accel_encoder = Dense(50, activation='relu', name='Encoder1_Accel')(input_accel)\n",
    "    accel_encoder = Dense(25, activation='relu', name='Encoder2_Accel')(accel_encoder)\n",
    "    # Autoencoder branch for Gyro\n",
    "    gyro_encoder = Dense(50, activation='relu', name='Encoder1_Gyro')(input_gyro)\n",
    "    gyro_encoder = Dense(25, activation='relu', name='Encoder2_Gyro')(gyro_encoder)\n",
    "    # Autoencoder branch for Quart\n",
    "    quart_encoder = Dense(50, activation='relu', name='Encoder1_Quart')(input_quart)\n",
    "    quart_encoder = Dense(25, activation='relu', name='Encoder2_Quart')(quart_encoder)\n",
    "    # Shared layer\n",
    "    shared_input = Concatenate(name='Concatenate')([accel_encoder, gyro_encoder, quart_encoder])\n",
    "    decoder = Dense(5, activation='relu', name='Shared_Hidden_Layer')(shared_input)\n",
    "    decoder = Dense(25, activation='relu', name='Decoder1')(decoder)\n",
    "    decoder = Dense(50, activation='relu', name='Decoder2')(decoder)\n",
    "    decoder = Dense(6, activation='relu', name='Output')(decoder)\n",
    "    model = Model(inputs=([input_accel, input_gyro, input_quart]), outputs=decoder)\n",
    "    return model"
   ]
  },
  {
   "cell_type": "code",
   "execution_count": 38,
   "metadata": {},
   "outputs": [
    {
     "name": "stdout",
     "output_type": "stream",
     "text": [
      "__________________________________________________________________________________________________\n",
      "Layer (type)                    Output Shape         Param #     Connected to                     \n",
      "==================================================================================================\n",
      "Input_Accel (InputLayer)        (None, 6)            0                                            \n",
      "__________________________________________________________________________________________________\n",
      "Input_Gyro (InputLayer)         (None, 6)            0                                            \n",
      "__________________________________________________________________________________________________\n",
      "Input_Quart (InputLayer)        (None, 8)            0                                            \n",
      "__________________________________________________________________________________________________\n",
      "Encoder1_Accel (Dense)          (None, 50)           350         Input_Accel[0][0]                \n",
      "__________________________________________________________________________________________________\n",
      "Encoder1_Gyro (Dense)           (None, 50)           350         Input_Gyro[0][0]                 \n",
      "__________________________________________________________________________________________________\n",
      "Encoder1_Quart (Dense)          (None, 50)           450         Input_Quart[0][0]                \n",
      "__________________________________________________________________________________________________\n",
      "Encoder2_Accel (Dense)          (None, 25)           1275        Encoder1_Accel[0][0]             \n",
      "__________________________________________________________________________________________________\n",
      "Encoder2_Gyro (Dense)           (None, 25)           1275        Encoder1_Gyro[0][0]              \n",
      "__________________________________________________________________________________________________\n",
      "Encoder2_Quart (Dense)          (None, 25)           1275        Encoder1_Quart[0][0]             \n",
      "__________________________________________________________________________________________________\n",
      "Concatenate (Concatenate)       (None, 75)           0           Encoder2_Accel[0][0]             \n",
      "                                                                 Encoder2_Gyro[0][0]              \n",
      "                                                                 Encoder2_Quart[0][0]             \n",
      "__________________________________________________________________________________________________\n",
      "Shared_Hidden_Layer (Dense)     (None, 5)            380         Concatenate[0][0]                \n",
      "__________________________________________________________________________________________________\n",
      "Decoder1 (Dense)                (None, 25)           150         Shared_Hidden_Layer[0][0]        \n",
      "__________________________________________________________________________________________________\n",
      "Decoder2 (Dense)                (None, 50)           1300        Decoder1[0][0]                   \n",
      "__________________________________________________________________________________________________\n",
      "Output (Dense)                  (None, 6)            306         Decoder2[0][0]                   \n",
      "==================================================================================================\n",
      "Total params: 7,111\n",
      "Trainable params: 7,111\n",
      "Non-trainable params: 0\n",
      "__________________________________________________________________________________________________\n"
     ]
    }
   ],
   "source": [
    "model = build_model(train_accel, train_gyro, train_quart)\n",
    "model.summary()"
   ]
  },
  {
   "cell_type": "code",
   "execution_count": 39,
   "metadata": {},
   "outputs": [
    {
     "data": {
      "image/png": "[encoded data removed]",
      "text/plain": [
       "<IPython.core.display.Image object>"
      ]
     },
     "execution_count": 39,
     "metadata": {},
     "output_type": "execute_result"
    }
   ],
   "source": [
    "plot_model(model, \n",
    "           to_file='model.png', \n",
    "           show_shapes=True,\n",
    "           show_layer_names=True)\n",
    "IPython.display.Image('model.png')"
   ]
  },
  {
   "cell_type": "code",
   "execution_count": 40,
   "metadata": {},
   "outputs": [],
   "source": [
    "model.compile(optimizer='adam', metrics=['accuracy'], loss=['mean_squared_logarithmic_error'])"
   ]
  },
  {
   "cell_type": "code",
   "execution_count": 41,
   "metadata": {},
   "outputs": [],
   "source": [
    "callbacks = [\n",
    "    ReduceLROnPlateau(monitor='val_loss', patience=5, cooldown=0),\n",
    "    EarlyStopping(monitor='val_acc', min_delta=1e-4, patience=5)\n",
    "]"
   ]
  },
  {
   "cell_type": "code",
   "execution_count": 42,
   "metadata": {},
   "outputs": [
    {
     "name": "stdout",
     "output_type": "stream",
     "text": [
      "Train on 28901 samples, validate on 3212 samples\n",
      "Epoch 1/20\n",
      "28901/28901 [==============================] - 8s 287us/step - loss: 0.0235 - acc: 0.7944 - val_loss: 0.0021 - val_acc: 0.9580\n",
      "Epoch 2/20\n",
      "28901/28901 [==============================] - 8s 261us/step - loss: 0.0045 - acc: 0.9221 - val_loss: 0.0014 - val_acc: 0.9710\n",
      "Epoch 3/20\n",
      "28901/28901 [==============================] - 8s 260us/step - loss: 0.0030 - acc: 0.9396 - val_loss: 0.0010 - val_acc: 0.9648\n",
      "Epoch 4/20\n",
      "28901/28901 [==============================] - 7s 259us/step - loss: 0.0024 - acc: 0.9455 - val_loss: 9.6940e-04 - val_acc: 0.9751\n",
      "Epoch 5/20\n",
      "28901/28901 [==============================] - 7s 259us/step - loss: 0.0020 - acc: 0.9522 - val_loss: 7.5130e-04 - val_acc: 0.9776\n",
      "Epoch 6/20\n",
      "28901/28901 [==============================] - 8s 260us/step - loss: 0.0018 - acc: 0.9546 - val_loss: 8.0935e-04 - val_acc: 0.9738\n",
      "Epoch 7/20\n",
      "28901/28901 [==============================] - 8s 261us/step - loss: 0.0017 - acc: 0.9561 - val_loss: 6.1613e-04 - val_acc: 0.9829\n",
      "Epoch 8/20\n",
      "28901/28901 [==============================] - 7s 258us/step - loss: 0.0016 - acc: 0.9570 - val_loss: 5.3792e-04 - val_acc: 0.9782\n",
      "Epoch 9/20\n",
      "28901/28901 [==============================] - 7s 258us/step - loss: 0.0015 - acc: 0.9583 - val_loss: 5.3358e-04 - val_acc: 0.9745\n",
      "Epoch 10/20\n",
      "28901/28901 [==============================] - 8s 271us/step - loss: 0.0014 - acc: 0.9594 - val_loss: 4.7258e-04 - val_acc: 0.9804\n",
      "Epoch 11/20\n",
      "28901/28901 [==============================] - 8s 274us/step - loss: 0.0013 - acc: 0.9605 - val_loss: 3.9292e-04 - val_acc: 0.9816\n",
      "Epoch 12/20\n",
      "28901/28901 [==============================] - 8s 262us/step - loss: 0.0013 - acc: 0.9611 - val_loss: 3.4964e-04 - val_acc: 0.9844\n",
      "Epoch 13/20\n",
      "28901/28901 [==============================] - 8s 266us/step - loss: 0.0012 - acc: 0.9624 - val_loss: 3.3990e-04 - val_acc: 0.9801\n",
      "Epoch 14/20\n",
      "28901/28901 [==============================] - 8s 262us/step - loss: 0.0012 - acc: 0.9625 - val_loss: 4.3966e-04 - val_acc: 0.9782\n",
      "Epoch 15/20\n",
      "28901/28901 [==============================] - 8s 260us/step - loss: 0.0012 - acc: 0.9618 - val_loss: 4.1955e-04 - val_acc: 0.9844\n",
      "Epoch 16/20\n",
      "28901/28901 [==============================] - 8s 262us/step - loss: 0.0011 - acc: 0.9630 - val_loss: 3.0200e-04 - val_acc: 0.9838\n",
      "Epoch 17/20\n",
      "28901/28901 [==============================] - 8s 263us/step - loss: 0.0011 - acc: 0.9633 - val_loss: 3.6106e-04 - val_acc: 0.9847\n",
      "Epoch 18/20\n",
      "28901/28901 [==============================] - 8s 261us/step - loss: 7.9570e-04 - acc: 0.9715 - val_loss: 2.3111e-04 - val_acc: 0.9832\n",
      "Epoch 19/20\n",
      "28901/28901 [==============================] - 8s 260us/step - loss: 7.5707e-04 - acc: 0.9723 - val_loss: 2.2878e-04 - val_acc: 0.9819\n",
      "Epoch 20/20\n",
      "28901/28901 [==============================] - 8s 260us/step - loss: 7.4044e-04 - acc: 0.9722 - val_loss: 2.3674e-04 - val_acc: 0.9844\n",
      "Wall time: 2min 32s\n"
     ]
    }
   ],
   "source": [
    "%%time\n",
    "history = model.fit([train_accel, train_gyro, train_quart], train_accel, \n",
    "                    validation_split=0.1, epochs=EPOCH, batch_size=BATCH_SIZE, shuffle=True, callbacks=callbacks)"
   ]
  },
  {
   "cell_type": "code",
   "execution_count": 43,
   "metadata": {},
   "outputs": [
    {
     "name": "stdout",
     "output_type": "stream",
     "text": [
      "8029/8029 [==============================] - 0s 48us/step\n",
      "Test Score: 0.004543455947743935\n",
      "Test Acc: 0.9404658113667403\n"
     ]
    }
   ],
   "source": [
    "test_predict = model.predict([test_accel, test_gyro, test_quart])\n",
    "score, acc = model.evaluate([test_accel, test_gyro, test_quart], test_accel, batch_size=32)\n",
    "print(f'Test Score: {score}')\n",
    "print(f'Test Acc: {acc}')"
   ]
  },
  {
   "cell_type": "code",
   "execution_count": 44,
   "metadata": {},
   "outputs": [
    {
     "name": "stdout",
     "output_type": "stream",
     "text": [
      "dict_keys(['val_loss', 'val_acc', 'loss', 'acc', 'lr'])\n"
     ]
    }
   ],
   "source": [
    "# list all data in history\n",
    "print(history.history.keys())"
   ]
  },
  {
   "cell_type": "code",
   "execution_count": 45,
   "metadata": {},
   "outputs": [
    {
     "data": {
      "image/png": "[encoded data removed]",
      "text/plain": [
       "<Figure size 432x288 with 1 Axes>"
      ]
     },
     "metadata": {
      "needs_background": "light"
     },
     "output_type": "display_data"
    }
   ],
   "source": [
    "# summarize history for accuracy\n",
    "plt.plot(history.history['acc'])\n",
    "plt.plot(history.history['val_acc'])\n",
    "plt.title('model accuracy')\n",
    "plt.ylabel('accuracy')\n",
    "plt.xlabel('epoch')\n",
    "plt.legend(['train', 'test'], loc='upper left')\n",
    "plt.show()"
   ]
  },
  {
   "cell_type": "code",
   "execution_count": 46,
   "metadata": {},
   "outputs": [
    {
     "data": {
      "image/png": "[encoded data removed]",
      "text/plain": [
       "<Figure size 432x288 with 1 Axes>"
      ]
     },
     "metadata": {
      "needs_background": "light"
     },
     "output_type": "display_data"
    }
   ],
   "source": [
    "# summarize history for loss\n",
    "plt.plot(history.history['loss'])\n",
    "plt.plot(history.history['val_loss'])\n",
    "plt.title('model loss')\n",
    "plt.ylabel('loss')\n",
    "plt.xlabel('epoch')\n",
    "plt.legend(['train', 'test'], loc='upper left')\n",
    "plt.show()"
   ]
  },
  {
   "cell_type": "code",
   "execution_count": 47,
   "metadata": {},
   "outputs": [
    {
     "name": "stdout",
     "output_type": "stream",
     "text": [
      "0.9404658113667403\n"
     ]
    }
   ],
   "source": [
    "threshold = 6\n",
    "dist = np.linalg.norm(test_accel - test_predict, axis=1)\n",
    "print(acc)"
   ]
  },
  {
   "cell_type": "code",
   "execution_count": 33,
   "metadata": {},
   "outputs": [
    {
     "ename": "ValueError",
     "evalue": "The truth value of an array with more than one element is ambiguous. Use a.any() or a.all()",
     "output_type": "error",
     "traceback": [
      "\u001b[1;31m---------------------------------------------------------------------------\u001b[0m",
      "\u001b[1;31mValueError\u001b[0m                                Traceback (most recent call last)",
      "\u001b[1;32m<ipython-input-33-4d31b18f120e>\u001b[0m in \u001b[0;36m<module>\u001b[1;34m\u001b[0m\n\u001b[1;32m----> 1\u001b[1;33m \u001b[1;32mif\u001b[0m \u001b[1;33m(\u001b[0m\u001b[0mdist\u001b[0m \u001b[1;33m>\u001b[0m \u001b[0mthreshold\u001b[0m\u001b[1;33m)\u001b[0m\u001b[1;33m:\u001b[0m\u001b[1;33m\u001b[0m\u001b[1;33m\u001b[0m\u001b[0m\n\u001b[0m\u001b[0;32m      2\u001b[0m     \u001b[0mprint\u001b[0m\u001b[1;33m(\u001b[0m\u001b[1;34m'Anomaly'\u001b[0m\u001b[1;33m)\u001b[0m\u001b[1;33m\u001b[0m\u001b[1;33m\u001b[0m\u001b[0m\n\u001b[0;32m      3\u001b[0m \u001b[1;32melse\u001b[0m\u001b[1;33m:\u001b[0m\u001b[1;33m\u001b[0m\u001b[1;33m\u001b[0m\u001b[0m\n\u001b[0;32m      4\u001b[0m     \u001b[0mprint\u001b[0m\u001b[1;33m(\u001b[0m\u001b[1;34m'Normal'\u001b[0m\u001b[1;33m)\u001b[0m\u001b[1;33m\u001b[0m\u001b[1;33m\u001b[0m\u001b[0m\n",
      "\u001b[1;31mValueError\u001b[0m: The truth value of an array with more than one element is ambiguous. Use a.any() or a.all()"
     ]
    }
   ],
   "source": [
    "if (dist > threshold):\n",
    "    print('Anomaly')\n",
    "else:\n",
    "    print('Normal')    "
   ]
  },
  {
   "cell_type": "code",
   "execution_count": null,
   "metadata": {},
   "outputs": [],
   "source": []
  }
 ],
 "metadata": {
  "kernelspec": {
   "display_name": "Python 3",
   "language": "python",
   "name": "python3"
  },
  "language_info": {
   "codemirror_mode": {
    "name": "ipython",
    "version": 3
   },
   "file_extension": ".py",
   "mimetype": "text/x-python",
   "name": "python",
   "nbconvert_exporter": "python",
   "pygments_lexer": "ipython3",
   "version": "3.6.7"
  }
 },
 "nbformat": 4,
 "nbformat_minor": 4
}
