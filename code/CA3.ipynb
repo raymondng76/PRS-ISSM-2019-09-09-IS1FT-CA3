{
 "cells": [
  {
   "cell_type": "markdown",
   "metadata": {},
   "source": [
    "### ISSM CA3"
   ]
  },
  {
   "cell_type": "code",
   "execution_count": 50,
   "metadata": {},
   "outputs": [],
   "source": [
    "import numpy as np\n",
    "import pandas as pd\n",
    "import matplotlib.pyplot as plt\n",
    "%matplotlib inline\n",
    "\n",
    "import os\n",
    "import glob\n",
    "import time\n",
    "\n",
    "from keras.layers import Input, Dense, Concatenate\n",
    "from keras.models import Model\n",
    "\n",
    "from sklearn.model_selection import train_test_split"
   ]
  },
  {
   "cell_type": "markdown",
   "metadata": {},
   "source": [
    "### Dataset attributes\n",
    "Column 1: Timestamp in seconds  \n",
    "Column 2: Timestamp in microseconds  \n",
    "Column 3-15: [AccX, AccY, AccZ, GyrX, GyrY, GyrZ, MagX, MagY, MagZ, Q1, Q2, Q3, Q4] of sensor S1 (Left Calf)  \n",
    "Column 16-28: [AccX, AccY, AccZ, GyrX, GyrY, GyrZ, MagX, MagY, MagZ, Q1, Q2, Q3, Q4] of sensor S2 (Left Thigh)  \n",
    "Column 29-41: [AccX, AccY, AccZ, GyrX, GyrY, GyrZ, MagX, MagY, MagZ, Q1, Q2, Q3, Q4] of sensor S3 (Right Calf)  \n",
    "Column 42-54: [AccX, AccY, AccZ, GyrX, GyrY, GyrZ, MagX, MagY, MagZ, Q1, Q2, Q3, Q4] of sensor S4 (Right Thigh)  \n",
    "Column 55-67: [AccX, AccY, AccZ, GyrX, GyrY, GyrZ, MagX, MagY, MagZ, Q1, Q2, Q3, Q4] of sensor S5 (Back)  \n",
    "Column 68-80: [AccX, AccY, AccZ, GyrX, GyrY, GyrZ, MagX, MagY, MagZ, Q1, Q2, Q3, Q4] of sensor S6 (Left Lower Arm)  \n",
    "Column 81-93: [AccX, AccY, AccZ, GyrX, GyrY, GyrZ, MagX, MagY, MagZ, Q1, Q2, Q3, Q4] of sensor S7 (Left Upper Arm)  \n",
    "Column 94-106: [AccX, AccY, AccZ, GyrX, GyrY, GyrZ, MagX, MagY, MagZ, Q1, Q2, Q3, Q4] of sensor S8 (Right Lower Arm)  \n",
    "Column 107-119: [AccX, AccY, AccZ, GyrX, GyrY, GyrZ, MagX, MagY, MagZ, Q1, Q2, Q3, Q4] of sensor S9 (Right Upper Arm)  \n",
    "Column 120: Label (see activity set) [Walking = 1] [Jogging = 2] [Running = 3]"
   ]
  },
  {
   "cell_type": "markdown",
   "metadata": {},
   "source": [
    "### Run following cells for the following dataset structure:\n",
    "* df_walk : all 17 subjects + walking + (accel + gyro + quart)  \n",
    "* df_jog : all 17 subjects + jogging + (accel + gyro + quart)  \n",
    "* df_run : all 17 subjects + running + (accel + gyro + quart)  \n",
    "    \n",
    "Col[0]: Timestamp in seconds  \n",
    "Col[1]: Timestamp in microseconds  \n",
    "Col[67-79]: Sensor S6 (without Mag sensor [74 - 76])  \n",
    "Col[93-105]: Sensor S8 (without Mag sensor [100 - 103])  \n",
    "Col[119]: Activity Label"
   ]
  },
  {
   "cell_type": "code",
   "execution_count": 2,
   "metadata": {},
   "outputs": [],
   "source": [
    "data_dir = '..\\dataset'\n",
    "# This method reads all dataset and filter out walking, jogging and running activities\n",
    "def readcsvDataset(directory):\n",
    "    files = glob.glob(directory + '\\*.csv')\n",
    "    df_walk = []\n",
    "    df_jog = []\n",
    "    df_run = []\n",
    "    for file in files:\n",
    "        df_all = pd.read_csv(file, header=None, delim_whitespace=True)\n",
    "        df_walk.append(df_all[df_all[119] == 1])\n",
    "        df_jog.append(df_all[df_all[119] == 2])\n",
    "        df_run.append(df_all[df_all[119] == 3])\n",
    "    return pd.concat(df_walk, ignore_index=True), pd.concat(df_jog, ignore_index=True), pd.concat(df_run, ignore_index=True)"
   ]
  },
  {
   "cell_type": "code",
   "execution_count": 3,
   "metadata": {},
   "outputs": [],
   "source": [
    "# This method removes all positional sensors other than left/right lower arm, as well as Magnetic sensors\n",
    "def removeOtherSensor(df_walk, df_jog, df_run):\n",
    "    # [2:67] S1 to S5\n",
    "    # [73:76] Mag sensor for S6\n",
    "    # [80:93] S7\n",
    "    # [99:102] Mag sensor for S8\n",
    "    # [106:119] S9\n",
    "    idx = np.r_[2:67, 73:76, 80:93, 99,102, 106:119]\n",
    "    return df_walk.drop(df_walk.columns[idx], axis=1), df_jog.drop(df_jog.columns[idx], axis=1), df_run.drop(df_run.columns[idx], axis=1)"
   ]
  },
  {
   "cell_type": "code",
   "execution_count": 89,
   "metadata": {},
   "outputs": [
    {
     "name": "stdout",
     "output_type": "stream",
     "text": [
      "Wall time: 38.1 s\n"
     ]
    }
   ],
   "source": [
    "%%time\n",
    "dfw, dfj, dfr = readcsvDataset(data_dir)"
   ]
  },
  {
   "cell_type": "code",
   "execution_count": 28,
   "metadata": {},
   "outputs": [],
   "source": [
    "dfwalk, dfjog, dfrun = removeOtherSensor(dfw, dfj, dfr):"
   ]
  },
  {
   "cell_type": "code",
   "execution_count": 26,
   "metadata": {},
   "outputs": [
    {
     "data": {
      "text/plain": [
       "(45638, 24)"
      ]
     },
     "execution_count": 26,
     "metadata": {},
     "output_type": "execute_result"
    }
   ],
   "source": [
    "dfwalk.shape"
   ]
  },
  {
   "cell_type": "markdown",
   "metadata": {},
   "source": [
    "### Run following cells for the following dataset structure:\n",
    "* df_accel: all 17 subjects + (walk || jog || run) + accel\n",
    "* df_gyro: all 17 subjects + (walk || jog || run) + gyro\n",
    "* df_quart: all 17 subjects + (walk || jog || run) + quart"
   ]
  },
  {
   "cell_type": "code",
   "execution_count": 132,
   "metadata": {},
   "outputs": [],
   "source": [
    "def splitSensor(df):\n",
    "    # index for time\n",
    "    idx_time = [0,1]\n",
    "    # index for activity\n",
    "    idx_activity = [119]\n",
    "    # index for accel sensor for S6 and S8\n",
    "    idx_accel = idx_time + [67, 68, 69, 93, 94, 95] + idx_activity\n",
    "    # index for gryo sensor for S6 and S8\n",
    "    idx_gyro = idx_time + [70, 71, 72, 96, 97, 98] + idx_activity\n",
    "    # index for quart sensor for S6 and S8\n",
    "    idx_quart = idx_time + [76, 77, 78, 79, 102, 103, 104, 105] + idx_activity\n",
    "    \n",
    "    return df[idx_accel], df[idx_gyro], df[idx_quart]"
   ]
  },
  {
   "cell_type": "code",
   "execution_count": 133,
   "metadata": {},
   "outputs": [],
   "source": [
    "dfaccel, dfgyro, dfquart = splitSensor(dfr)"
   ]
  },
  {
   "cell_type": "code",
   "execution_count": 134,
   "metadata": {},
   "outputs": [],
   "source": [
    "dfaccel.columns = ['Seconds', 'Microseconds', 'S6_AccX', 'S6_AccY', 'S6_AccZ', 'S8_AccX', 'S8_AccY', 'S8_AccZ', 'Activity']\n",
    "dfgyro.columns = ['Seconds', 'Microseconds', 'S6_GyrX', 'S6_GyrY', 'S6_GyrZ', 'S8_GyrX', 'S8_GyrY', 'S8_GyrZ', 'Activity']\n",
    "dfquart.columns = ['Seconds', 'Microseconds', 'S6_Q1', 'S6_Q2', 'S6_Q3', 'S6_Q4', 'S8_Q1', 'S8_Q2', 'S8_Q3', 'S8_Q4', 'Activity']"
   ]
  },
  {
   "cell_type": "code",
   "execution_count": 135,
   "metadata": {},
   "outputs": [
    {
     "data": {
      "text/html": [
       "<div>\n",
       "<style scoped>\n",
       "    .dataframe tbody tr th:only-of-type {\n",
       "        vertical-align: middle;\n",
       "    }\n",
       "\n",
       "    .dataframe tbody tr th {\n",
       "        vertical-align: top;\n",
       "    }\n",
       "\n",
       "    .dataframe thead th {\n",
       "        text-align: right;\n",
       "    }\n",
       "</style>\n",
       "<table border=\"1\" class=\"dataframe\">\n",
       "  <thead>\n",
       "    <tr style=\"text-align: right;\">\n",
       "      <th></th>\n",
       "      <th>S6_AccX</th>\n",
       "      <th>S6_AccY</th>\n",
       "      <th>S6_AccZ</th>\n",
       "      <th>S8_AccX</th>\n",
       "      <th>S8_AccY</th>\n",
       "      <th>S8_AccZ</th>\n",
       "    </tr>\n",
       "  </thead>\n",
       "  <tbody>\n",
       "    <tr>\n",
       "      <td>0</td>\n",
       "      <td>1.4122</td>\n",
       "      <td>-2.41950</td>\n",
       "      <td>14.6970</td>\n",
       "      <td>-3.8459</td>\n",
       "      <td>-5.679600</td>\n",
       "      <td>-4.0406</td>\n",
       "    </tr>\n",
       "    <tr>\n",
       "      <td>1</td>\n",
       "      <td>7.0918</td>\n",
       "      <td>-2.31050</td>\n",
       "      <td>18.3930</td>\n",
       "      <td>-12.1090</td>\n",
       "      <td>-2.293900</td>\n",
       "      <td>-6.4204</td>\n",
       "    </tr>\n",
       "    <tr>\n",
       "      <td>2</td>\n",
       "      <td>8.6302</td>\n",
       "      <td>-0.81221</td>\n",
       "      <td>15.4420</td>\n",
       "      <td>-22.5160</td>\n",
       "      <td>-1.304600</td>\n",
       "      <td>-4.8783</td>\n",
       "    </tr>\n",
       "    <tr>\n",
       "      <td>3</td>\n",
       "      <td>7.5291</td>\n",
       "      <td>1.03300</td>\n",
       "      <td>10.0310</td>\n",
       "      <td>-17.6310</td>\n",
       "      <td>0.057412</td>\n",
       "      <td>-1.6752</td>\n",
       "    </tr>\n",
       "    <tr>\n",
       "      <td>4</td>\n",
       "      <td>7.7501</td>\n",
       "      <td>2.09880</td>\n",
       "      <td>6.9139</td>\n",
       "      <td>-14.1530</td>\n",
       "      <td>-0.511720</td>\n",
       "      <td>-1.1493</td>\n",
       "    </tr>\n",
       "  </tbody>\n",
       "</table>\n",
       "</div>"
      ],
      "text/plain": [
       "   S6_AccX  S6_AccY  S6_AccZ  S8_AccX   S8_AccY  S8_AccZ\n",
       "0   1.4122 -2.41950  14.6970  -3.8459 -5.679600  -4.0406\n",
       "1   7.0918 -2.31050  18.3930 -12.1090 -2.293900  -6.4204\n",
       "2   8.6302 -0.81221  15.4420 -22.5160 -1.304600  -4.8783\n",
       "3   7.5291  1.03300  10.0310 -17.6310  0.057412  -1.6752\n",
       "4   7.7501  2.09880   6.9139 -14.1530 -0.511720  -1.1493"
      ]
     },
     "execution_count": 135,
     "metadata": {},
     "output_type": "execute_result"
    }
   ],
   "source": [
    "dfaccel = dfaccel.drop(['Seconds', 'Microseconds', 'Activity'], axis=1)\n",
    "dfaccel.head()"
   ]
  },
  {
   "cell_type": "code",
   "execution_count": 136,
   "metadata": {},
   "outputs": [
    {
     "data": {
      "text/plain": [
       "(40142, 6)"
      ]
     },
     "execution_count": 136,
     "metadata": {},
     "output_type": "execute_result"
    }
   ],
   "source": [
    "dfaccel.shape"
   ]
  },
  {
   "cell_type": "code",
   "execution_count": 137,
   "metadata": {},
   "outputs": [
    {
     "data": {
      "text/html": [
       "<div>\n",
       "<style scoped>\n",
       "    .dataframe tbody tr th:only-of-type {\n",
       "        vertical-align: middle;\n",
       "    }\n",
       "\n",
       "    .dataframe tbody tr th {\n",
       "        vertical-align: top;\n",
       "    }\n",
       "\n",
       "    .dataframe thead th {\n",
       "        text-align: right;\n",
       "    }\n",
       "</style>\n",
       "<table border=\"1\" class=\"dataframe\">\n",
       "  <thead>\n",
       "    <tr style=\"text-align: right;\">\n",
       "      <th></th>\n",
       "      <th>S6_GyrX</th>\n",
       "      <th>S6_GyrY</th>\n",
       "      <th>S6_GyrZ</th>\n",
       "      <th>S8_GyrX</th>\n",
       "      <th>S8_GyrY</th>\n",
       "      <th>S8_GyrZ</th>\n",
       "    </tr>\n",
       "  </thead>\n",
       "  <tbody>\n",
       "    <tr>\n",
       "      <td>0</td>\n",
       "      <td>-1.63200</td>\n",
       "      <td>-0.55933</td>\n",
       "      <td>0.941290</td>\n",
       "      <td>0.26695</td>\n",
       "      <td>1.5552</td>\n",
       "      <td>0.41222</td>\n",
       "    </tr>\n",
       "    <tr>\n",
       "      <td>1</td>\n",
       "      <td>-0.68447</td>\n",
       "      <td>1.45270</td>\n",
       "      <td>0.519170</td>\n",
       "      <td>1.29020</td>\n",
       "      <td>2.7345</td>\n",
       "      <td>1.06410</td>\n",
       "    </tr>\n",
       "    <tr>\n",
       "      <td>2</td>\n",
       "      <td>-1.31230</td>\n",
       "      <td>3.91880</td>\n",
       "      <td>0.030051</td>\n",
       "      <td>1.61850</td>\n",
       "      <td>2.4691</td>\n",
       "      <td>0.93687</td>\n",
       "    </tr>\n",
       "    <tr>\n",
       "      <td>3</td>\n",
       "      <td>-1.23930</td>\n",
       "      <td>5.87110</td>\n",
       "      <td>0.097996</td>\n",
       "      <td>1.14530</td>\n",
       "      <td>3.5412</td>\n",
       "      <td>0.56630</td>\n",
       "    </tr>\n",
       "    <tr>\n",
       "      <td>4</td>\n",
       "      <td>-1.15990</td>\n",
       "      <td>6.80680</td>\n",
       "      <td>0.307600</td>\n",
       "      <td>0.65851</td>\n",
       "      <td>3.8733</td>\n",
       "      <td>-0.14329</td>\n",
       "    </tr>\n",
       "  </tbody>\n",
       "</table>\n",
       "</div>"
      ],
      "text/plain": [
       "   S6_GyrX  S6_GyrY   S6_GyrZ  S8_GyrX  S8_GyrY  S8_GyrZ\n",
       "0 -1.63200 -0.55933  0.941290  0.26695   1.5552  0.41222\n",
       "1 -0.68447  1.45270  0.519170  1.29020   2.7345  1.06410\n",
       "2 -1.31230  3.91880  0.030051  1.61850   2.4691  0.93687\n",
       "3 -1.23930  5.87110  0.097996  1.14530   3.5412  0.56630\n",
       "4 -1.15990  6.80680  0.307600  0.65851   3.8733 -0.14329"
      ]
     },
     "execution_count": 137,
     "metadata": {},
     "output_type": "execute_result"
    }
   ],
   "source": [
    "dfgyro = dfgyro.drop(['Seconds', 'Microseconds', 'Activity'], axis=1)\n",
    "dfgyro.head()"
   ]
  },
  {
   "cell_type": "code",
   "execution_count": 138,
   "metadata": {},
   "outputs": [
    {
     "data": {
      "text/plain": [
       "(40142, 6)"
      ]
     },
     "execution_count": 138,
     "metadata": {},
     "output_type": "execute_result"
    }
   ],
   "source": [
    "dfgyro.shape"
   ]
  },
  {
   "cell_type": "code",
   "execution_count": 139,
   "metadata": {},
   "outputs": [
    {
     "data": {
      "text/html": [
       "<div>\n",
       "<style scoped>\n",
       "    .dataframe tbody tr th:only-of-type {\n",
       "        vertical-align: middle;\n",
       "    }\n",
       "\n",
       "    .dataframe tbody tr th {\n",
       "        vertical-align: top;\n",
       "    }\n",
       "\n",
       "    .dataframe thead th {\n",
       "        text-align: right;\n",
       "    }\n",
       "</style>\n",
       "<table border=\"1\" class=\"dataframe\">\n",
       "  <thead>\n",
       "    <tr style=\"text-align: right;\">\n",
       "      <th></th>\n",
       "      <th>S6_Q1</th>\n",
       "      <th>S6_Q2</th>\n",
       "      <th>S6_Q3</th>\n",
       "      <th>S6_Q4</th>\n",
       "      <th>S8_Q1</th>\n",
       "      <th>S8_Q2</th>\n",
       "      <th>S8_Q3</th>\n",
       "      <th>S8_Q4</th>\n",
       "    </tr>\n",
       "  </thead>\n",
       "  <tbody>\n",
       "    <tr>\n",
       "      <td>0</td>\n",
       "      <td>-0.13994</td>\n",
       "      <td>0.17305</td>\n",
       "      <td>0.022179</td>\n",
       "      <td>-0.97467</td>\n",
       "      <td>-0.72138</td>\n",
       "      <td>0.15473</td>\n",
       "      <td>-0.65619</td>\n",
       "      <td>-0.15837</td>\n",
       "    </tr>\n",
       "    <tr>\n",
       "      <td>1</td>\n",
       "      <td>-0.13406</td>\n",
       "      <td>0.18831</td>\n",
       "      <td>0.025613</td>\n",
       "      <td>-0.97258</td>\n",
       "      <td>-0.70337</td>\n",
       "      <td>0.14305</td>\n",
       "      <td>-0.67923</td>\n",
       "      <td>-0.15311</td>\n",
       "    </tr>\n",
       "    <tr>\n",
       "      <td>2</td>\n",
       "      <td>-0.13217</td>\n",
       "      <td>0.22793</td>\n",
       "      <td>0.033093</td>\n",
       "      <td>-0.96410</td>\n",
       "      <td>-0.68718</td>\n",
       "      <td>0.12908</td>\n",
       "      <td>-0.70003</td>\n",
       "      <td>-0.14520</td>\n",
       "    </tr>\n",
       "    <tr>\n",
       "      <td>3</td>\n",
       "      <td>-0.13012</td>\n",
       "      <td>0.28571</td>\n",
       "      <td>0.036735</td>\n",
       "      <td>-0.94873</td>\n",
       "      <td>-0.66257</td>\n",
       "      <td>0.12266</td>\n",
       "      <td>-0.72622</td>\n",
       "      <td>-0.13621</td>\n",
       "    </tr>\n",
       "    <tr>\n",
       "      <td>4</td>\n",
       "      <td>-0.12607</td>\n",
       "      <td>0.35101</td>\n",
       "      <td>0.037964</td>\n",
       "      <td>-0.92707</td>\n",
       "      <td>-0.63498</td>\n",
       "      <td>0.12456</td>\n",
       "      <td>-0.75198</td>\n",
       "      <td>-0.12572</td>\n",
       "    </tr>\n",
       "  </tbody>\n",
       "</table>\n",
       "</div>"
      ],
      "text/plain": [
       "     S6_Q1    S6_Q2     S6_Q3    S6_Q4    S8_Q1    S8_Q2    S8_Q3    S8_Q4\n",
       "0 -0.13994  0.17305  0.022179 -0.97467 -0.72138  0.15473 -0.65619 -0.15837\n",
       "1 -0.13406  0.18831  0.025613 -0.97258 -0.70337  0.14305 -0.67923 -0.15311\n",
       "2 -0.13217  0.22793  0.033093 -0.96410 -0.68718  0.12908 -0.70003 -0.14520\n",
       "3 -0.13012  0.28571  0.036735 -0.94873 -0.66257  0.12266 -0.72622 -0.13621\n",
       "4 -0.12607  0.35101  0.037964 -0.92707 -0.63498  0.12456 -0.75198 -0.12572"
      ]
     },
     "execution_count": 139,
     "metadata": {},
     "output_type": "execute_result"
    }
   ],
   "source": [
    "dfquart = dfquart.drop(['Seconds', 'Microseconds', 'Activity'], axis=1)\n",
    "dfquart.head()"
   ]
  },
  {
   "cell_type": "code",
   "execution_count": 140,
   "metadata": {},
   "outputs": [
    {
     "data": {
      "text/plain": [
       "(40142, 8)"
      ]
     },
     "execution_count": 140,
     "metadata": {},
     "output_type": "execute_result"
    }
   ],
   "source": [
    "dfquart.shape"
   ]
  },
  {
   "cell_type": "code",
   "execution_count": 141,
   "metadata": {},
   "outputs": [],
   "source": [
    "train_size = np.int(len(dfaccel) * 0.8)\n",
    "train_accel, test_accel = dfaccel[:train_size], dfaccel[train_size:]\n",
    "train_gyro, test_gyro = dfgyro[:train_size], dfgyro[train_size:]\n",
    "train_quart, test_quart = dfquart[:train_size], dfquart[train_size:]"
   ]
  },
  {
   "cell_type": "code",
   "execution_count": 142,
   "metadata": {},
   "outputs": [
    {
     "data": {
      "text/plain": [
       "S6_AccX    float64\n",
       "S6_AccY    float64\n",
       "S6_AccZ    float64\n",
       "S8_AccX    float64\n",
       "S8_AccY    float64\n",
       "S8_AccZ    float64\n",
       "dtype: object"
      ]
     },
     "execution_count": 142,
     "metadata": {},
     "output_type": "execute_result"
    }
   ],
   "source": [
    "train_accel.dtypes"
   ]
  },
  {
   "cell_type": "code",
   "execution_count": 143,
   "metadata": {},
   "outputs": [
    {
     "data": {
      "text/plain": [
       "(8029, 6)"
      ]
     },
     "execution_count": 143,
     "metadata": {},
     "output_type": "execute_result"
    }
   ],
   "source": [
    "test_accel.shape"
   ]
  },
  {
   "cell_type": "code",
   "execution_count": 144,
   "metadata": {},
   "outputs": [],
   "source": [
    "# Config\n",
    "encoder_dimension = 42\n",
    "EPOCH = 42\n",
    "BATCH_SIZE = 24"
   ]
  },
  {
   "cell_type": "code",
   "execution_count": 153,
   "metadata": {},
   "outputs": [],
   "source": [
    "def build_model(train_accel, train_gyro, train_quart):\n",
    "    # Input dimension\n",
    "    accel_dim = train_accel.shape[1]\n",
    "    gyro_dim = train_gyro.shape[1]\n",
    "    quart_dim = train_quart.shape[1]\n",
    "    # All input\n",
    "    input_accel = Input(shape=(accel_dim,))\n",
    "    input_gyro = Input(shape=(gyro_dim,))\n",
    "    input_quart = Input(shape=(quart_dim,))\n",
    "    # Autoencoder branch for Accel\n",
    "    accel_encoder = Dense(50, activation='relu')(input_accel)\n",
    "    accel_encoder = Dense(25, activation='relu')(accel_encoder)\n",
    "    # Autoencoder branch for Gyro\n",
    "    gyro_encoder = Dense(50, activation='relu')(input_gyro)\n",
    "    gyro_encoder = Dense(25, activation='relu')(gyro_encoder)\n",
    "    # Autoencoder branch for Quart\n",
    "    quart_encoder = Dense(50, activation='relu')(input_quart)\n",
    "    quart_encoder = Dense(25, activation='relu')(quart_encoder)\n",
    "    # Shared layer\n",
    "    shared_input = Concatenate()([accel_encoder, gyro_encoder, quart_encoder])\n",
    "    decoder = Dense(5, activation='relu')(shared_input)\n",
    "    decoder = Dense(25, activation='relu')(decoder)\n",
    "    decoder = Dense(50, activation='relu')(decoder)\n",
    "    decoder = Dense(6, activation='relu')(decoder)\n",
    "    model = Model(inputs=([input_accel, input_gyro, input_quart]), outputs=decoder)\n",
    "    return model"
   ]
  },
  {
   "cell_type": "code",
   "execution_count": 154,
   "metadata": {},
   "outputs": [
    {
     "name": "stdout",
     "output_type": "stream",
     "text": [
      "__________________________________________________________________________________________________\n",
      "Layer (type)                    Output Shape         Param #     Connected to                     \n",
      "==================================================================================================\n",
      "input_28 (InputLayer)           (None, 6)            0                                            \n",
      "__________________________________________________________________________________________________\n",
      "input_29 (InputLayer)           (None, 6)            0                                            \n",
      "__________________________________________________________________________________________________\n",
      "input_30 (InputLayer)           (None, 8)            0                                            \n",
      "__________________________________________________________________________________________________\n",
      "dense_82 (Dense)                (None, 50)           350         input_28[0][0]                   \n",
      "__________________________________________________________________________________________________\n",
      "dense_84 (Dense)                (None, 50)           350         input_29[0][0]                   \n",
      "__________________________________________________________________________________________________\n",
      "dense_86 (Dense)                (None, 50)           450         input_30[0][0]                   \n",
      "__________________________________________________________________________________________________\n",
      "dense_83 (Dense)                (None, 25)           1275        dense_82[0][0]                   \n",
      "__________________________________________________________________________________________________\n",
      "dense_85 (Dense)                (None, 25)           1275        dense_84[0][0]                   \n",
      "__________________________________________________________________________________________________\n",
      "dense_87 (Dense)                (None, 25)           1275        dense_86[0][0]                   \n",
      "__________________________________________________________________________________________________\n",
      "concatenate_11 (Concatenate)    (None, 75)           0           dense_83[0][0]                   \n",
      "                                                                 dense_85[0][0]                   \n",
      "                                                                 dense_87[0][0]                   \n",
      "__________________________________________________________________________________________________\n",
      "dense_88 (Dense)                (None, 5)            380         concatenate_11[0][0]             \n",
      "__________________________________________________________________________________________________\n",
      "dense_89 (Dense)                (None, 25)           150         dense_88[0][0]                   \n",
      "__________________________________________________________________________________________________\n",
      "dense_90 (Dense)                (None, 50)           1300        dense_89[0][0]                   \n",
      "__________________________________________________________________________________________________\n",
      "dense_91 (Dense)                (None, 6)            306         dense_90[0][0]                   \n",
      "==================================================================================================\n",
      "Total params: 7,111\n",
      "Trainable params: 7,111\n",
      "Non-trainable params: 0\n",
      "__________________________________________________________________________________________________\n"
     ]
    }
   ],
   "source": [
    "model = build_model(train_accel, train_gyro, train_quart)\n",
    "model.summary()"
   ]
  },
  {
   "cell_type": "code",
   "execution_count": 155,
   "metadata": {},
   "outputs": [],
   "source": [
    "model.compile(optimizer='adam', metrics=['accuracy'], loss=['mse'])"
   ]
  },
  {
   "cell_type": "code",
   "execution_count": 156,
   "metadata": {},
   "outputs": [
    {
     "name": "stdout",
     "output_type": "stream",
     "text": [
      "WARNING:tensorflow:From D:\\Anaconda3\\envs\\issmca3\\lib\\site-packages\\keras\\backend\\tensorflow_backend.py:986: The name tf.assign_add is deprecated. Please use tf.compat.v1.assign_add instead.\n",
      "\n",
      "WARNING:tensorflow:From D:\\Anaconda3\\envs\\issmca3\\lib\\site-packages\\keras\\backend\\tensorflow_backend.py:973: The name tf.assign is deprecated. Please use tf.compat.v1.assign instead.\n",
      "\n",
      "Epoch 1/42\n",
      "32113/32113 [==============================] - 22s 677us/step - loss: 99.1528 - acc: 0.6495\n",
      "Epoch 2/42\n",
      "32113/32113 [==============================] - 16s 496us/step - loss: 92.6308 - acc: 0.9184\n",
      "Epoch 3/42\n",
      "32113/32113 [==============================] - 16s 508us/step - loss: 92.0695 - acc: 0.9299\n",
      "Epoch 4/42\n",
      "32113/32113 [==============================] - 16s 494us/step - loss: 91.9916 - acc: 0.9375\n",
      "Epoch 5/42\n",
      "32113/32113 [==============================] - 16s 507us/step - loss: 91.9260 - acc: 0.9407\n",
      "Epoch 6/42\n",
      "32113/32113 [==============================] - 17s 519us/step - loss: 91.8959 - acc: 0.9418\n",
      "Epoch 7/42\n",
      "32113/32113 [==============================] - 17s 527us/step - loss: 91.8697 - acc: 0.9407\n",
      "Epoch 8/42\n",
      "32113/32113 [==============================] - 17s 530us/step - loss: 91.8543 - acc: 0.9418\n",
      "Epoch 9/42\n",
      "32113/32113 [==============================] - 18s 560us/step - loss: 91.8368 - acc: 0.9351\n",
      "Epoch 10/42\n",
      "32113/32113 [==============================] - 16s 504us/step - loss: 91.8082 - acc: 0.9416\n",
      "Epoch 11/42\n",
      "32113/32113 [==============================] - 16s 506us/step - loss: 91.4799 - acc: 0.9398\n",
      "Epoch 12/42\n",
      "32113/32113 [==============================] - 16s 508us/step - loss: 91.3547 - acc: 0.9541\n",
      "Epoch 13/42\n",
      "32113/32113 [==============================] - 16s 499us/step - loss: 91.3375 - acc: 0.9554\n",
      "Epoch 14/42\n",
      "32113/32113 [==============================] - 16s 514us/step - loss: 91.3249 - acc: 0.9543\n",
      "Epoch 15/42\n",
      "32113/32113 [==============================] - 16s 491us/step - loss: 91.3234 - acc: 0.9580\n",
      "Epoch 16/42\n",
      "32113/32113 [==============================] - 17s 515us/step - loss: 91.3114 - acc: 0.9589\n",
      "Epoch 17/42\n",
      "32113/32113 [==============================] - 16s 505us/step - loss: 91.3122 - acc: 0.9457\n",
      "Epoch 18/42\n",
      "32113/32113 [==============================] - 16s 514us/step - loss: 91.3070 - acc: 0.9528\n",
      "Epoch 19/42\n",
      "32113/32113 [==============================] - 11s 331us/step - loss: 91.3213 - acc: 0.9330\n",
      "Epoch 20/42\n",
      "32113/32113 [==============================] - 8s 246us/step - loss: 91.3005 - acc: 0.9248\n",
      "Epoch 21/42\n",
      "32113/32113 [==============================] - 8s 240us/step - loss: 91.3036 - acc: 0.9238\n",
      "Epoch 22/42\n",
      "32113/32113 [==============================] - 8s 248us/step - loss: 91.3036 - acc: 0.9027\n",
      "Epoch 23/42\n",
      "32113/32113 [==============================] - 8s 240us/step - loss: 91.3093 - acc: 0.9122\n",
      "Epoch 24/42\n",
      "32113/32113 [==============================] - 8s 242us/step - loss: 91.3074 - acc: 0.9244\n",
      "Epoch 25/42\n",
      "32113/32113 [==============================] - 8s 241us/step - loss: 91.2910 - acc: 0.9383\n",
      "Epoch 26/42\n",
      "32113/32113 [==============================] - 8s 240us/step - loss: 91.3063 - acc: 0.9081\n",
      "Epoch 27/42\n",
      "32113/32113 [==============================] - 8s 242us/step - loss: 91.2970 - acc: 0.8981\n",
      "Epoch 28/42\n",
      "32113/32113 [==============================] - 8s 241us/step - loss: 91.2943 - acc: 0.9233\n",
      "Epoch 29/42\n",
      "32113/32113 [==============================] - 8s 241us/step - loss: 91.2907 - acc: 0.9280\n",
      "Epoch 30/42\n",
      "32113/32113 [==============================] - 8s 239us/step - loss: 91.3071 - acc: 0.8989\n",
      "Epoch 31/42\n",
      "32113/32113 [==============================] - 8s 245us/step - loss: 91.2876 - acc: 0.9394\n",
      "Epoch 32/42\n",
      "32113/32113 [==============================] - 8s 242us/step - loss: 91.3068 - acc: 0.9213\n",
      "Epoch 33/42\n",
      "32113/32113 [==============================] - 8s 242us/step - loss: 91.2857 - acc: 0.9476\n",
      "Epoch 34/42\n",
      "32113/32113 [==============================] - 8s 241us/step - loss: 91.2914 - acc: 0.9387\n",
      "Epoch 35/42\n",
      "32113/32113 [==============================] - 8s 243us/step - loss: 91.2852 - acc: 0.9501\n",
      "Epoch 36/42\n",
      "32113/32113 [==============================] - 8s 242us/step - loss: 91.2943 - acc: 0.9409\n",
      "Epoch 37/42\n",
      "32113/32113 [==============================] - 8s 245us/step - loss: 91.2932 - acc: 0.9464\n",
      "Epoch 38/42\n",
      "32113/32113 [==============================] - 8s 242us/step - loss: 91.2883 - acc: 0.9559\n",
      "Epoch 39/42\n",
      "32113/32113 [==============================] - 8s 245us/step - loss: 91.2797 - acc: 0.9535\n",
      "Epoch 40/42\n",
      "32113/32113 [==============================] - 8s 245us/step - loss: 91.2977 - acc: 0.9535\n",
      "Epoch 41/42\n",
      "32113/32113 [==============================] - 8s 241us/step - loss: 91.2856 - acc: 0.9590\n",
      "Epoch 42/42\n",
      "32113/32113 [==============================] - 8s 242us/step - loss: 91.2868 - acc: 0.9602\n"
     ]
    },
    {
     "data": {
      "text/plain": [
       "<keras.callbacks.History at 0x25f14b9f4a8>"
      ]
     },
     "execution_count": 156,
     "metadata": {},
     "output_type": "execute_result"
    }
   ],
   "source": [
    "model.fit([train_accel, train_gyro, train_quart], train_accel, epochs=EPOCH, batch_size=BATCH_SIZE, shuffle=True)"
   ]
  },
  {
   "cell_type": "code",
   "execution_count": null,
   "metadata": {},
   "outputs": [],
   "source": []
  }
 ],
 "metadata": {
  "kernelspec": {
   "display_name": "Python 3",
   "language": "python",
   "name": "python3"
  },
  "language_info": {
   "codemirror_mode": {
    "name": "ipython",
    "version": 3
   },
   "file_extension": ".py",
   "mimetype": "text/x-python",
   "name": "python",
   "nbconvert_exporter": "python",
   "pygments_lexer": "ipython3",
   "version": "3.6.7"
  }
 },
 "nbformat": 4,
 "nbformat_minor": 4
}
