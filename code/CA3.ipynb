{
 "cells": [
  {
   "cell_type": "markdown",
   "metadata": {},
   "source": [
    "### ISSM CA3\n",
    "Name: Ng Boon Cheong Raymond  \n",
    "Student ID: A0198543R"
   ]
  },
  {
   "cell_type": "code",
   "execution_count": 99,
   "metadata": {},
   "outputs": [],
   "source": [
    "import numpy as np\n",
    "import pandas as pd\n",
    "import pydot\n",
    "import IPython\n",
    "import matplotlib.pyplot as plt\n",
    "%matplotlib inline\n",
    "\n",
    "import os\n",
    "import glob\n",
    "import time\n",
    "\n",
    "from keras.layers import Input, Dense, Concatenate\n",
    "from keras.models import Model\n",
    "from keras.callbacks import ReduceLROnPlateau, EarlyStopping\n",
    "from keras.utils import plot_model\n",
    "\n",
    "from sklearn.model_selection import train_test_split\n",
    "from sklearn.preprocessing import StandardScaler\n",
    "from sklearn import metrics\n",
    "\n",
    "import warnings\n",
    "warnings.filterwarnings('ignore')"
   ]
  },
  {
   "cell_type": "markdown",
   "metadata": {},
   "source": [
    "### Dataset attributes\n",
    "Column 1: Timestamp in seconds  \n",
    "Column 2: Timestamp in microseconds  \n",
    "Column 3-15: [AccX, AccY, AccZ, GyrX, GyrY, GyrZ, MagX, MagY, MagZ, Q1, Q2, Q3, Q4] of sensor S1 (Left Calf)  \n",
    "Column 16-28: [AccX, AccY, AccZ, GyrX, GyrY, GyrZ, MagX, MagY, MagZ, Q1, Q2, Q3, Q4] of sensor S2 (Left Thigh)  \n",
    "Column 29-41: [AccX, AccY, AccZ, GyrX, GyrY, GyrZ, MagX, MagY, MagZ, Q1, Q2, Q3, Q4] of sensor S3 (Right Calf)  \n",
    "Column 42-54: [AccX, AccY, AccZ, GyrX, GyrY, GyrZ, MagX, MagY, MagZ, Q1, Q2, Q3, Q4] of sensor S4 (Right Thigh)  \n",
    "Column 55-67: [AccX, AccY, AccZ, GyrX, GyrY, GyrZ, MagX, MagY, MagZ, Q1, Q2, Q3, Q4] of sensor S5 (Back)  \n",
    "Column 68-80: [AccX, AccY, AccZ, GyrX, GyrY, GyrZ, MagX, MagY, MagZ, Q1, Q2, Q3, Q4] of sensor S6 (Left Lower Arm)  \n",
    "Column 81-93: [AccX, AccY, AccZ, GyrX, GyrY, GyrZ, MagX, MagY, MagZ, Q1, Q2, Q3, Q4] of sensor S7 (Left Upper Arm)  \n",
    "Column 94-106: [AccX, AccY, AccZ, GyrX, GyrY, GyrZ, MagX, MagY, MagZ, Q1, Q2, Q3, Q4] of sensor S8 (Right Lower Arm)  \n",
    "Column 107-119: [AccX, AccY, AccZ, GyrX, GyrY, GyrZ, MagX, MagY, MagZ, Q1, Q2, Q3, Q4] of sensor S9 (Right Upper Arm)  \n",
    "Column 120: Label (see activity set) [Walking = 1] [Jogging = 2] [Running = 3]"
   ]
  },
  {
   "cell_type": "markdown",
   "metadata": {},
   "source": [
    "### Dataset attribute subset to be used\n",
    "Col[0]: Timestamp in seconds  \n",
    "Col[1]: Timestamp in microseconds  \n",
    "Col[67-69]: Accel Sensor S6  \n",
    "Col[70-72]: Gyro Sensor S6  \n",
    "Col[76-79]: Quart Sensor S6  \n",
    "Col[93-95]: Accel Sensor S8  \n",
    "Col[96-98]: Gyro Sensor S8  \n",
    "Col[102-105]: Quart Sensor S8  \n",
    "Col[119]: Activity Label"
   ]
  },
  {
   "cell_type": "code",
   "execution_count": 100,
   "metadata": {},
   "outputs": [],
   "source": [
    "def readLog(file):\n",
    "    \"\"\"Read a single file and return 3 dataframe, for walking, jogging and running\"\"\"\n",
    "    df = pd.read_csv(file, header=None, delim_whitespace=True)\n",
    "    df_walk = df[df[119] == 1]\n",
    "    df_jog = df[df[119] == 2]\n",
    "    df_run = df[df[119] == 3]\n",
    "    return df_walk, df_jog, df_run"
   ]
  },
  {
   "cell_type": "code",
   "execution_count": 101,
   "metadata": {},
   "outputs": [],
   "source": [
    "def removeOtherSensor(df_walk, df_jog, df_run):\n",
    "    # [3:67] S1 to S5\n",
    "    # [73:76] Mag sensor for S6\n",
    "    # [80:93] S7\n",
    "    # [99:102] Mag sensor for S8\n",
    "    # [106:119] S9\n",
    "    \"\"\"Remove all other sensors other than S6 and S8, also removed mag sensors\"\"\"\n",
    "    idx = np.r_[2:67, 73:76, 80:93, 99:102, 106:119]\n",
    "    return df_walk.drop(df_walk.columns[idx], axis=1), df_jog.drop(df_jog.columns[idx], axis=1), df_run.drop(df_run.columns[idx], axis=1)"
   ]
  },
  {
   "cell_type": "code",
   "execution_count": 102,
   "metadata": {},
   "outputs": [],
   "source": [
    "def resetIndex(df_walk, df_jog, df_run):\n",
    "    \"\"\"Drop the index column created by reset_index()\"\"\"\n",
    "    return df_walk.reset_index().drop('index', axis=1), df_jog.reset_index().drop('index', axis=1), df_run.reset_index().drop('index', axis=1)"
   ]
  },
  {
   "cell_type": "code",
   "execution_count": 103,
   "metadata": {},
   "outputs": [],
   "source": [
    "def trimForCompleteSeconds(df):\n",
    "    \"\"\"Trim the dataframe so that only complete seconds is retained, each row is 0.02 seconds window\"\"\"\n",
    "    rIdxDrop = []\n",
    "    # This will trim the first few row of incomplete microseconds\n",
    "    for i in range(len(df[1])):\n",
    "        if df[1][i] != 0.0:\n",
    "            rIdxDrop.append(i)\n",
    "        else:\n",
    "            break\n",
    "    # This will trim the last few row of imcomplete microseconds\n",
    "    for i in reversed(range(len(df[1]))):\n",
    "        if df[1][i] != 980000.0:\n",
    "            rIdxDrop.append(i)\n",
    "        else:\n",
    "            break\n",
    "    return df.drop(rIdxDrop, axis=0)"
   ]
  },
  {
   "cell_type": "code",
   "execution_count": 104,
   "metadata": {},
   "outputs": [],
   "source": [
    "def splitSensor(df):\n",
    "    \"\"\"Split an activity dataframe into 3 sensor type, accel, gryo and quart\"\"\"\n",
    "    # index for accel sensor for S6 and S8\n",
    "    idx_accel = [67, 68, 69, 93, 94, 95]\n",
    "    # index for gryo sensor for S6 and S8\n",
    "    idx_gyro = [70, 71, 72, 96, 97, 98]\n",
    "    # index for quart sensor for S6 and S8\n",
    "    idx_quart = [76, 77, 78, 79, 102, 103, 104, 105]\n",
    "    return df[idx_accel], df[idx_gyro], df[idx_quart]"
   ]
  },
  {
   "cell_type": "code",
   "execution_count": 106,
   "metadata": {},
   "outputs": [],
   "source": [
    "def createWindowWithDistance(df, timestep=50, distance=20):\n",
    "    \"\"\"Split sensor data into windows of timestep size (timestep (in 0.02 microseconds) : 50 = 1 sec) and overlapped with a distance value\"\"\"\n",
    "    win_stack = []\n",
    "    for i in range(0, len(df), distance):\n",
    "        try:\n",
    "            window = []\n",
    "            for t in range(timestep):\n",
    "                window.append(df[i+t])\n",
    "            win_stack.append(window)\n",
    "        except:\n",
    "            continue # Drop any data row which does not fit into the requested time step\n",
    "    return np.array(win_stack)"
   ]
  },
  {
   "cell_type": "code",
   "execution_count": 107,
   "metadata": {},
   "outputs": [],
   "source": [
    "def makeDataset():\n",
    "    \"\"\"Make a dataset split into walk, jog, run activity with all sensors\"\"\"\n",
    "    dataset_dir = '..\\dataset'\n",
    "    files = glob.glob(dataset_dir + '\\*.log')\n",
    "    dfWalk = []\n",
    "    dfJog = []\n",
    "    dfRun = []\n",
    "    for file in files:\n",
    "        walk, jog, run = readLog(file)\n",
    "        dfw, dfj, dfr = removeOtherSensor(walk, jog, run)\n",
    "        dfw, dfj, dfr = resetIndex(dfw, dfj, dfr)\n",
    "#         dfw = trimForCompleteSeconds(dfw)\n",
    "#         dfj = trimForCompleteSeconds(dfj)\n",
    "#         dfr = trimForCompleteSeconds(dfr)\n",
    "        dfWalk.append(dfw)\n",
    "        dfJog.append(dfj)\n",
    "        dfRun.append(dfr)\n",
    "    return pd.concat(dfWalk, ignore_index=True), pd.concat(dfJog, ignore_index=True), pd.concat(dfRun, ignore_index=True)"
   ]
  },
  {
   "cell_type": "code",
   "execution_count": 108,
   "metadata": {},
   "outputs": [],
   "source": [
    "def makeSensorDataSet(df):\n",
    "    \"\"\"Make a secondary dataset from a single activity dataset\"\"\"\n",
    "    accel, gyro, quart = splitSensor(df)\n",
    "    accel, gyro, quart = resetIndex(accel, gyro, quart)\n",
    "    return accel, gyro, quart"
   ]
  },
  {
   "cell_type": "code",
   "execution_count": 109,
   "metadata": {},
   "outputs": [],
   "source": [
    "def makeAllSensorWindowedDataSet(accel, gyro, quart, timestep=50, distance=20):\n",
    "    \"\"\"Spilt into a windowed dataset. Format = [sample, timestep, features]\"\"\"\n",
    "    stack = []\n",
    "    for aCol in accel:\n",
    "        stack.append(createWindowWithDistance(accel[aCol], timestep, distance))\n",
    "    for gCol in gyro:\n",
    "        stack.append(createWindowWithDistance(gyro[gCol], timestep, distance))\n",
    "    for qCol in quart:\n",
    "        stack.append(createWindowWithDistance(quart[qCol], timestep, distance))\n",
    "    return np.dstack(stack)    "
   ]
  },
  {
   "cell_type": "code",
   "execution_count": 110,
   "metadata": {},
   "outputs": [],
   "source": [
    "def makeSingleSensorWindowedDataSet(sensor, timestep=50, distance=20):\n",
    "    \"\"\"Spilt into a windowed dataset. Format = [sample, timestep, features]\"\"\"\n",
    "    stack = []\n",
    "    for col in sensor:\n",
    "        stack.append(createWindowWithDistance(sensor[col], timestep, distance))\n",
    "    return np.dstack(stack)"
   ]
  },
  {
   "cell_type": "markdown",
   "metadata": {},
   "source": [
    "### Create base sensor dataset"
   ]
  },
  {
   "cell_type": "code",
   "execution_count": 111,
   "metadata": {},
   "outputs": [
    {
     "name": "stdout",
     "output_type": "stream",
     "text": [
      "Wall time: 59.2 s\n"
     ]
    }
   ],
   "source": [
    "%%time\n",
    "walk, jog, run = makeDataset()"
   ]
  },
  {
   "cell_type": "code",
   "execution_count": 112,
   "metadata": {},
   "outputs": [
    {
     "name": "stdout",
     "output_type": "stream",
     "text": [
      "Wall time: 48.4 ms\n"
     ]
    }
   ],
   "source": [
    "%%time\n",
    "accel, gyro, quart = makeSensorDataSet(run)"
   ]
  },
  {
   "cell_type": "markdown",
   "metadata": {},
   "source": [
    "### Apply standardscaler to dataset"
   ]
  },
  {
   "cell_type": "code",
   "execution_count": 113,
   "metadata": {},
   "outputs": [],
   "source": [
    "standscale = StandardScaler()\n",
    "accelS = pd.DataFrame(\n",
    "    data=standscale.fit_transform(accel),\n",
    "    columns=accel.columns)\n",
    "gyroS = pd.DataFrame(\n",
    "    data=standscale.fit_transform(gyro),\n",
    "    columns=gyro.columns)\n",
    "quartS = pd.DataFrame(\n",
    "    data=standscale.fit_transform(quart),\n",
    "    columns=quart.columns)"
   ]
  },
  {
   "cell_type": "code",
   "execution_count": 114,
   "metadata": {},
   "outputs": [
    {
     "data": {
      "text/html": [
       "<div>\n",
       "<style scoped>\n",
       "    .dataframe tbody tr th:only-of-type {\n",
       "        vertical-align: middle;\n",
       "    }\n",
       "\n",
       "    .dataframe tbody tr th {\n",
       "        vertical-align: top;\n",
       "    }\n",
       "\n",
       "    .dataframe thead th {\n",
       "        text-align: right;\n",
       "    }\n",
       "</style>\n",
       "<table border=\"1\" class=\"dataframe\">\n",
       "  <thead>\n",
       "    <tr style=\"text-align: right;\">\n",
       "      <th></th>\n",
       "      <th>67</th>\n",
       "      <th>68</th>\n",
       "      <th>69</th>\n",
       "      <th>93</th>\n",
       "      <th>94</th>\n",
       "      <th>95</th>\n",
       "    </tr>\n",
       "  </thead>\n",
       "  <tbody>\n",
       "    <tr>\n",
       "      <td>0</td>\n",
       "      <td>0.776105</td>\n",
       "      <td>-0.247185</td>\n",
       "      <td>1.584141</td>\n",
       "      <td>0.041589</td>\n",
       "      <td>-0.897530</td>\n",
       "      <td>-0.379342</td>\n",
       "    </tr>\n",
       "    <tr>\n",
       "      <td>1</td>\n",
       "      <td>1.206023</td>\n",
       "      <td>-0.234152</td>\n",
       "      <td>1.892669</td>\n",
       "      <td>-0.478163</td>\n",
       "      <td>-0.373689</td>\n",
       "      <td>-0.617084</td>\n",
       "    </tr>\n",
       "    <tr>\n",
       "      <td>2</td>\n",
       "      <td>1.322472</td>\n",
       "      <td>-0.055012</td>\n",
       "      <td>1.646331</td>\n",
       "      <td>-1.132766</td>\n",
       "      <td>-0.220623</td>\n",
       "      <td>-0.463028</td>\n",
       "    </tr>\n",
       "    <tr>\n",
       "      <td>3</td>\n",
       "      <td>1.239124</td>\n",
       "      <td>0.165607</td>\n",
       "      <td>1.194642</td>\n",
       "      <td>-0.825498</td>\n",
       "      <td>-0.009890</td>\n",
       "      <td>-0.143038</td>\n",
       "    </tr>\n",
       "    <tr>\n",
       "      <td>4</td>\n",
       "      <td>1.255853</td>\n",
       "      <td>0.293037</td>\n",
       "      <td>0.934439</td>\n",
       "      <td>-0.606731</td>\n",
       "      <td>-0.097947</td>\n",
       "      <td>-0.090501</td>\n",
       "    </tr>\n",
       "  </tbody>\n",
       "</table>\n",
       "</div>"
      ],
      "text/plain": [
       "         67        68        69        93        94        95\n",
       "0  0.776105 -0.247185  1.584141  0.041589 -0.897530 -0.379342\n",
       "1  1.206023 -0.234152  1.892669 -0.478163 -0.373689 -0.617084\n",
       "2  1.322472 -0.055012  1.646331 -1.132766 -0.220623 -0.463028\n",
       "3  1.239124  0.165607  1.194642 -0.825498 -0.009890 -0.143038\n",
       "4  1.255853  0.293037  0.934439 -0.606731 -0.097947 -0.090501"
      ]
     },
     "execution_count": 114,
     "metadata": {},
     "output_type": "execute_result"
    }
   ],
   "source": [
    "accelS.head()"
   ]
  },
  {
   "cell_type": "code",
   "execution_count": 115,
   "metadata": {},
   "outputs": [
    {
     "data": {
      "text/html": [
       "<div>\n",
       "<style scoped>\n",
       "    .dataframe tbody tr th:only-of-type {\n",
       "        vertical-align: middle;\n",
       "    }\n",
       "\n",
       "    .dataframe tbody tr th {\n",
       "        vertical-align: top;\n",
       "    }\n",
       "\n",
       "    .dataframe thead th {\n",
       "        text-align: right;\n",
       "    }\n",
       "</style>\n",
       "<table border=\"1\" class=\"dataframe\">\n",
       "  <thead>\n",
       "    <tr style=\"text-align: right;\">\n",
       "      <th></th>\n",
       "      <th>70</th>\n",
       "      <th>71</th>\n",
       "      <th>72</th>\n",
       "      <th>96</th>\n",
       "      <th>97</th>\n",
       "      <th>98</th>\n",
       "    </tr>\n",
       "  </thead>\n",
       "  <tbody>\n",
       "    <tr>\n",
       "      <td>0</td>\n",
       "      <td>-0.926166</td>\n",
       "      <td>-0.143446</td>\n",
       "      <td>0.358982</td>\n",
       "      <td>0.132815</td>\n",
       "      <td>0.572588</td>\n",
       "      <td>0.447733</td>\n",
       "    </tr>\n",
       "    <tr>\n",
       "      <td>1</td>\n",
       "      <td>-0.397393</td>\n",
       "      <td>0.342576</td>\n",
       "      <td>0.171727</td>\n",
       "      <td>0.651977</td>\n",
       "      <td>1.008271</td>\n",
       "      <td>1.051742</td>\n",
       "    </tr>\n",
       "    <tr>\n",
       "      <td>2</td>\n",
       "      <td>-0.747756</td>\n",
       "      <td>0.938283</td>\n",
       "      <td>-0.045250</td>\n",
       "      <td>0.818545</td>\n",
       "      <td>0.910221</td>\n",
       "      <td>0.933855</td>\n",
       "    </tr>\n",
       "    <tr>\n",
       "      <td>3</td>\n",
       "      <td>-0.707018</td>\n",
       "      <td>1.409877</td>\n",
       "      <td>-0.015109</td>\n",
       "      <td>0.578459</td>\n",
       "      <td>1.306300</td>\n",
       "      <td>0.590498</td>\n",
       "    </tr>\n",
       "    <tr>\n",
       "      <td>4</td>\n",
       "      <td>-0.662708</td>\n",
       "      <td>1.635903</td>\n",
       "      <td>0.077873</td>\n",
       "      <td>0.331479</td>\n",
       "      <td>1.428992</td>\n",
       "      <td>-0.066984</td>\n",
       "    </tr>\n",
       "  </tbody>\n",
       "</table>\n",
       "</div>"
      ],
      "text/plain": [
       "         70        71        72        96        97        98\n",
       "0 -0.926166 -0.143446  0.358982  0.132815  0.572588  0.447733\n",
       "1 -0.397393  0.342576  0.171727  0.651977  1.008271  1.051742\n",
       "2 -0.747756  0.938283 -0.045250  0.818545  0.910221  0.933855\n",
       "3 -0.707018  1.409877 -0.015109  0.578459  1.306300  0.590498\n",
       "4 -0.662708  1.635903  0.077873  0.331479  1.428992 -0.066984"
      ]
     },
     "execution_count": 115,
     "metadata": {},
     "output_type": "execute_result"
    }
   ],
   "source": [
    "gyroS.head()"
   ]
  },
  {
   "cell_type": "code",
   "execution_count": 116,
   "metadata": {},
   "outputs": [
    {
     "data": {
      "text/html": [
       "<div>\n",
       "<style scoped>\n",
       "    .dataframe tbody tr th:only-of-type {\n",
       "        vertical-align: middle;\n",
       "    }\n",
       "\n",
       "    .dataframe tbody tr th {\n",
       "        vertical-align: top;\n",
       "    }\n",
       "\n",
       "    .dataframe thead th {\n",
       "        text-align: right;\n",
       "    }\n",
       "</style>\n",
       "<table border=\"1\" class=\"dataframe\">\n",
       "  <thead>\n",
       "    <tr style=\"text-align: right;\">\n",
       "      <th></th>\n",
       "      <th>76</th>\n",
       "      <th>77</th>\n",
       "      <th>78</th>\n",
       "      <th>79</th>\n",
       "      <th>102</th>\n",
       "      <th>103</th>\n",
       "      <th>104</th>\n",
       "      <th>105</th>\n",
       "    </tr>\n",
       "  </thead>\n",
       "  <tbody>\n",
       "    <tr>\n",
       "      <td>0</td>\n",
       "      <td>0.030646</td>\n",
       "      <td>0.979435</td>\n",
       "      <td>0.255913</td>\n",
       "      <td>-2.706804</td>\n",
       "      <td>-1.771026</td>\n",
       "      <td>1.213646</td>\n",
       "      <td>-1.052901</td>\n",
       "      <td>-0.153185</td>\n",
       "    </tr>\n",
       "    <tr>\n",
       "      <td>1</td>\n",
       "      <td>0.043992</td>\n",
       "      <td>1.015599</td>\n",
       "      <td>0.261471</td>\n",
       "      <td>-2.701292</td>\n",
       "      <td>-1.739483</td>\n",
       "      <td>1.168043</td>\n",
       "      <td>-1.089686</td>\n",
       "      <td>-0.136152</td>\n",
       "    </tr>\n",
       "    <tr>\n",
       "      <td>2</td>\n",
       "      <td>0.048282</td>\n",
       "      <td>1.109491</td>\n",
       "      <td>0.273579</td>\n",
       "      <td>-2.678926</td>\n",
       "      <td>-1.711128</td>\n",
       "      <td>1.113498</td>\n",
       "      <td>-1.122895</td>\n",
       "      <td>-0.110539</td>\n",
       "    </tr>\n",
       "    <tr>\n",
       "      <td>3</td>\n",
       "      <td>0.052935</td>\n",
       "      <td>1.246420</td>\n",
       "      <td>0.279474</td>\n",
       "      <td>-2.638388</td>\n",
       "      <td>-1.668026</td>\n",
       "      <td>1.088432</td>\n",
       "      <td>-1.164709</td>\n",
       "      <td>-0.081429</td>\n",
       "    </tr>\n",
       "    <tr>\n",
       "      <td>4</td>\n",
       "      <td>0.062128</td>\n",
       "      <td>1.401169</td>\n",
       "      <td>0.281463</td>\n",
       "      <td>-2.581260</td>\n",
       "      <td>-1.619705</td>\n",
       "      <td>1.095850</td>\n",
       "      <td>-1.205837</td>\n",
       "      <td>-0.047462</td>\n",
       "    </tr>\n",
       "  </tbody>\n",
       "</table>\n",
       "</div>"
      ],
      "text/plain": [
       "        76        77        78        79        102       103       104  \\\n",
       "0  0.030646  0.979435  0.255913 -2.706804 -1.771026  1.213646 -1.052901   \n",
       "1  0.043992  1.015599  0.261471 -2.701292 -1.739483  1.168043 -1.089686   \n",
       "2  0.048282  1.109491  0.273579 -2.678926 -1.711128  1.113498 -1.122895   \n",
       "3  0.052935  1.246420  0.279474 -2.638388 -1.668026  1.088432 -1.164709   \n",
       "4  0.062128  1.401169  0.281463 -2.581260 -1.619705  1.095850 -1.205837   \n",
       "\n",
       "        105  \n",
       "0 -0.153185  \n",
       "1 -0.136152  \n",
       "2 -0.110539  \n",
       "3 -0.081429  \n",
       "4 -0.047462  "
      ]
     },
     "execution_count": 116,
     "metadata": {},
     "output_type": "execute_result"
    }
   ],
   "source": [
    "quartS.head()"
   ]
  },
  {
   "cell_type": "markdown",
   "metadata": {},
   "source": [
    "### Create windowed dataset"
   ]
  },
  {
   "cell_type": "code",
   "execution_count": 117,
   "metadata": {},
   "outputs": [],
   "source": [
    "accelW = makeSingleSensorWindowedDataSet(accelS, 50, 20)\n",
    "gyroW = makeSingleSensorWindowedDataSet(gyroS, 50, 20)\n",
    "quartW = makeSingleSensorWindowedDataSet(quartS, 50, 20)\n",
    "\n",
    "accel_train_size = np.int(len(accelW) * 0.8)\n",
    "gyro_train_size = np.int(len(gyroW) * 0.8)\n",
    "quart_train_size = np.int(len(quartW) * 0.8)"
   ]
  },
  {
   "cell_type": "code",
   "execution_count": 118,
   "metadata": {},
   "outputs": [],
   "source": [
    "train_accel, test_accel = accelW[:accel_train_size,:,:], accelW[accel_train_size:]\n",
    "train_gyro, test_gyro = gyroW[:gyro_train_size,:,:], gyroW[gyro_train_size:]\n",
    "train_quart, test_quart = quartW[:quart_train_size,:,:], quartW[quart_train_size:]"
   ]
  },
  {
   "cell_type": "code",
   "execution_count": 119,
   "metadata": {},
   "outputs": [
    {
     "name": "stdout",
     "output_type": "stream",
     "text": [
      "Train Accel: (1399, 50, 6), Test Accel: (350, 50, 6)\n",
      "Train Accel: (1399, 50, 6), Test Accel: (350, 50, 6)\n",
      "Train Accel: (1399, 50, 8), Test Accel: (350, 50, 8)\n"
     ]
    }
   ],
   "source": [
    "print(f'Train Accel: {train_accel.shape}, Test Accel: {test_accel.shape}')\n",
    "print(f'Train Accel: {train_gyro.shape}, Test Accel: {test_gyro.shape}')\n",
    "print(f'Train Accel: {train_quart.shape}, Test Accel: {test_quart.shape}')"
   ]
  },
  {
   "cell_type": "code",
   "execution_count": 120,
   "metadata": {},
   "outputs": [],
   "source": [
    "seed = 42\n",
    "np.random.seed(seed)"
   ]
  },
  {
   "cell_type": "code",
   "execution_count": 121,
   "metadata": {},
   "outputs": [],
   "source": [
    "callbacks = [\n",
    "    ReduceLROnPlateau(monitor='val_loss', patience=5, cooldown=0),\n",
    "    EarlyStopping(monitor='val_acc', min_delta=1e-4, patience=5)\n",
    "]"
   ]
  },
  {
   "cell_type": "markdown",
   "metadata": {},
   "source": [
    "### Base Model (Accel only)"
   ]
  },
  {
   "cell_type": "code",
   "execution_count": 122,
   "metadata": {},
   "outputs": [],
   "source": [
    "# Config\n",
    "encoder_dimension = 42\n",
    "EPOCH = 100\n",
    "BATCH_SIZE = 24"
   ]
  },
  {
   "cell_type": "code",
   "execution_count": 123,
   "metadata": {},
   "outputs": [],
   "source": [
    "def build_base_model(train_accel):\n",
    "    # Input dimension\n",
    "    input_accel = Input(shape=(train_accel.shape[1],train_accel.shape[2]), name='Input_Accel')\n",
    "    # Encoder\n",
    "    encoder = Dense(50, activation='relu', name='Encoder1')(input_accel)\n",
    "    encoder = Dense(25, activation='relu', name='Encoder2')(encoder)\n",
    "    # Hidden\n",
    "    hidden = Dense(5, activation='relu', name='Hidden')(encoder)\n",
    "    # Decoder\n",
    "    decoder = Dense(25, activation='relu', name='Decoder1')(hidden)\n",
    "    decoder = Dense(50, activation='relu', name='Decoder2')(decoder)\n",
    "    output = Dense(6, activation='relu', name='Output')(decoder)\n",
    "    model = Model(inputs=input_accel, output=output)\n",
    "    return model"
   ]
  },
  {
   "cell_type": "code",
   "execution_count": 124,
   "metadata": {},
   "outputs": [
    {
     "name": "stdout",
     "output_type": "stream",
     "text": [
      "_________________________________________________________________\n",
      "Layer (type)                 Output Shape              Param #   \n",
      "=================================================================\n",
      "Input_Accel (InputLayer)     (None, 50, 6)             0         \n",
      "_________________________________________________________________\n",
      "Encoder1 (Dense)             (None, 50, 50)            350       \n",
      "_________________________________________________________________\n",
      "Encoder2 (Dense)             (None, 50, 25)            1275      \n",
      "_________________________________________________________________\n",
      "Hidden (Dense)               (None, 50, 5)             130       \n",
      "_________________________________________________________________\n",
      "Decoder1 (Dense)             (None, 50, 25)            150       \n",
      "_________________________________________________________________\n",
      "Decoder2 (Dense)             (None, 50, 50)            1300      \n",
      "_________________________________________________________________\n",
      "Output (Dense)               (None, 50, 6)             306       \n",
      "=================================================================\n",
      "Total params: 3,511\n",
      "Trainable params: 3,511\n",
      "Non-trainable params: 0\n",
      "_________________________________________________________________\n"
     ]
    }
   ],
   "source": [
    "bmodel = build_base_model(train_accel)\n",
    "bmodel.summary()"
   ]
  },
  {
   "cell_type": "code",
   "execution_count": 125,
   "metadata": {},
   "outputs": [
    {
     "data": {
      "image/png": "[encoded data removed]",
      "text/plain": [
       "<IPython.core.display.Image object>"
      ]
     },
     "execution_count": 125,
     "metadata": {},
     "output_type": "execute_result"
    }
   ],
   "source": [
    "plot_model(bmodel, \n",
    "           to_file='modelb.png', \n",
    "           show_shapes=True,\n",
    "           show_layer_names=True)\n",
    "IPython.display.Image('modelb.png')"
   ]
  },
  {
   "cell_type": "code",
   "execution_count": 126,
   "metadata": {},
   "outputs": [],
   "source": [
    "bmodel.compile(optimizer='adam', metrics=['accuracy'], loss=['mean_squared_error'])"
   ]
  },
  {
   "cell_type": "code",
   "execution_count": 127,
   "metadata": {},
   "outputs": [
    {
     "name": "stdout",
     "output_type": "stream",
     "text": [
      "Train on 1259 samples, validate on 140 samples\n",
      "Epoch 1/100\n",
      "1259/1259 [==============================] - 2s 1ms/step - loss: 0.9534 - acc: 0.3661 - val_loss: 0.8345 - val_acc: 0.5760\n",
      "Epoch 2/100\n",
      "1259/1259 [==============================] - 1s 426us/step - loss: 0.7052 - acc: 0.6315 - val_loss: 0.6866 - val_acc: 0.7269\n",
      "Epoch 3/100\n",
      "1259/1259 [==============================] - 0s 381us/step - loss: 0.5946 - acc: 0.8071 - val_loss: 0.6501 - val_acc: 0.8047\n",
      "Epoch 4/100\n",
      "1259/1259 [==============================] - 1s 415us/step - loss: 0.5716 - acc: 0.8647 - val_loss: 0.6340 - val_acc: 0.8494\n",
      "Epoch 5/100\n",
      "1259/1259 [==============================] - 1s 499us/step - loss: 0.5530 - acc: 0.8918 - val_loss: 0.6215 - val_acc: 0.8684\n",
      "Epoch 6/100\n",
      "1259/1259 [==============================] - 1s 402us/step - loss: 0.5357 - acc: 0.9120 - val_loss: 0.6113 - val_acc: 0.8984\n",
      "Epoch 7/100\n",
      "1259/1259 [==============================] - 1s 427us/step - loss: 0.5301 - acc: 0.9239 - val_loss: 0.6099 - val_acc: 0.9087\n",
      "Epoch 8/100\n",
      "1259/1259 [==============================] - 1s 403us/step - loss: 0.5273 - acc: 0.9300 - val_loss: 0.6086 - val_acc: 0.9163\n",
      "Epoch 9/100\n",
      "1259/1259 [==============================] - 1s 429us/step - loss: 0.5257 - acc: 0.9346 - val_loss: 0.6073 - val_acc: 0.9227\n",
      "Epoch 10/100\n",
      "1259/1259 [==============================] - 1s 401us/step - loss: 0.5245 - acc: 0.9377 - val_loss: 0.6070 - val_acc: 0.9177\n",
      "Epoch 11/100\n",
      "1259/1259 [==============================] - 1s 478us/step - loss: 0.5237 - acc: 0.9405 - val_loss: 0.6053 - val_acc: 0.9164\n",
      "Epoch 12/100\n",
      "1259/1259 [==============================] - 1s 424us/step - loss: 0.5231 - acc: 0.9426 - val_loss: 0.6046 - val_acc: 0.9221\n",
      "Epoch 13/100\n",
      "1259/1259 [==============================] - 1s 425us/step - loss: 0.5227 - acc: 0.9449 - val_loss: 0.6038 - val_acc: 0.9243\n",
      "Epoch 14/100\n",
      "1259/1259 [==============================] - 1s 411us/step - loss: 0.5222 - acc: 0.9468 - val_loss: 0.6033 - val_acc: 0.9319\n",
      "Epoch 15/100\n",
      "1259/1259 [==============================] - 1s 448us/step - loss: 0.5219 - acc: 0.9480 - val_loss: 0.6031 - val_acc: 0.9334\n",
      "Epoch 16/100\n",
      "1259/1259 [==============================] - 1s 412us/step - loss: 0.5217 - acc: 0.9496 - val_loss: 0.6027 - val_acc: 0.9323\n",
      "Epoch 17/100\n",
      "1259/1259 [==============================] - 1s 456us/step - loss: 0.5214 - acc: 0.9512 - val_loss: 0.6023 - val_acc: 0.9361\n",
      "Epoch 18/100\n",
      "1259/1259 [==============================] - 1s 440us/step - loss: 0.5213 - acc: 0.9514 - val_loss: 0.6023 - val_acc: 0.9380\n",
      "Epoch 19/100\n",
      "1259/1259 [==============================] - 1s 486us/step - loss: 0.5210 - acc: 0.9535 - val_loss: 0.6020 - val_acc: 0.9330\n",
      "Epoch 20/100\n",
      "1259/1259 [==============================] - 1s 403us/step - loss: 0.5209 - acc: 0.9542 - val_loss: 0.6019 - val_acc: 0.9407\n",
      "Epoch 21/100\n",
      "1259/1259 [==============================] - 1s 491us/step - loss: 0.5207 - acc: 0.9559 - val_loss: 0.6019 - val_acc: 0.9426\n",
      "Epoch 22/100\n",
      "1259/1259 [==============================] - 1s 418us/step - loss: 0.5205 - acc: 0.9565 - val_loss: 0.6016 - val_acc: 0.9410\n",
      "Epoch 23/100\n",
      "1259/1259 [==============================] - 1s 425us/step - loss: 0.5204 - acc: 0.9577 - val_loss: 0.6015 - val_acc: 0.9484\n",
      "Epoch 24/100\n",
      "1259/1259 [==============================] - 1s 421us/step - loss: 0.5203 - acc: 0.9586 - val_loss: 0.6015 - val_acc: 0.9479\n",
      "Epoch 25/100\n",
      "1259/1259 [==============================] - 1s 435us/step - loss: 0.5202 - acc: 0.9583 - val_loss: 0.6013 - val_acc: 0.9484\n",
      "Epoch 26/100\n",
      "1259/1259 [==============================] - 1s 416us/step - loss: 0.5200 - acc: 0.9598 - val_loss: 0.6013 - val_acc: 0.9493\n",
      "Epoch 27/100\n",
      "1259/1259 [==============================] - 1s 416us/step - loss: 0.5199 - acc: 0.9601 - val_loss: 0.6012 - val_acc: 0.9494\n",
      "Epoch 28/100\n",
      "1259/1259 [==============================] - 1s 444us/step - loss: 0.5198 - acc: 0.9617 - val_loss: 0.6011 - val_acc: 0.9500\n",
      "Epoch 29/100\n",
      "1259/1259 [==============================] - 1s 420us/step - loss: 0.5197 - acc: 0.9620 - val_loss: 0.6011 - val_acc: 0.9499\n",
      "Epoch 30/100\n",
      "1259/1259 [==============================] - 1s 423us/step - loss: 0.5196 - acc: 0.9625 - val_loss: 0.6010 - val_acc: 0.9493\n",
      "Epoch 31/100\n",
      "1259/1259 [==============================] - 1s 429us/step - loss: 0.5196 - acc: 0.9630 - val_loss: 0.6011 - val_acc: 0.9516\n",
      "Epoch 32/100\n",
      "1259/1259 [==============================] - 1s 425us/step - loss: 0.5194 - acc: 0.9644 - val_loss: 0.6010 - val_acc: 0.9494\n",
      "Epoch 33/100\n",
      "1259/1259 [==============================] - 1s 461us/step - loss: 0.5193 - acc: 0.9651 - val_loss: 0.6009 - val_acc: 0.9497\n",
      "Epoch 34/100\n",
      "1259/1259 [==============================] - 1s 438us/step - loss: 0.5193 - acc: 0.9662 - val_loss: 0.6010 - val_acc: 0.9513\n",
      "Epoch 35/100\n",
      "1259/1259 [==============================] - 1s 438us/step - loss: 0.5193 - acc: 0.9661 - val_loss: 0.6010 - val_acc: 0.9464\n",
      "Epoch 36/100\n",
      "1259/1259 [==============================] - 1s 427us/step - loss: 0.5192 - acc: 0.9658 - val_loss: 0.6008 - val_acc: 0.9524\n",
      "Epoch 37/100\n",
      "1259/1259 [==============================] - 1s 443us/step - loss: 0.5191 - acc: 0.9667 - val_loss: 0.6008 - val_acc: 0.9523\n",
      "Epoch 38/100\n",
      "1259/1259 [==============================] - 1s 434us/step - loss: 0.5190 - acc: 0.9674 - val_loss: 0.6008 - val_acc: 0.9539\n",
      "Epoch 39/100\n",
      "1259/1259 [==============================] - 1s 445us/step - loss: 0.5190 - acc: 0.9686 - val_loss: 0.6008 - val_acc: 0.9511\n",
      "Epoch 40/100\n",
      "1259/1259 [==============================] - 1s 428us/step - loss: 0.5189 - acc: 0.9693 - val_loss: 0.6006 - val_acc: 0.9571\n",
      "Epoch 41/100\n",
      "1259/1259 [==============================] - 1s 451us/step - loss: 0.5189 - acc: 0.9692 - val_loss: 0.6006 - val_acc: 0.9580\n",
      "Epoch 42/100\n",
      "1259/1259 [==============================] - 1s 437us/step - loss: 0.5188 - acc: 0.9695 - val_loss: 0.6005 - val_acc: 0.9579\n",
      "Epoch 43/100\n",
      "1259/1259 [==============================] - 1s 450us/step - loss: 0.5187 - acc: 0.9705 - val_loss: 0.6004 - val_acc: 0.9569\n",
      "Epoch 44/100\n",
      "1259/1259 [==============================] - 1s 400us/step - loss: 0.5187 - acc: 0.9711 - val_loss: 0.6006 - val_acc: 0.9579\n",
      "Epoch 45/100\n",
      "1259/1259 [==============================] - 1s 426us/step - loss: 0.5186 - acc: 0.9712 - val_loss: 0.6005 - val_acc: 0.9504\n",
      "Epoch 46/100\n",
      "1259/1259 [==============================] - 1s 429us/step - loss: 0.5186 - acc: 0.9713 - val_loss: 0.6005 - val_acc: 0.9554\n",
      "Wall time: 27.5 s\n"
     ]
    }
   ],
   "source": [
    "%%time\n",
    "bhistory = bmodel.fit(train_accel, train_accel, \n",
    "                    validation_split=0.1, epochs=EPOCH, batch_size=BATCH_SIZE, shuffle=True, callbacks=callbacks)"
   ]
  },
  {
   "cell_type": "code",
   "execution_count": 134,
   "metadata": {},
   "outputs": [
    {
     "name": "stdout",
     "output_type": "stream",
     "text": [
      "350/350 [==============================] - 0s 964us/step\n",
      "Test Score: 0.44245660066604614\n",
      "Test Acc: 0.9601142730031694\n"
     ]
    }
   ],
   "source": [
    "score, acc = bmodel.evaluate(test_accel, test_accel, batch_size=BATCH_SIZE)\n",
    "print(f'Test Score: {score}')\n",
    "print(f'Test Acc: {acc}')"
   ]
  },
  {
   "cell_type": "code",
   "execution_count": 142,
   "metadata": {},
   "outputs": [
    {
     "data": {
      "image/png": "[encoded data removed]",
      "text/plain": [
       "<Figure size 432x288 with 1 Axes>"
      ]
     },
     "metadata": {
      "needs_background": "light"
     },
     "output_type": "display_data"
    }
   ],
   "source": [
    "# summarize history for accuracy\n",
    "plt.plot(bhistory.history['acc'])\n",
    "plt.plot(bhistory.history['val_acc'])\n",
    "plt.title('model accuracy')\n",
    "plt.ylabel('accuracy')\n",
    "plt.xlabel('epoch')\n",
    "plt.legend(['train', 'test'], loc='lower right')\n",
    "plt.show()"
   ]
  },
  {
   "cell_type": "code",
   "execution_count": 143,
   "metadata": {},
   "outputs": [
    {
     "data": {
      "image/png": "[encoded data removed]",
      "text/plain": [
       "<Figure size 432x288 with 1 Axes>"
      ]
     },
     "metadata": {
      "needs_background": "light"
     },
     "output_type": "display_data"
    }
   ],
   "source": [
    "# summarize history for loss\n",
    "plt.plot(bhistory.history['loss'])\n",
    "plt.plot(bhistory.history['val_loss'])\n",
    "plt.title('model loss')\n",
    "plt.ylabel('loss')\n",
    "plt.xlabel('epoch')\n",
    "plt.legend(['train', 'test'], loc='upper right')\n",
    "plt.show()"
   ]
  },
  {
   "cell_type": "code",
   "execution_count": 137,
   "metadata": {},
   "outputs": [
    {
     "ename": "ValueError",
     "evalue": "Error when checking input: expected Input_Accel to have 3 dimensions, but got array with shape (50, 6)",
     "output_type": "error",
     "traceback": [
      "\u001b[1;31m---------------------------------------------------------------------------\u001b[0m",
      "\u001b[1;31mValueError\u001b[0m                                Traceback (most recent call last)",
      "\u001b[1;32m<ipython-input-137-4915b2045b57>\u001b[0m in \u001b[0;36m<module>\u001b[1;34m\u001b[0m\n\u001b[1;32m----> 1\u001b[1;33m \u001b[0mtest_predict\u001b[0m \u001b[1;33m=\u001b[0m \u001b[0mbmodel\u001b[0m\u001b[1;33m.\u001b[0m\u001b[0mpredict\u001b[0m\u001b[1;33m(\u001b[0m\u001b[0mtest_accel\u001b[0m\u001b[1;33m[\u001b[0m\u001b[1;36m0\u001b[0m\u001b[1;33m]\u001b[0m\u001b[1;33m)\u001b[0m\u001b[1;33m\u001b[0m\u001b[1;33m\u001b[0m\u001b[0m\n\u001b[0m\u001b[0;32m      2\u001b[0m \u001b[0mtestScores\u001b[0m \u001b[1;33m=\u001b[0m \u001b[0mmetrics\u001b[0m\u001b[1;33m.\u001b[0m\u001b[0maccuracy_score\u001b[0m\u001b[1;33m(\u001b[0m\u001b[0mtest_accel\u001b[0m\u001b[1;33m,\u001b[0m \u001b[0mtest_predict\u001b[0m\u001b[1;33m.\u001b[0m\u001b[0mround\u001b[0m\u001b[1;33m(\u001b[0m\u001b[1;33m)\u001b[0m\u001b[1;33m)\u001b[0m\u001b[1;33m\u001b[0m\u001b[1;33m\u001b[0m\u001b[0m\n",
      "\u001b[1;32mD:\\Anaconda3\\envs\\issmca3\\lib\\site-packages\\keras\\engine\\training.py\u001b[0m in \u001b[0;36mpredict\u001b[1;34m(self, x, batch_size, verbose, steps)\u001b[0m\n\u001b[0;32m   1147\u001b[0m                              'argument.')\n\u001b[0;32m   1148\u001b[0m         \u001b[1;31m# Validate user data.\u001b[0m\u001b[1;33m\u001b[0m\u001b[1;33m\u001b[0m\u001b[1;33m\u001b[0m\u001b[0m\n\u001b[1;32m-> 1149\u001b[1;33m         \u001b[0mx\u001b[0m\u001b[1;33m,\u001b[0m \u001b[0m_\u001b[0m\u001b[1;33m,\u001b[0m \u001b[0m_\u001b[0m \u001b[1;33m=\u001b[0m \u001b[0mself\u001b[0m\u001b[1;33m.\u001b[0m\u001b[0m_standardize_user_data\u001b[0m\u001b[1;33m(\u001b[0m\u001b[0mx\u001b[0m\u001b[1;33m)\u001b[0m\u001b[1;33m\u001b[0m\u001b[1;33m\u001b[0m\u001b[0m\n\u001b[0m\u001b[0;32m   1150\u001b[0m         \u001b[1;32mif\u001b[0m \u001b[0mself\u001b[0m\u001b[1;33m.\u001b[0m\u001b[0mstateful\u001b[0m\u001b[1;33m:\u001b[0m\u001b[1;33m\u001b[0m\u001b[1;33m\u001b[0m\u001b[0m\n\u001b[0;32m   1151\u001b[0m             \u001b[1;32mif\u001b[0m \u001b[0mx\u001b[0m\u001b[1;33m[\u001b[0m\u001b[1;36m0\u001b[0m\u001b[1;33m]\u001b[0m\u001b[1;33m.\u001b[0m\u001b[0mshape\u001b[0m\u001b[1;33m[\u001b[0m\u001b[1;36m0\u001b[0m\u001b[1;33m]\u001b[0m \u001b[1;33m>\u001b[0m \u001b[0mbatch_size\u001b[0m \u001b[1;32mand\u001b[0m \u001b[0mx\u001b[0m\u001b[1;33m[\u001b[0m\u001b[1;36m0\u001b[0m\u001b[1;33m]\u001b[0m\u001b[1;33m.\u001b[0m\u001b[0mshape\u001b[0m\u001b[1;33m[\u001b[0m\u001b[1;36m0\u001b[0m\u001b[1;33m]\u001b[0m \u001b[1;33m%\u001b[0m \u001b[0mbatch_size\u001b[0m \u001b[1;33m!=\u001b[0m \u001b[1;36m0\u001b[0m\u001b[1;33m:\u001b[0m\u001b[1;33m\u001b[0m\u001b[1;33m\u001b[0m\u001b[0m\n",
      "\u001b[1;32mD:\\Anaconda3\\envs\\issmca3\\lib\\site-packages\\keras\\engine\\training.py\u001b[0m in \u001b[0;36m_standardize_user_data\u001b[1;34m(self, x, y, sample_weight, class_weight, check_array_lengths, batch_size)\u001b[0m\n\u001b[0;32m    749\u001b[0m             \u001b[0mfeed_input_shapes\u001b[0m\u001b[1;33m,\u001b[0m\u001b[1;33m\u001b[0m\u001b[1;33m\u001b[0m\u001b[0m\n\u001b[0;32m    750\u001b[0m             \u001b[0mcheck_batch_axis\u001b[0m\u001b[1;33m=\u001b[0m\u001b[1;32mFalse\u001b[0m\u001b[1;33m,\u001b[0m  \u001b[1;31m# Don't enforce the batch size.\u001b[0m\u001b[1;33m\u001b[0m\u001b[1;33m\u001b[0m\u001b[0m\n\u001b[1;32m--> 751\u001b[1;33m             exception_prefix='input')\n\u001b[0m\u001b[0;32m    752\u001b[0m \u001b[1;33m\u001b[0m\u001b[0m\n\u001b[0;32m    753\u001b[0m         \u001b[1;32mif\u001b[0m \u001b[0my\u001b[0m \u001b[1;32mis\u001b[0m \u001b[1;32mnot\u001b[0m \u001b[1;32mNone\u001b[0m\u001b[1;33m:\u001b[0m\u001b[1;33m\u001b[0m\u001b[1;33m\u001b[0m\u001b[0m\n",
      "\u001b[1;32mD:\\Anaconda3\\envs\\issmca3\\lib\\site-packages\\keras\\engine\\training_utils.py\u001b[0m in \u001b[0;36mstandardize_input_data\u001b[1;34m(data, names, shapes, check_batch_axis, exception_prefix)\u001b[0m\n\u001b[0;32m    126\u001b[0m                         \u001b[1;34m': expected '\u001b[0m \u001b[1;33m+\u001b[0m \u001b[0mnames\u001b[0m\u001b[1;33m[\u001b[0m\u001b[0mi\u001b[0m\u001b[1;33m]\u001b[0m \u001b[1;33m+\u001b[0m \u001b[1;34m' to have '\u001b[0m \u001b[1;33m+\u001b[0m\u001b[1;33m\u001b[0m\u001b[1;33m\u001b[0m\u001b[0m\n\u001b[0;32m    127\u001b[0m                         \u001b[0mstr\u001b[0m\u001b[1;33m(\u001b[0m\u001b[0mlen\u001b[0m\u001b[1;33m(\u001b[0m\u001b[0mshape\u001b[0m\u001b[1;33m)\u001b[0m\u001b[1;33m)\u001b[0m \u001b[1;33m+\u001b[0m \u001b[1;34m' dimensions, but got array '\u001b[0m\u001b[1;33m\u001b[0m\u001b[1;33m\u001b[0m\u001b[0m\n\u001b[1;32m--> 128\u001b[1;33m                         'with shape ' + str(data_shape))\n\u001b[0m\u001b[0;32m    129\u001b[0m                 \u001b[1;32mif\u001b[0m \u001b[1;32mnot\u001b[0m \u001b[0mcheck_batch_axis\u001b[0m\u001b[1;33m:\u001b[0m\u001b[1;33m\u001b[0m\u001b[1;33m\u001b[0m\u001b[0m\n\u001b[0;32m    130\u001b[0m                     \u001b[0mdata_shape\u001b[0m \u001b[1;33m=\u001b[0m \u001b[0mdata_shape\u001b[0m\u001b[1;33m[\u001b[0m\u001b[1;36m1\u001b[0m\u001b[1;33m:\u001b[0m\u001b[1;33m]\u001b[0m\u001b[1;33m\u001b[0m\u001b[1;33m\u001b[0m\u001b[0m\n",
      "\u001b[1;31mValueError\u001b[0m: Error when checking input: expected Input_Accel to have 3 dimensions, but got array with shape (50, 6)"
     ]
    }
   ],
   "source": [
    "test_predict = bmodel.predict(test_accel[0])\n",
    "testScores = metrics.accuracy_score(test_accel, test_predict.round())"
   ]
  },
  {
   "cell_type": "code",
   "execution_count": 132,
   "metadata": {},
   "outputs": [
    {
     "ename": "SyntaxError",
     "evalue": "invalid syntax (<ipython-input-132-b435fad25c4e>, line 7)",
     "output_type": "error",
     "traceback": [
      "\u001b[1;36m  File \u001b[1;32m\"<ipython-input-132-b435fad25c4e>\"\u001b[1;36m, line \u001b[1;32m7\u001b[0m\n\u001b[1;33m    'True_class': })\u001b[0m\n\u001b[1;37m                  ^\u001b[0m\n\u001b[1;31mSyntaxError\u001b[0m\u001b[1;31m:\u001b[0m invalid syntax\n"
     ]
    }
   ],
   "source": [
    "mse = np.mean(np.power(test_accel - test_predict, 2), keepdims=True)\n",
    "# testScore = metrics.accuracy_score(test_accel, test_predict.round())\n",
    "tc = np.mean(np.power(test_accel,2), axis=1)\n",
    "# print(len(mse))\n",
    "\n",
    "error_df = pd.DataFrame({'Reconstruction_error': mse,\n",
    "                        'True_class': })\n",
    "precision_rt, recall_rt, threshold_rt = metrics.precision_recall_curve(error_df.Reconstruction_error, error_df.True_class)\n",
    "\n",
    "plt.plot(threshold_rt, precision_rt[1:], label=\"Precision\",linewidth=5)\n",
    "plt.plot(threshold_rt, recall_rt[1:], label=\"Recall\",linewidth=5)\n",
    "plt.title('Precision and recall for different threshold values')\n",
    "plt.xlabel('Threshold')\n",
    "plt.ylabel('Precision/Recall')\n",
    "plt.legend()\n",
    "plt.show()"
   ]
  },
  {
   "cell_type": "markdown",
   "metadata": {},
   "source": [
    "### Multi Sensor input / autoencoder / single output model"
   ]
  },
  {
   "cell_type": "code",
   "execution_count": null,
   "metadata": {},
   "outputs": [],
   "source": [
    "# Config\n",
    "encoder_dimension = 42\n",
    "EPOCH = 100\n",
    "BATCH_SIZE = 24"
   ]
  },
  {
   "cell_type": "code",
   "execution_count": null,
   "metadata": {},
   "outputs": [],
   "source": [
    "def build_multi_in_single_out_model(train_accel, train_gyro, train_quart):\n",
    "    # All input\n",
    "    input_accel = Input(shape=(train_accel.shape[1], train_accel.shape[2]), name='Input_Accel')\n",
    "    input_gyro = Input(shape=(train_gyro.shape[1], train_gyro.shape[2]), name='Input_Gyro')\n",
    "    input_quart = Input(shape=(train_quart.shape[1], train_quart.shape[2]), name='Input_Quart')\n",
    "    # Encoder branch for Accel\n",
    "    accel_encoder = Dense(50, activation='relu', name='Encoder1_Accel')(input_accel)\n",
    "    accel_encoder = Dense(25, activation='relu', name='Encoder2_Accel')(accel_encoder)\n",
    "    # Encoder branch for Gyro\n",
    "    gyro_encoder = Dense(50, activation='relu', name='Encoder1_Gyro')(input_gyro)\n",
    "    gyro_encoder = Dense(25, activation='relu', name='Encoder2_Gyro')(gyro_encoder)\n",
    "    # Encoder branch for Quart\n",
    "    quart_encoder = Dense(50, activation='relu', name='Encoder1_Quart')(input_quart)\n",
    "    quart_encoder = Dense(25, activation='relu', name='Encoder2_Quart')(quart_encoder)\n",
    "    # Shared layer\n",
    "    shared_input = Concatenate(name='Concatenate')([accel_encoder, gyro_encoder, quart_encoder])\n",
    "    # Decoder\n",
    "    decoder = Dense(5, activation='relu', name='Shared_Hidden_Layer')(shared_input)\n",
    "    decoder = Dense(25, activation='relu', name='Decoder1')(decoder)\n",
    "    decoder = Dense(50, activation='relu', name='Decoder2')(decoder)\n",
    "    decoder = Dense(6, activation='relu', name='Output')(decoder)\n",
    "    model = Model(inputs=([input_accel, input_gyro, input_quart]), outputs=decoder)\n",
    "    return model"
   ]
  },
  {
   "cell_type": "code",
   "execution_count": null,
   "metadata": {},
   "outputs": [],
   "source": [
    "model = build_multi_in_single_out_model(train_accel, train_gyro, train_quart)\n",
    "model.summary()"
   ]
  },
  {
   "cell_type": "code",
   "execution_count": null,
   "metadata": {},
   "outputs": [],
   "source": [
    "plot_model(model, \n",
    "           to_file='model.png', \n",
    "           show_shapes=True,\n",
    "           show_layer_names=True)\n",
    "IPython.display.Image('model.png')"
   ]
  },
  {
   "cell_type": "code",
   "execution_count": null,
   "metadata": {},
   "outputs": [],
   "source": [
    "model.compile(optimizer='adam', metrics=['accuracy'], loss=['mean_squared_error'])"
   ]
  },
  {
   "cell_type": "code",
   "execution_count": null,
   "metadata": {},
   "outputs": [],
   "source": [
    "%%time\n",
    "history = model.fit([train_accel, train_gyro, train_quart], train_accel, \n",
    "                    validation_split=0.1, epochs=EPOCH, batch_size=BATCH_SIZE, shuffle=True, callbacks=callbacks)"
   ]
  },
  {
   "cell_type": "code",
   "execution_count": null,
   "metadata": {},
   "outputs": [],
   "source": [
    "test_predict = model.predict([test_accel, test_gyro, test_quart])\n",
    "score, acc = model.evaluate([test_accel, test_gyro, test_quart], test_accel, batch_size=32)\n",
    "print(f'Test Score: {score}')\n",
    "print(f'Test Acc: {acc}')"
   ]
  },
  {
   "cell_type": "code",
   "execution_count": null,
   "metadata": {},
   "outputs": [],
   "source": [
    "# list all data in history\n",
    "print(history.history.keys())"
   ]
  },
  {
   "cell_type": "code",
   "execution_count": null,
   "metadata": {},
   "outputs": [],
   "source": [
    "# summarize history for accuracy\n",
    "plt.plot(history.history['acc'])\n",
    "plt.plot(history.history['val_acc'])\n",
    "plt.title('model accuracy')\n",
    "plt.ylabel('accuracy')\n",
    "plt.xlabel('epoch')\n",
    "plt.legend(['train', 'test'], loc='upper left')\n",
    "plt.show()"
   ]
  },
  {
   "cell_type": "code",
   "execution_count": null,
   "metadata": {},
   "outputs": [],
   "source": [
    "# summarize history for loss\n",
    "plt.plot(history.history['loss'])\n",
    "plt.plot(history.history['val_loss'])\n",
    "plt.title('model loss')\n",
    "plt.ylabel('loss')\n",
    "plt.xlabel('epoch')\n",
    "plt.legend(['train', 'test'], loc='upper left')\n",
    "plt.show()"
   ]
  },
  {
   "cell_type": "code",
   "execution_count": null,
   "metadata": {},
   "outputs": [],
   "source": [
    "threshold = 6\n",
    "dist = np.linalg.norm(test_accel - test_predict, axis=1)"
   ]
  },
  {
   "cell_type": "code",
   "execution_count": null,
   "metadata": {},
   "outputs": [],
   "source": [
    "for d in dist:\n",
    "    if (d > threshold):\n",
    "        print('Anomaly')"
   ]
  },
  {
   "cell_type": "code",
   "execution_count": null,
   "metadata": {},
   "outputs": [],
   "source": []
  },
  {
   "cell_type": "markdown",
   "metadata": {},
   "source": [
    "### Multi sensor input / autoencoder / multi output model"
   ]
  },
  {
   "cell_type": "code",
   "execution_count": null,
   "metadata": {},
   "outputs": [],
   "source": [
    "# Config\n",
    "encoder_dimension = 42\n",
    "EPOCH = 250\n",
    "BATCH_SIZE = 24"
   ]
  },
  {
   "cell_type": "code",
   "execution_count": null,
   "metadata": {},
   "outputs": [],
   "source": [
    "def build_multi_in_multi_out_model(train_accel, train_gyro, train_quart):\n",
    "    # All input\n",
    "    input_accel = Input(shape=(train_accel.shape[1], train_accel.shape[2]), name='Input_Accel')\n",
    "    input_gyro = Input(shape=(train_gyro.shape[1], train_gyro.shape[2]), name='Input_Gyro')\n",
    "    input_quart = Input(shape=(train_quart.shape[1], train_quart.shape[2]), name='Input_Quart')\n",
    "    # Encoder branch for Accel\n",
    "    accel_encoder = Dense(50, activation='relu', name='Encoder1_Accel')(input_accel)\n",
    "    accel_encoder = Dense(25, activation='relu', name='Encoder2_Accel')(accel_encoder)\n",
    "    # Encoder branch for Gyro\n",
    "    gyro_encoder = Dense(50, activation='relu', name='Encoder1_Gyro')(input_gyro)\n",
    "    gyro_encoder = Dense(25, activation='relu', name='Encoder2_Gyro')(gyro_encoder)\n",
    "    # Encoder branch for Quart\n",
    "    quart_encoder = Dense(50, activation='relu', name='Encoder1_Quart')(input_quart)\n",
    "    quart_encoder = Dense(25, activation='relu', name='Encoder2_Quart')(quart_encoder)\n",
    "    # Shared layer\n",
    "    shared_input = Concatenate(name='Concatenate')([accel_encoder, gyro_encoder, quart_encoder])\n",
    "    shared_hidden_layer = Dense(5, activation='relu', name='Shared_Hidden_Layer')(shared_input)\n",
    "    # Decoder branch for Accel    \n",
    "    accel_decoder = Dense(25, activation='relu', name='Decoder1_Accel')(shared_hidden_layer)\n",
    "    accel_decoder = Dense(50, activation='relu', name='Decoder2_Accel')(accel_decoder)\n",
    "    accel_decoder = Dense(6, activation='relu', name='Output_Accel')(accel_decoder)\n",
    "    # Decoder branch for Gyro\n",
    "    gyro_decoder = Dense(25, activation='relu', name='Decoder1_Gyro')(shared_hidden_layer)\n",
    "    gyro_decoder = Dense(50, activation='relu', name='Decoder2_Gyro')(gyro_decoder)\n",
    "    gyro_decoder = Dense(6, activation='relu', name='Output_Gyro')(gyro_decoder)\n",
    "    # Decoder branch for Quart\n",
    "    quart_decoder = Dense(25, activation='relu', name='Decoder1_Quart')(shared_hidden_layer)\n",
    "    quart_decoder = Dense(50, activation='relu', name='Decoder2_Quart')(quart_decoder)\n",
    "    quart_decoder = Dense(8, activation='relu', name='Output_Quart')(quart_decoder)\n",
    "    \n",
    "    \n",
    "    model = Model(inputs=([input_accel, input_gyro, input_quart]), outputs=([accel_decoder, gyro_decoder, quart_decoder]))\n",
    "    return model"
   ]
  },
  {
   "cell_type": "code",
   "execution_count": null,
   "metadata": {},
   "outputs": [],
   "source": [
    "model2 = build_multi_in_multi_out_model(train_accel, train_gyro, train_quart)\n",
    "model2.summary()"
   ]
  },
  {
   "cell_type": "code",
   "execution_count": null,
   "metadata": {},
   "outputs": [],
   "source": [
    "plot_model(model2, \n",
    "           to_file='model2.png', \n",
    "           show_shapes=True,\n",
    "           show_layer_names=True)\n",
    "IPython.display.Image('model2.png')"
   ]
  },
  {
   "cell_type": "code",
   "execution_count": null,
   "metadata": {},
   "outputs": [],
   "source": [
    "model2.compile(optimizer='adam', metrics=['accuracy'], \n",
    "               loss=['mean_squared_error', 'mean_squared_error', 'mean_squared_error'])"
   ]
  },
  {
   "cell_type": "code",
   "execution_count": null,
   "metadata": {},
   "outputs": [],
   "source": [
    "%%time\n",
    "history2 = model2.fit([train_accel, train_gyro, train_quart], [train_accel, train_gyro, train_quart], \n",
    "                    validation_split=0.1, epochs=EPOCH, batch_size=BATCH_SIZE, shuffle=True, callbacks=callbacks)"
   ]
  },
  {
   "cell_type": "code",
   "execution_count": null,
   "metadata": {},
   "outputs": [],
   "source": [
    "test_predict2 = model2.predict([test_accel, test_gyro, test_quart])\n",
    "result = model2.evaluate([test_accel, test_gyro, test_quart], [test_accel, test_gyro, test_quart], batch_size=BATCH_SIZE)\n",
    "for idx in range(len(model2.metrics_names)):\n",
    "    print(f'{model2.metrics_names[idx]}: {result[idx]}')"
   ]
  },
  {
   "cell_type": "code",
   "execution_count": null,
   "metadata": {},
   "outputs": [],
   "source": [
    "# summarize history for accuracy\n",
    "plt.plot(history2.history['Output_Accel_acc'])\n",
    "plt.plot(history2.history['Output_Gyro_acc'])\n",
    "plt.plot(history2.history['Output_Quart_acc'])\n",
    "plt.title('model accuracy')\n",
    "plt.ylabel('accuracy')\n",
    "plt.xlabel('epoch')\n",
    "plt.legend(['train', 'test'], loc='upper left')\n",
    "plt.show()"
   ]
  },
  {
   "cell_type": "code",
   "execution_count": null,
   "metadata": {},
   "outputs": [],
   "source": [
    "# summarize history for loss\n",
    "plt.plot(history2.history['loss'])\n",
    "plt.plot(history2.history['val_loss'])\n",
    "plt.plot(history2.history['Output_Accel_loss'])\n",
    "plt.plot(history2.history['Output_Gyro_loss'])\n",
    "plt.plot(history2.history['Output_Quart_loss'])\n",
    "plt.title('model loss')\n",
    "plt.ylabel('loss')\n",
    "plt.xlabel('epoch')\n",
    "plt.legend(['train', 'test'], loc='upper left')\n",
    "plt.show()"
   ]
  },
  {
   "cell_type": "code",
   "execution_count": null,
   "metadata": {},
   "outputs": [],
   "source": []
  }
 ],
 "metadata": {
  "kernelspec": {
   "display_name": "Python 3",
   "language": "python",
   "name": "python3"
  },
  "language_info": {
   "codemirror_mode": {
    "name": "ipython",
    "version": 3
   },
   "file_extension": ".py",
   "mimetype": "text/x-python",
   "name": "python",
   "nbconvert_exporter": "python",
   "pygments_lexer": "ipython3",
   "version": "3.6.7"
  }
 },
 "nbformat": 4,
 "nbformat_minor": 4
}
