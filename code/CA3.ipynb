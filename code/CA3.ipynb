{
 "cells": [
  {
   "cell_type": "markdown",
   "metadata": {},
   "source": [
    "### ISSM CA3\n",
    "Name: Ng Boon Cheong Raymond  \n",
    "Student ID: A0198543R"
   ]
  },
  {
   "cell_type": "code",
   "execution_count": 348,
   "metadata": {},
   "outputs": [],
   "source": [
    "import numpy as np\n",
    "import pandas as pd\n",
    "import pydot\n",
    "import IPython\n",
    "import matplotlib.pyplot as plt\n",
    "%matplotlib inline\n",
    "\n",
    "import os\n",
    "import glob\n",
    "import time\n",
    "\n",
    "from keras.layers import Input, Dense, Concatenate\n",
    "from keras.models import Model\n",
    "from keras.callbacks import ReduceLROnPlateau, EarlyStopping\n",
    "from keras.utils import plot_model\n",
    "\n",
    "from sklearn.model_selection import train_test_split\n",
    "from sklearn.preprocessing import StandardScaler\n",
    "from sklearn import metrics"
   ]
  },
  {
   "cell_type": "markdown",
   "metadata": {},
   "source": [
    "### Dataset attributes\n",
    "Column 1: Timestamp in seconds  \n",
    "Column 2: Timestamp in microseconds  \n",
    "Column 3-15: [AccX, AccY, AccZ, GyrX, GyrY, GyrZ, MagX, MagY, MagZ, Q1, Q2, Q3, Q4] of sensor S1 (Left Calf)  \n",
    "Column 16-28: [AccX, AccY, AccZ, GyrX, GyrY, GyrZ, MagX, MagY, MagZ, Q1, Q2, Q3, Q4] of sensor S2 (Left Thigh)  \n",
    "Column 29-41: [AccX, AccY, AccZ, GyrX, GyrY, GyrZ, MagX, MagY, MagZ, Q1, Q2, Q3, Q4] of sensor S3 (Right Calf)  \n",
    "Column 42-54: [AccX, AccY, AccZ, GyrX, GyrY, GyrZ, MagX, MagY, MagZ, Q1, Q2, Q3, Q4] of sensor S4 (Right Thigh)  \n",
    "Column 55-67: [AccX, AccY, AccZ, GyrX, GyrY, GyrZ, MagX, MagY, MagZ, Q1, Q2, Q3, Q4] of sensor S5 (Back)  \n",
    "Column 68-80: [AccX, AccY, AccZ, GyrX, GyrY, GyrZ, MagX, MagY, MagZ, Q1, Q2, Q3, Q4] of sensor S6 (Left Lower Arm)  \n",
    "Column 81-93: [AccX, AccY, AccZ, GyrX, GyrY, GyrZ, MagX, MagY, MagZ, Q1, Q2, Q3, Q4] of sensor S7 (Left Upper Arm)  \n",
    "Column 94-106: [AccX, AccY, AccZ, GyrX, GyrY, GyrZ, MagX, MagY, MagZ, Q1, Q2, Q3, Q4] of sensor S8 (Right Lower Arm)  \n",
    "Column 107-119: [AccX, AccY, AccZ, GyrX, GyrY, GyrZ, MagX, MagY, MagZ, Q1, Q2, Q3, Q4] of sensor S9 (Right Upper Arm)  \n",
    "Column 120: Label (see activity set) [Walking = 1] [Jogging = 2] [Running = 3]"
   ]
  },
  {
   "cell_type": "markdown",
   "metadata": {},
   "source": [
    "Col[0]: Timestamp in seconds  \n",
    "Col[1]: Timestamp in microseconds  \n",
    "Col[67-69]: Accel Sensor S6  \n",
    "Col[70-72]: Gyro Sensor S6  \n",
    "Col[76-79]: Quart Sensor S6  \n",
    "Col[93-95]: Accel Sensor S8  \n",
    "Col[96-98]: Gyro Sensor S8  \n",
    "Col[102-105]: Quart Sensor S8  \n",
    "Col[119]: Activity Label"
   ]
  },
  {
   "cell_type": "code",
   "execution_count": 395,
   "metadata": {},
   "outputs": [],
   "source": [
    "def readLog(file):\n",
    "    \"\"\"Read a single file and return 3 dataframe, for walking, jogging and running\"\"\"\n",
    "    df = pd.read_csv(file, header=None, delim_whitespace=True)\n",
    "    df_walk = df[df[119] == 1]\n",
    "    df_jog = df[df[119] == 2]\n",
    "    df_run = df[df[119] == 3]\n",
    "    return df_walk, df_jog, df_run"
   ]
  },
  {
   "cell_type": "code",
   "execution_count": 396,
   "metadata": {},
   "outputs": [],
   "source": [
    "def removeOtherSensor(df_walk, df_jog, df_run):\n",
    "    # [3:67] S1 to S5\n",
    "    # [73:76] Mag sensor for S6\n",
    "    # [80:93] S7\n",
    "    # [99:102] Mag sensor for S8\n",
    "    # [106:119] S9\n",
    "    \"\"\"Remove all other sensors other than S6 and S8, also removed mag sensors\"\"\"\n",
    "    idx = np.r_[2:67, 73:76, 80:93, 99:102, 106:119]\n",
    "    return df_walk.drop(df_walk.columns[idx], axis=1), df_jog.drop(df_jog.columns[idx], axis=1), df_run.drop(df_run.columns[idx], axis=1)"
   ]
  },
  {
   "cell_type": "code",
   "execution_count": 397,
   "metadata": {},
   "outputs": [],
   "source": [
    "def resetIndex(df_walk, df_jog, df_run):\n",
    "    \"\"\"Drop the index column created by reset_index()\"\"\"\n",
    "    return df_walk.reset_index().drop('index', axis=1), df_jog.reset_index().drop('index', axis=1), df_run.reset_index().drop('index', axis=1)"
   ]
  },
  {
   "cell_type": "code",
   "execution_count": 398,
   "metadata": {},
   "outputs": [],
   "source": [
    "def trimForCompleteSeconds(df):\n",
    "    \"\"\"Trim the dataframe so that only complete seconds is retained, each row is 0.02 seconds window\"\"\"\n",
    "    rIdxDrop = []\n",
    "    # This will trim the first few row of incomplete microseconds\n",
    "    for i in range(len(df[1])):\n",
    "        if df[1][i] != 0.0:\n",
    "            rIdxDrop.append(i)\n",
    "        else:\n",
    "            break\n",
    "    # This will trim the last few row of imcomplete microseconds\n",
    "    for i in reversed(range(len(df[1]))):\n",
    "        if df[1][i] != 980000.0:\n",
    "            rIdxDrop.append(i)\n",
    "        else:\n",
    "            break\n",
    "    return df.drop(rIdxDrop, axis=0)"
   ]
  },
  {
   "cell_type": "code",
   "execution_count": 399,
   "metadata": {},
   "outputs": [],
   "source": [
    "def splitSensor(df):\n",
    "    \"\"\"Split an activity dataframe into 3 sensor type, accel, gryo and quart\"\"\"\n",
    "    # index for accel sensor for S6 and S8\n",
    "    idx_accel = [67, 68, 69, 93, 94, 95]\n",
    "    # index for gryo sensor for S6 and S8\n",
    "    idx_gyro = [70, 71, 72, 96, 97, 98]\n",
    "    # index for quart sensor for S6 and S8\n",
    "    idx_quart = [76, 77, 78, 79, 102, 103, 104, 105]\n",
    "    return df[idx_accel], df[idx_gyro], df[idx_quart]"
   ]
  },
  {
   "cell_type": "code",
   "execution_count": 400,
   "metadata": {},
   "outputs": [],
   "source": [
    "def createWindow(df, timestep=50):\n",
    "    \"\"\"Split sensor data into windows of timestep size (timestep (in 0.02 microseconds) : 50 = 1 sec)\"\"\"\n",
    "    win_stack = []\n",
    "    for i in range(0, len(df), timestep):\n",
    "        try:\n",
    "            window = []\n",
    "            for t in range(timestep):\n",
    "                window.append(df[i+t])\n",
    "            win_stack.append(window)\n",
    "        except:\n",
    "            continue\n",
    "    return np.array(win_stack)"
   ]
  },
  {
   "cell_type": "code",
   "execution_count": 401,
   "metadata": {},
   "outputs": [],
   "source": [
    "def makeDataset():\n",
    "    \"\"\"Make a dataset split into walk, jog, run activity with all sensors\"\"\"\n",
    "    dataset_dir = '..\\dataset'\n",
    "    files = glob.glob(dataset_dir + '\\*.log')\n",
    "    dfWalk = []\n",
    "    dfJog = []\n",
    "    dfRun = []\n",
    "    for file in files:\n",
    "        walk, jog, run = readLog(file)\n",
    "        dfw, dfj, dfr = removeOtherSensor(walk, jog, run)\n",
    "        dfw, dfj, dfr = resetIndex(dfw, dfj, dfr)\n",
    "        dfw = trimForCompleteSeconds(dfw)\n",
    "        dfj = trimForCompleteSeconds(dfj)\n",
    "        dfr = trimForCompleteSeconds(dfr)\n",
    "        dfWalk.append(dfw)\n",
    "        dfJog.append(dfj)\n",
    "        dfRun.append(dfr)\n",
    "    return pd.concat(dfWalk, ignore_index=True), pd.concat(dfJog, ignore_index=True), pd.concat(dfRun, ignore_index=True)"
   ]
  },
  {
   "cell_type": "code",
   "execution_count": 402,
   "metadata": {},
   "outputs": [],
   "source": [
    "def makeSensorDataSet(df):\n",
    "    \"\"\"Make a secondary dataset from a single activity dataset\"\"\"\n",
    "    accel, gyro, quart = splitSensor(df)\n",
    "    accel, gyro, quart = resetIndex(accel, gyro, quart)\n",
    "    return accel, gyro, quart"
   ]
  },
  {
   "cell_type": "code",
   "execution_count": 403,
   "metadata": {},
   "outputs": [],
   "source": [
    "def makeAllSensorWindowedDataSet(accel, gyro, quart, timestep):\n",
    "    \"\"\"Spilt into a windowed dataset. Format = [sample, timestep, features]\"\"\"\n",
    "    stack = []\n",
    "    for aCol in accel:\n",
    "        stack.append(createWindow(accel[aCol], timestep))\n",
    "    for gCol in gyro:\n",
    "        stack.append(createWindow(gyro[gCol], timestep))\n",
    "    for qCol in quart:\n",
    "        stack.append(createWindow(quart[qCol], timestep))\n",
    "    return np.dstack(stack)    "
   ]
  },
  {
   "cell_type": "code",
   "execution_count": 404,
   "metadata": {},
   "outputs": [],
   "source": [
    "def makeSingleSensorWindowedDataSet(sensor, timestep):\n",
    "    \"\"\"\"\"\"\n",
    "    stack = []\n",
    "    for col in sensor:\n",
    "        stack.append(createWindow(sensor[col], timestep))\n",
    "    return np.dstack(stack)"
   ]
  },
  {
   "cell_type": "code",
   "execution_count": 405,
   "metadata": {},
   "outputs": [
    {
     "name": "stdout",
     "output_type": "stream",
     "text": [
      "Wall time: 29.2 s\n"
     ]
    }
   ],
   "source": [
    "%%time\n",
    "walk, jog, run = makeDataset()"
   ]
  },
  {
   "cell_type": "code",
   "execution_count": 406,
   "metadata": {},
   "outputs": [
    {
     "name": "stdout",
     "output_type": "stream",
     "text": [
      "Wall time: 22.9 ms\n"
     ]
    }
   ],
   "source": [
    "%%time\n",
    "accel, gyro, quart = makeSensorDataSet(run)"
   ]
  },
  {
   "cell_type": "code",
   "execution_count": 407,
   "metadata": {},
   "outputs": [],
   "source": [
    "standscale = StandardScaler()\n",
    "accelS = pd.DataFrame(\n",
    "    data=standscale.fit_transform(accel),\n",
    "    columns=accel.columns)\n",
    "gyroS = pd.DataFrame(\n",
    "    data=standscale.fit_transform(gyro),\n",
    "    columns=gyro.columns)\n",
    "quartS = pd.DataFrame(\n",
    "    data=standscale.fit_transform(quart),\n",
    "    columns=quart.columns)"
   ]
  },
  {
   "cell_type": "code",
   "execution_count": 378,
   "metadata": {},
   "outputs": [
    {
     "data": {
      "text/html": [
       "<div>\n",
       "<style scoped>\n",
       "    .dataframe tbody tr th:only-of-type {\n",
       "        vertical-align: middle;\n",
       "    }\n",
       "\n",
       "    .dataframe tbody tr th {\n",
       "        vertical-align: top;\n",
       "    }\n",
       "\n",
       "    .dataframe thead th {\n",
       "        text-align: right;\n",
       "    }\n",
       "</style>\n",
       "<table border=\"1\" class=\"dataframe\">\n",
       "  <thead>\n",
       "    <tr style=\"text-align: right;\">\n",
       "      <th></th>\n",
       "      <th>67</th>\n",
       "      <th>68</th>\n",
       "      <th>69</th>\n",
       "      <th>93</th>\n",
       "      <th>94</th>\n",
       "      <th>95</th>\n",
       "    </tr>\n",
       "  </thead>\n",
       "  <tbody>\n",
       "    <tr>\n",
       "      <td>0</td>\n",
       "      <td>1.064080</td>\n",
       "      <td>0.321116</td>\n",
       "      <td>1.931794</td>\n",
       "      <td>-0.485585</td>\n",
       "      <td>-0.700981</td>\n",
       "      <td>-0.819339</td>\n",
       "    </tr>\n",
       "    <tr>\n",
       "      <td>1</td>\n",
       "      <td>1.299288</td>\n",
       "      <td>0.092340</td>\n",
       "      <td>1.846318</td>\n",
       "      <td>-1.012738</td>\n",
       "      <td>-1.176586</td>\n",
       "      <td>-0.600937</td>\n",
       "    </tr>\n",
       "    <tr>\n",
       "      <td>2</td>\n",
       "      <td>1.245094</td>\n",
       "      <td>-0.264638</td>\n",
       "      <td>1.379166</td>\n",
       "      <td>-0.691742</td>\n",
       "      <td>-0.248519</td>\n",
       "      <td>-0.461477</td>\n",
       "    </tr>\n",
       "    <tr>\n",
       "      <td>3</td>\n",
       "      <td>1.289300</td>\n",
       "      <td>-0.337002</td>\n",
       "      <td>1.051934</td>\n",
       "      <td>-0.646460</td>\n",
       "      <td>-0.255666</td>\n",
       "      <td>-0.334945</td>\n",
       "    </tr>\n",
       "    <tr>\n",
       "      <td>4</td>\n",
       "      <td>1.668318</td>\n",
       "      <td>-0.491352</td>\n",
       "      <td>0.836824</td>\n",
       "      <td>-1.045127</td>\n",
       "      <td>0.368192</td>\n",
       "      <td>0.104338</td>\n",
       "    </tr>\n",
       "  </tbody>\n",
       "</table>\n",
       "</div>"
      ],
      "text/plain": [
       "         67        68        69        93        94        95\n",
       "0  1.064080  0.321116  1.931794 -0.485585 -0.700981 -0.819339\n",
       "1  1.299288  0.092340  1.846318 -1.012738 -1.176586 -0.600937\n",
       "2  1.245094 -0.264638  1.379166 -0.691742 -0.248519 -0.461477\n",
       "3  1.289300 -0.337002  1.051934 -0.646460 -0.255666 -0.334945\n",
       "4  1.668318 -0.491352  0.836824 -1.045127  0.368192  0.104338"
      ]
     },
     "execution_count": 378,
     "metadata": {},
     "output_type": "execute_result"
    }
   ],
   "source": [
    "accelS.head()"
   ]
  },
  {
   "cell_type": "code",
   "execution_count": 379,
   "metadata": {},
   "outputs": [
    {
     "data": {
      "text/html": [
       "<div>\n",
       "<style scoped>\n",
       "    .dataframe tbody tr th:only-of-type {\n",
       "        vertical-align: middle;\n",
       "    }\n",
       "\n",
       "    .dataframe tbody tr th {\n",
       "        vertical-align: top;\n",
       "    }\n",
       "\n",
       "    .dataframe thead th {\n",
       "        text-align: right;\n",
       "    }\n",
       "</style>\n",
       "<table border=\"1\" class=\"dataframe\">\n",
       "  <thead>\n",
       "    <tr style=\"text-align: right;\">\n",
       "      <th></th>\n",
       "      <th>70</th>\n",
       "      <th>71</th>\n",
       "      <th>72</th>\n",
       "      <th>96</th>\n",
       "      <th>97</th>\n",
       "      <th>98</th>\n",
       "    </tr>\n",
       "  </thead>\n",
       "  <tbody>\n",
       "    <tr>\n",
       "      <td>0</td>\n",
       "      <td>-1.395720</td>\n",
       "      <td>0.211073</td>\n",
       "      <td>0.519637</td>\n",
       "      <td>0.045089</td>\n",
       "      <td>1.091930</td>\n",
       "      <td>1.332044</td>\n",
       "    </tr>\n",
       "    <tr>\n",
       "      <td>1</td>\n",
       "      <td>-1.537505</td>\n",
       "      <td>0.789374</td>\n",
       "      <td>0.515861</td>\n",
       "      <td>0.879417</td>\n",
       "      <td>0.869347</td>\n",
       "      <td>1.606804</td>\n",
       "    </tr>\n",
       "    <tr>\n",
       "      <td>2</td>\n",
       "      <td>-1.717871</td>\n",
       "      <td>1.315175</td>\n",
       "      <td>0.422842</td>\n",
       "      <td>0.907541</td>\n",
       "      <td>1.343264</td>\n",
       "      <td>0.592113</td>\n",
       "    </tr>\n",
       "    <tr>\n",
       "      <td>3</td>\n",
       "      <td>-1.452925</td>\n",
       "      <td>1.508695</td>\n",
       "      <td>0.418800</td>\n",
       "      <td>0.837358</td>\n",
       "      <td>1.334838</td>\n",
       "      <td>-0.142067</td>\n",
       "    </tr>\n",
       "    <tr>\n",
       "      <td>4</td>\n",
       "      <td>-0.956038</td>\n",
       "      <td>1.716884</td>\n",
       "      <td>0.452871</td>\n",
       "      <td>0.486249</td>\n",
       "      <td>1.699737</td>\n",
       "      <td>-0.306413</td>\n",
       "    </tr>\n",
       "  </tbody>\n",
       "</table>\n",
       "</div>"
      ],
      "text/plain": [
       "         70        71        72        96        97        98\n",
       "0 -1.395720  0.211073  0.519637  0.045089  1.091930  1.332044\n",
       "1 -1.537505  0.789374  0.515861  0.879417  0.869347  1.606804\n",
       "2 -1.717871  1.315175  0.422842  0.907541  1.343264  0.592113\n",
       "3 -1.452925  1.508695  0.418800  0.837358  1.334838 -0.142067\n",
       "4 -0.956038  1.716884  0.452871  0.486249  1.699737 -0.306413"
      ]
     },
     "execution_count": 379,
     "metadata": {},
     "output_type": "execute_result"
    }
   ],
   "source": [
    "gyroS.head()"
   ]
  },
  {
   "cell_type": "code",
   "execution_count": 380,
   "metadata": {},
   "outputs": [
    {
     "data": {
      "text/html": [
       "<div>\n",
       "<style scoped>\n",
       "    .dataframe tbody tr th:only-of-type {\n",
       "        vertical-align: middle;\n",
       "    }\n",
       "\n",
       "    .dataframe tbody tr th {\n",
       "        vertical-align: top;\n",
       "    }\n",
       "\n",
       "    .dataframe thead th {\n",
       "        text-align: right;\n",
       "    }\n",
       "</style>\n",
       "<table border=\"1\" class=\"dataframe\">\n",
       "  <thead>\n",
       "    <tr style=\"text-align: right;\">\n",
       "      <th></th>\n",
       "      <th>76</th>\n",
       "      <th>77</th>\n",
       "      <th>78</th>\n",
       "      <th>79</th>\n",
       "      <th>102</th>\n",
       "      <th>103</th>\n",
       "      <th>104</th>\n",
       "      <th>105</th>\n",
       "    </tr>\n",
       "  </thead>\n",
       "  <tbody>\n",
       "    <tr>\n",
       "      <td>0</td>\n",
       "      <td>-0.015269</td>\n",
       "      <td>0.917351</td>\n",
       "      <td>0.190491</td>\n",
       "      <td>-2.716069</td>\n",
       "      <td>-1.711367</td>\n",
       "      <td>1.371357</td>\n",
       "      <td>-1.096449</td>\n",
       "      <td>-0.121018</td>\n",
       "    </tr>\n",
       "    <tr>\n",
       "      <td>1</td>\n",
       "      <td>0.024372</td>\n",
       "      <td>1.003180</td>\n",
       "      <td>0.221996</td>\n",
       "      <td>-2.707743</td>\n",
       "      <td>-1.684111</td>\n",
       "      <td>1.293990</td>\n",
       "      <td>-1.130946</td>\n",
       "      <td>-0.104590</td>\n",
       "    </tr>\n",
       "    <tr>\n",
       "      <td>2</td>\n",
       "      <td>0.061588</td>\n",
       "      <td>1.139099</td>\n",
       "      <td>0.253521</td>\n",
       "      <td>-2.680307</td>\n",
       "      <td>-1.642281</td>\n",
       "      <td>1.252361</td>\n",
       "      <td>-1.174690</td>\n",
       "      <td>-0.054531</td>\n",
       "    </tr>\n",
       "    <tr>\n",
       "      <td>3</td>\n",
       "      <td>0.097147</td>\n",
       "      <td>1.289085</td>\n",
       "      <td>0.276507</td>\n",
       "      <td>-2.636986</td>\n",
       "      <td>-1.600329</td>\n",
       "      <td>1.234726</td>\n",
       "      <td>-1.213930</td>\n",
       "      <td>0.008691</td>\n",
       "    </tr>\n",
       "    <tr>\n",
       "      <td>4</td>\n",
       "      <td>0.128852</td>\n",
       "      <td>1.452426</td>\n",
       "      <td>0.283345</td>\n",
       "      <td>-2.575057</td>\n",
       "      <td>-1.541613</td>\n",
       "      <td>1.242959</td>\n",
       "      <td>-1.259015</td>\n",
       "      <td>0.065008</td>\n",
       "    </tr>\n",
       "  </tbody>\n",
       "</table>\n",
       "</div>"
      ],
      "text/plain": [
       "        76        77        78        79        102       103       104  \\\n",
       "0 -0.015269  0.917351  0.190491 -2.716069 -1.711367  1.371357 -1.096449   \n",
       "1  0.024372  1.003180  0.221996 -2.707743 -1.684111  1.293990 -1.130946   \n",
       "2  0.061588  1.139099  0.253521 -2.680307 -1.642281  1.252361 -1.174690   \n",
       "3  0.097147  1.289085  0.276507 -2.636986 -1.600329  1.234726 -1.213930   \n",
       "4  0.128852  1.452426  0.283345 -2.575057 -1.541613  1.242959 -1.259015   \n",
       "\n",
       "        105  \n",
       "0 -0.121018  \n",
       "1 -0.104590  \n",
       "2 -0.054531  \n",
       "3  0.008691  \n",
       "4  0.065008  "
      ]
     },
     "execution_count": 380,
     "metadata": {},
     "output_type": "execute_result"
    }
   ],
   "source": [
    "quartS.head()"
   ]
  },
  {
   "cell_type": "code",
   "execution_count": 455,
   "metadata": {},
   "outputs": [],
   "source": [
    "accelW = makeSingleSensorWindowedDataSet(accelS, 50)\n",
    "gyroW = makeSingleSensorWindowedDataSet(gyroS, 50)\n",
    "quartW = makeSingleSensorWindowedDataSet(quartS, 50)\n",
    "\n",
    "accel_train_size = np.int(len(accelW) * 0.8)\n",
    "gyro_train_size = np.int(len(gyroW) * 0.8)\n",
    "quart_train_size = np.int(len(quartW) * 0.8)\n",
    "\n",
    "train_accel, test_accel = accelW[:accel_train_size,:,:], accelW[accel_train_size:]\n",
    "train_gyro, test_gyro = gyroW[:gyro_train_size,:,:], gyroW[gyro_train_size:]\n",
    "train_quart, test_quart = quartW[:quart_train_size,:,:], quartW[quart_train_size:]"
   ]
  },
  {
   "cell_type": "code",
   "execution_count": 442,
   "metadata": {},
   "outputs": [
    {
     "name": "stdout",
     "output_type": "stream",
     "text": [
      "Train Accel: (549, 50, 6), Test Accel: (138, 50, 6)\n",
      "Train Accel: (549, 50, 6), Test Accel: (138, 50, 6)\n",
      "Train Accel: (549, 50, 8), Test Accel: (138, 50, 8)\n"
     ]
    }
   ],
   "source": [
    "print(f'Train Accel: {train_accel.shape}, Test Accel: {test_accel.shape}')\n",
    "print(f'Train Accel: {train_gyro.shape}, Test Accel: {test_gyro.shape}')\n",
    "print(f'Train Accel: {train_quart.shape}, Test Accel: {test_quart.shape}')"
   ]
  },
  {
   "cell_type": "code",
   "execution_count": 443,
   "metadata": {},
   "outputs": [],
   "source": [
    "seed = 42\n",
    "np.random.seed(seed)"
   ]
  },
  {
   "cell_type": "code",
   "execution_count": 444,
   "metadata": {},
   "outputs": [],
   "source": [
    "callbacks = [\n",
    "    ReduceLROnPlateau(monitor='val_loss', patience=5, cooldown=0),\n",
    "    EarlyStopping(monitor='val_acc', min_delta=1e-4, patience=5)\n",
    "]"
   ]
  },
  {
   "cell_type": "markdown",
   "metadata": {},
   "source": [
    "### Base Model (Accel only)"
   ]
  },
  {
   "cell_type": "code",
   "execution_count": 463,
   "metadata": {},
   "outputs": [],
   "source": [
    "# Config\n",
    "encoder_dimension = 42\n",
    "EPOCH = 100\n",
    "BATCH_SIZE = 24"
   ]
  },
  {
   "cell_type": "code",
   "execution_count": 446,
   "metadata": {},
   "outputs": [],
   "source": [
    "def build_base_model(train_accel):\n",
    "    # Input dimension\n",
    "    input_accel = Input(shape=(train_accel.shape[1],train_accel.shape[2]), name='Input_Accel')\n",
    "    # Encoder\n",
    "    encoder = Dense(50, activation='relu', name='Encoder1')(input_accel)\n",
    "    encoder = Dense(25, activation='relu', name='Encoder2')(encoder)\n",
    "    # Hidden\n",
    "    hidden = Dense(5, activation='relu', name='Hidden')(encoder)\n",
    "    # Decoder\n",
    "    decoder = Dense(25, activation='relu', name='Decoder1')(hidden)\n",
    "    decoder = Dense(50, activation='relu', name='Decoder2')(decoder)\n",
    "    output = Dense(6, activation='relu', name='Output')(decoder)\n",
    "    model = Model(inputs=input_accel, output=output)\n",
    "    return model"
   ]
  },
  {
   "cell_type": "code",
   "execution_count": 447,
   "metadata": {},
   "outputs": [
    {
     "name": "stdout",
     "output_type": "stream",
     "text": [
      "_________________________________________________________________\n",
      "Layer (type)                 Output Shape              Param #   \n",
      "=================================================================\n",
      "Input_Accel (InputLayer)     (None, 50, 6)             0         \n",
      "_________________________________________________________________\n",
      "Encoder1 (Dense)             (None, 50, 50)            350       \n",
      "_________________________________________________________________\n",
      "Encoder2 (Dense)             (None, 50, 25)            1275      \n",
      "_________________________________________________________________\n",
      "Hidden (Dense)               (None, 50, 5)             130       \n",
      "_________________________________________________________________\n",
      "Decoder1 (Dense)             (None, 50, 25)            150       \n",
      "_________________________________________________________________\n",
      "Decoder2 (Dense)             (None, 50, 50)            1300      \n",
      "_________________________________________________________________\n",
      "Output (Dense)               (None, 50, 6)             306       \n",
      "=================================================================\n",
      "Total params: 3,511\n",
      "Trainable params: 3,511\n",
      "Non-trainable params: 0\n",
      "_________________________________________________________________\n"
     ]
    },
    {
     "name": "stderr",
     "output_type": "stream",
     "text": [
      "D:\\Anaconda3\\envs\\issmca3\\lib\\site-packages\\ipykernel_launcher.py:13: UserWarning: Update your `Model` call to the Keras 2 API: `Model(inputs=Tensor(\"In..., outputs=Tensor(\"Ou...)`\n",
      "  del sys.path[0]\n"
     ]
    }
   ],
   "source": [
    "bmodel = build_base_model(train_accel)\n",
    "bmodel.summary()"
   ]
  },
  {
   "cell_type": "code",
   "execution_count": 448,
   "metadata": {},
   "outputs": [
    {
     "data": {
      "image/png": "[encoded data removed]",
      "text/plain": [
       "<IPython.core.display.Image object>"
      ]
     },
     "execution_count": 448,
     "metadata": {},
     "output_type": "execute_result"
    }
   ],
   "source": [
    "plot_model(bmodel, \n",
    "           to_file='modelb.png', \n",
    "           show_shapes=True,\n",
    "           show_layer_names=True)\n",
    "IPython.display.Image('modelb.png')"
   ]
  },
  {
   "cell_type": "code",
   "execution_count": 458,
   "metadata": {},
   "outputs": [],
   "source": [
    "bmodel.compile(optimizer='adam', metrics=['accuracy'], loss=['mean_squared_error'])"
   ]
  },
  {
   "cell_type": "code",
   "execution_count": 464,
   "metadata": {},
   "outputs": [
    {
     "name": "stdout",
     "output_type": "stream",
     "text": [
      "Train on 494 samples, validate on 55 samples\n",
      "Epoch 1/100\n",
      "494/494 [==============================] - 0s 395us/step - loss: 0.5185 - acc: 0.9584 - val_loss: 0.6045 - val_acc: 0.9418\n",
      "Epoch 2/100\n",
      "494/494 [==============================] - 0s 407us/step - loss: 0.5184 - acc: 0.9590 - val_loss: 0.6044 - val_acc: 0.9411\n",
      "Epoch 3/100\n",
      "494/494 [==============================] - 0s 324us/step - loss: 0.5184 - acc: 0.9580 - val_loss: 0.6044 - val_acc: 0.9433\n",
      "Epoch 4/100\n",
      "494/494 [==============================] - 0s 283us/step - loss: 0.5183 - acc: 0.9594 - val_loss: 0.6042 - val_acc: 0.9433\n",
      "Epoch 5/100\n",
      "494/494 [==============================] - 0s 292us/step - loss: 0.5182 - acc: 0.9605 - val_loss: 0.6040 - val_acc: 0.9422\n",
      "Epoch 6/100\n",
      "494/494 [==============================] - 0s 275us/step - loss: 0.5181 - acc: 0.9612 - val_loss: 0.6039 - val_acc: 0.9462\n",
      "Epoch 7/100\n",
      "494/494 [==============================] - 0s 383us/step - loss: 0.5181 - acc: 0.9616 - val_loss: 0.6037 - val_acc: 0.9465\n",
      "Epoch 8/100\n",
      "494/494 [==============================] - 0s 330us/step - loss: 0.5180 - acc: 0.9613 - val_loss: 0.6038 - val_acc: 0.9455\n",
      "Epoch 9/100\n",
      "494/494 [==============================] - 0s 275us/step - loss: 0.5180 - acc: 0.9615 - val_loss: 0.6038 - val_acc: 0.9447\n",
      "Epoch 10/100\n",
      "494/494 [==============================] - 0s 267us/step - loss: 0.5179 - acc: 0.9632 - val_loss: 0.6036 - val_acc: 0.9484\n",
      "Epoch 11/100\n",
      "494/494 [==============================] - 0s 308us/step - loss: 0.5179 - acc: 0.9620 - val_loss: 0.6036 - val_acc: 0.9484\n",
      "Epoch 12/100\n",
      "494/494 [==============================] - ETA: 0s - loss: 0.5198 - acc: 0.963 - 0s 313us/step - loss: 0.5178 - acc: 0.9634 - val_loss: 0.6036 - val_acc: 0.9473\n",
      "Epoch 13/100\n",
      "494/494 [==============================] - 0s 320us/step - loss: 0.5178 - acc: 0.9638 - val_loss: 0.6034 - val_acc: 0.9480\n",
      "Epoch 14/100\n",
      "494/494 [==============================] - 0s 321us/step - loss: 0.5178 - acc: 0.9629 - val_loss: 0.6033 - val_acc: 0.9527\n",
      "Epoch 15/100\n",
      "494/494 [==============================] - 0s 381us/step - loss: 0.5177 - acc: 0.9633 - val_loss: 0.6036 - val_acc: 0.9469\n",
      "Epoch 16/100\n",
      "494/494 [==============================] - 0s 354us/step - loss: 0.5177 - acc: 0.9636 - val_loss: 0.6035 - val_acc: 0.9509\n",
      "Epoch 17/100\n",
      "494/494 [==============================] - 0s 315us/step - loss: 0.5177 - acc: 0.9643 - val_loss: 0.6034 - val_acc: 0.9491\n",
      "Epoch 18/100\n",
      "494/494 [==============================] - 0s 277us/step - loss: 0.5177 - acc: 0.9631 - val_loss: 0.6034 - val_acc: 0.9502\n",
      "Epoch 19/100\n",
      "494/494 [==============================] - 0s 337us/step - loss: 0.5176 - acc: 0.9637 - val_loss: 0.6032 - val_acc: 0.9531\n",
      "Epoch 20/100\n",
      "494/494 [==============================] - 0s 389us/step - loss: 0.5175 - acc: 0.9656 - val_loss: 0.6032 - val_acc: 0.9531\n",
      "Epoch 21/100\n",
      "494/494 [==============================] - 0s 375us/step - loss: 0.5175 - acc: 0.9651 - val_loss: 0.6032 - val_acc: 0.9527\n",
      "Epoch 22/100\n",
      "494/494 [==============================] - 0s 413us/step - loss: 0.5175 - acc: 0.9651 - val_loss: 0.6032 - val_acc: 0.9538\n",
      "Epoch 23/100\n",
      "494/494 [==============================] - 0s 399us/step - loss: 0.5175 - acc: 0.9656 - val_loss: 0.6032 - val_acc: 0.9527\n",
      "Epoch 24/100\n",
      "494/494 [==============================] - 0s 345us/step - loss: 0.5175 - acc: 0.9657 - val_loss: 0.6032 - val_acc: 0.9535\n",
      "Epoch 25/100\n",
      "494/494 [==============================] - 0s 365us/step - loss: 0.5175 - acc: 0.9658 - val_loss: 0.6032 - val_acc: 0.9527\n",
      "Epoch 26/100\n",
      "494/494 [==============================] - 0s 405us/step - loss: 0.5175 - acc: 0.9656 - val_loss: 0.6032 - val_acc: 0.9531\n",
      "Epoch 27/100\n",
      "494/494 [==============================] - 0s 393us/step - loss: 0.5175 - acc: 0.9657 - val_loss: 0.6032 - val_acc: 0.9531\n",
      "Wall time: 4.75 s\n"
     ]
    }
   ],
   "source": [
    "%%time\n",
    "bhistory = bmodel.fit(train_accel, train_accel, \n",
    "                    validation_split=0.1, epochs=EPOCH, batch_size=BATCH_SIZE, shuffle=True, callbacks=callbacks)"
   ]
  },
  {
   "cell_type": "code",
   "execution_count": 465,
   "metadata": {},
   "outputs": [
    {
     "name": "stdout",
     "output_type": "stream",
     "text": [
      "138/138 [==============================] - 0s 71us/step\n",
      "Test Score: 0.4374676964421203\n",
      "Test Acc: 0.959565205850463\n"
     ]
    }
   ],
   "source": [
    "test_predict = bmodel.predict(test_accel)\n",
    "score, acc = bmodel.evaluate(test_accel, test_accel, batch_size=32)\n",
    "print(f'Test Score: {score}')\n",
    "print(f'Test Acc: {acc}')"
   ]
  },
  {
   "cell_type": "code",
   "execution_count": 466,
   "metadata": {},
   "outputs": [
    {
     "data": {
      "image/png": "[encoded data removed]",
      "text/plain": [
       "<Figure size 432x288 with 1 Axes>"
      ]
     },
     "metadata": {
      "needs_background": "light"
     },
     "output_type": "display_data"
    }
   ],
   "source": [
    "# summarize history for accuracy\n",
    "plt.plot(bhistory.history['acc'])\n",
    "plt.plot(bhistory.history['val_acc'])\n",
    "plt.title('model accuracy')\n",
    "plt.ylabel('accuracy')\n",
    "plt.xlabel('epoch')\n",
    "plt.legend(['train', 'test'], loc='upper left')\n",
    "plt.show()"
   ]
  },
  {
   "cell_type": "code",
   "execution_count": 462,
   "metadata": {},
   "outputs": [
    {
     "data": {
      "image/png": "[encoded data removed]",
      "text/plain": [
       "<Figure size 432x288 with 1 Axes>"
      ]
     },
     "metadata": {
      "needs_background": "light"
     },
     "output_type": "display_data"
    }
   ],
   "source": [
    "# summarize history for loss\n",
    "plt.plot(bhistory.history['loss'])\n",
    "plt.plot(bhistory.history['val_loss'])\n",
    "plt.title('model loss')\n",
    "plt.ylabel('loss')\n",
    "plt.xlabel('epoch')\n",
    "plt.legend(['train', 'test'], loc='upper left')\n",
    "plt.show()"
   ]
  },
  {
   "cell_type": "code",
   "execution_count": 454,
   "metadata": {},
   "outputs": [
    {
     "name": "stdout",
     "output_type": "stream",
     "text": [
      "138\n"
     ]
    },
    {
     "ename": "ValueError",
     "evalue": "If using all scalar values, you must pass an index",
     "output_type": "error",
     "traceback": [
      "\u001b[1;31m---------------------------------------------------------------------------\u001b[0m",
      "\u001b[1;31mValueError\u001b[0m                                Traceback (most recent call last)",
      "\u001b[1;32m<ipython-input-454-8755270a18f0>\u001b[0m in \u001b[0;36m<module>\u001b[1;34m\u001b[0m\n\u001b[0;32m      4\u001b[0m \u001b[1;33m\u001b[0m\u001b[0m\n\u001b[0;32m      5\u001b[0m error_df = pd.DataFrame({'Reconstruction_error': mse,\n\u001b[1;32m----> 6\u001b[1;33m                         'True_class': tc})\n\u001b[0m\u001b[0;32m      7\u001b[0m \u001b[0mprecision_rt\u001b[0m\u001b[1;33m,\u001b[0m \u001b[0mrecall_rt\u001b[0m\u001b[1;33m,\u001b[0m \u001b[0mthreshold_rt\u001b[0m \u001b[1;33m=\u001b[0m \u001b[0mmetrics\u001b[0m\u001b[1;33m.\u001b[0m\u001b[0mprecision_recall_curve\u001b[0m\u001b[1;33m(\u001b[0m\u001b[0merror_df\u001b[0m\u001b[1;33m.\u001b[0m\u001b[0mReconstruction_error\u001b[0m\u001b[1;33m,\u001b[0m \u001b[0merror_df\u001b[0m\u001b[1;33m.\u001b[0m\u001b[0mTrue_class\u001b[0m\u001b[1;33m)\u001b[0m\u001b[1;33m\u001b[0m\u001b[1;33m\u001b[0m\u001b[0m\n\u001b[0;32m      8\u001b[0m \u001b[1;33m\u001b[0m\u001b[0m\n",
      "\u001b[1;32mD:\\Anaconda3\\envs\\issmca3\\lib\\site-packages\\pandas\\core\\frame.py\u001b[0m in \u001b[0;36m__init__\u001b[1;34m(self, data, index, columns, dtype, copy)\u001b[0m\n\u001b[0;32m    409\u001b[0m             )\n\u001b[0;32m    410\u001b[0m         \u001b[1;32melif\u001b[0m \u001b[0misinstance\u001b[0m\u001b[1;33m(\u001b[0m\u001b[0mdata\u001b[0m\u001b[1;33m,\u001b[0m \u001b[0mdict\u001b[0m\u001b[1;33m)\u001b[0m\u001b[1;33m:\u001b[0m\u001b[1;33m\u001b[0m\u001b[1;33m\u001b[0m\u001b[0m\n\u001b[1;32m--> 411\u001b[1;33m             \u001b[0mmgr\u001b[0m \u001b[1;33m=\u001b[0m \u001b[0minit_dict\u001b[0m\u001b[1;33m(\u001b[0m\u001b[0mdata\u001b[0m\u001b[1;33m,\u001b[0m \u001b[0mindex\u001b[0m\u001b[1;33m,\u001b[0m \u001b[0mcolumns\u001b[0m\u001b[1;33m,\u001b[0m \u001b[0mdtype\u001b[0m\u001b[1;33m=\u001b[0m\u001b[0mdtype\u001b[0m\u001b[1;33m)\u001b[0m\u001b[1;33m\u001b[0m\u001b[1;33m\u001b[0m\u001b[0m\n\u001b[0m\u001b[0;32m    412\u001b[0m         \u001b[1;32melif\u001b[0m \u001b[0misinstance\u001b[0m\u001b[1;33m(\u001b[0m\u001b[0mdata\u001b[0m\u001b[1;33m,\u001b[0m \u001b[0mma\u001b[0m\u001b[1;33m.\u001b[0m\u001b[0mMaskedArray\u001b[0m\u001b[1;33m)\u001b[0m\u001b[1;33m:\u001b[0m\u001b[1;33m\u001b[0m\u001b[1;33m\u001b[0m\u001b[0m\n\u001b[0;32m    413\u001b[0m             \u001b[1;32mimport\u001b[0m \u001b[0mnumpy\u001b[0m\u001b[1;33m.\u001b[0m\u001b[0mma\u001b[0m\u001b[1;33m.\u001b[0m\u001b[0mmrecords\u001b[0m \u001b[1;32mas\u001b[0m \u001b[0mmrecords\u001b[0m\u001b[1;33m\u001b[0m\u001b[1;33m\u001b[0m\u001b[0m\n",
      "\u001b[1;32mD:\\Anaconda3\\envs\\issmca3\\lib\\site-packages\\pandas\\core\\internals\\construction.py\u001b[0m in \u001b[0;36minit_dict\u001b[1;34m(data, index, columns, dtype)\u001b[0m\n\u001b[0;32m    255\u001b[0m             \u001b[0marr\u001b[0m \u001b[1;32mif\u001b[0m \u001b[1;32mnot\u001b[0m \u001b[0mis_datetime64tz_dtype\u001b[0m\u001b[1;33m(\u001b[0m\u001b[0marr\u001b[0m\u001b[1;33m)\u001b[0m \u001b[1;32melse\u001b[0m \u001b[0marr\u001b[0m\u001b[1;33m.\u001b[0m\u001b[0mcopy\u001b[0m\u001b[1;33m(\u001b[0m\u001b[1;33m)\u001b[0m \u001b[1;32mfor\u001b[0m \u001b[0marr\u001b[0m \u001b[1;32min\u001b[0m \u001b[0marrays\u001b[0m\u001b[1;33m\u001b[0m\u001b[1;33m\u001b[0m\u001b[0m\n\u001b[0;32m    256\u001b[0m         ]\n\u001b[1;32m--> 257\u001b[1;33m     \u001b[1;32mreturn\u001b[0m \u001b[0marrays_to_mgr\u001b[0m\u001b[1;33m(\u001b[0m\u001b[0marrays\u001b[0m\u001b[1;33m,\u001b[0m \u001b[0mdata_names\u001b[0m\u001b[1;33m,\u001b[0m \u001b[0mindex\u001b[0m\u001b[1;33m,\u001b[0m \u001b[0mcolumns\u001b[0m\u001b[1;33m,\u001b[0m \u001b[0mdtype\u001b[0m\u001b[1;33m=\u001b[0m\u001b[0mdtype\u001b[0m\u001b[1;33m)\u001b[0m\u001b[1;33m\u001b[0m\u001b[1;33m\u001b[0m\u001b[0m\n\u001b[0m\u001b[0;32m    258\u001b[0m \u001b[1;33m\u001b[0m\u001b[0m\n\u001b[0;32m    259\u001b[0m \u001b[1;33m\u001b[0m\u001b[0m\n",
      "\u001b[1;32mD:\\Anaconda3\\envs\\issmca3\\lib\\site-packages\\pandas\\core\\internals\\construction.py\u001b[0m in \u001b[0;36marrays_to_mgr\u001b[1;34m(arrays, arr_names, index, columns, dtype)\u001b[0m\n\u001b[0;32m     75\u001b[0m     \u001b[1;31m# figure out the index, if necessary\u001b[0m\u001b[1;33m\u001b[0m\u001b[1;33m\u001b[0m\u001b[1;33m\u001b[0m\u001b[0m\n\u001b[0;32m     76\u001b[0m     \u001b[1;32mif\u001b[0m \u001b[0mindex\u001b[0m \u001b[1;32mis\u001b[0m \u001b[1;32mNone\u001b[0m\u001b[1;33m:\u001b[0m\u001b[1;33m\u001b[0m\u001b[1;33m\u001b[0m\u001b[0m\n\u001b[1;32m---> 77\u001b[1;33m         \u001b[0mindex\u001b[0m \u001b[1;33m=\u001b[0m \u001b[0mextract_index\u001b[0m\u001b[1;33m(\u001b[0m\u001b[0marrays\u001b[0m\u001b[1;33m)\u001b[0m\u001b[1;33m\u001b[0m\u001b[1;33m\u001b[0m\u001b[0m\n\u001b[0m\u001b[0;32m     78\u001b[0m     \u001b[1;32melse\u001b[0m\u001b[1;33m:\u001b[0m\u001b[1;33m\u001b[0m\u001b[1;33m\u001b[0m\u001b[0m\n\u001b[0;32m     79\u001b[0m         \u001b[0mindex\u001b[0m \u001b[1;33m=\u001b[0m \u001b[0mensure_index\u001b[0m\u001b[1;33m(\u001b[0m\u001b[0mindex\u001b[0m\u001b[1;33m)\u001b[0m\u001b[1;33m\u001b[0m\u001b[1;33m\u001b[0m\u001b[0m\n",
      "\u001b[1;32mD:\\Anaconda3\\envs\\issmca3\\lib\\site-packages\\pandas\\core\\internals\\construction.py\u001b[0m in \u001b[0;36mextract_index\u001b[1;34m(data)\u001b[0m\n\u001b[0;32m    356\u001b[0m \u001b[1;33m\u001b[0m\u001b[0m\n\u001b[0;32m    357\u001b[0m         \u001b[1;32mif\u001b[0m \u001b[1;32mnot\u001b[0m \u001b[0mindexes\u001b[0m \u001b[1;32mand\u001b[0m \u001b[1;32mnot\u001b[0m \u001b[0mraw_lengths\u001b[0m\u001b[1;33m:\u001b[0m\u001b[1;33m\u001b[0m\u001b[1;33m\u001b[0m\u001b[0m\n\u001b[1;32m--> 358\u001b[1;33m             \u001b[1;32mraise\u001b[0m \u001b[0mValueError\u001b[0m\u001b[1;33m(\u001b[0m\u001b[1;34m\"If using all scalar values, you must pass an index\"\u001b[0m\u001b[1;33m)\u001b[0m\u001b[1;33m\u001b[0m\u001b[1;33m\u001b[0m\u001b[0m\n\u001b[0m\u001b[0;32m    359\u001b[0m \u001b[1;33m\u001b[0m\u001b[0m\n\u001b[0;32m    360\u001b[0m         \u001b[1;32mif\u001b[0m \u001b[0mhave_series\u001b[0m\u001b[1;33m:\u001b[0m\u001b[1;33m\u001b[0m\u001b[1;33m\u001b[0m\u001b[0m\n",
      "\u001b[1;31mValueError\u001b[0m: If using all scalar values, you must pass an index"
     ]
    }
   ],
   "source": [
    "mse = np.mean(np.power(test_accel - test_predict, 2), axis=1)\n",
    "tc = np.mean(np.power(test_accel,2), axis=1)\n",
    "print(len(mse))\n",
    "\n",
    "error_df = pd.DataFrame({'Reconstruction_error': mse,\n",
    "                        'True_class': tc})\n",
    "precision_rt, recall_rt, threshold_rt = metrics.precision_recall_curve(error_df.Reconstruction_error, error_df.True_class)\n",
    "\n",
    "plt.plot(threshold_rt, precision_rt[1:], label=\"Precision\",linewidth=5)\n",
    "plt.plot(threshold_rt, recall_rt[1:], label=\"Recall\",linewidth=5)\n",
    "plt.title('Precision and recall for different threshold values')\n",
    "plt.xlabel('Threshold')\n",
    "plt.ylabel('Precision/Recall')\n",
    "plt.legend()\n",
    "plt.show()"
   ]
  },
  {
   "cell_type": "markdown",
   "metadata": {},
   "source": [
    "### Multi Sensor input / autoencoder / single output model"
   ]
  },
  {
   "cell_type": "code",
   "execution_count": 31,
   "metadata": {},
   "outputs": [],
   "source": [
    "# Config\n",
    "encoder_dimension = 42\n",
    "EPOCH = 20\n",
    "BATCH_SIZE = 24"
   ]
  },
  {
   "cell_type": "code",
   "execution_count": 32,
   "metadata": {},
   "outputs": [],
   "source": [
    "def build_multi_in_single_out_model(train_accel, train_gyro, train_quart):\n",
    "    # Input dimension\n",
    "    accel_dim = train_accel.shape[1]\n",
    "    gyro_dim = train_gyro.shape[1]\n",
    "    quart_dim = train_quart.shape[1]\n",
    "    # All input\n",
    "    input_accel = Input(shape=(accel_dim,), name='Input_Accel')\n",
    "    input_gyro = Input(shape=(gyro_dim,), name='Input_Gyro')\n",
    "    input_quart = Input(shape=(quart_dim,), name='Input_Quart')\n",
    "    # Encoder branch for Accel\n",
    "    accel_encoder = Dense(50, activation='relu', name='Encoder1_Accel')(input_accel)\n",
    "    accel_encoder = Dense(25, activation='relu', name='Encoder2_Accel')(accel_encoder)\n",
    "    # Encoder branch for Gyro\n",
    "    gyro_encoder = Dense(50, activation='relu', name='Encoder1_Gyro')(input_gyro)\n",
    "    gyro_encoder = Dense(25, activation='relu', name='Encoder2_Gyro')(gyro_encoder)\n",
    "    # Encoder branch for Quart\n",
    "    quart_encoder = Dense(50, activation='relu', name='Encoder1_Quart')(input_quart)\n",
    "    quart_encoder = Dense(25, activation='relu', name='Encoder2_Quart')(quart_encoder)\n",
    "    # Shared layer\n",
    "    shared_input = Concatenate(name='Concatenate')([accel_encoder, gyro_encoder, quart_encoder])\n",
    "    # Decoder\n",
    "    decoder = Dense(5, activation='relu', name='Shared_Hidden_Layer')(shared_input)\n",
    "    decoder = Dense(25, activation='relu', name='Decoder1')(decoder)\n",
    "    decoder = Dense(50, activation='relu', name='Decoder2')(decoder)\n",
    "    decoder = Dense(6, activation='relu', name='Output')(decoder)\n",
    "    model = Model(inputs=([input_accel, input_gyro, input_quart]), outputs=decoder)\n",
    "    return model"
   ]
  },
  {
   "cell_type": "code",
   "execution_count": 33,
   "metadata": {},
   "outputs": [
    {
     "name": "stdout",
     "output_type": "stream",
     "text": [
      "__________________________________________________________________________________________________\n",
      "Layer (type)                    Output Shape         Param #     Connected to                     \n",
      "==================================================================================================\n",
      "Input_Accel (InputLayer)        (None, 6)            0                                            \n",
      "__________________________________________________________________________________________________\n",
      "Input_Gyro (InputLayer)         (None, 6)            0                                            \n",
      "__________________________________________________________________________________________________\n",
      "Input_Quart (InputLayer)        (None, 8)            0                                            \n",
      "__________________________________________________________________________________________________\n",
      "Encoder1_Accel (Dense)          (None, 50)           350         Input_Accel[0][0]                \n",
      "__________________________________________________________________________________________________\n",
      "Encoder1_Gyro (Dense)           (None, 50)           350         Input_Gyro[0][0]                 \n",
      "__________________________________________________________________________________________________\n",
      "Encoder1_Quart (Dense)          (None, 50)           450         Input_Quart[0][0]                \n",
      "__________________________________________________________________________________________________\n",
      "Encoder2_Accel (Dense)          (None, 25)           1275        Encoder1_Accel[0][0]             \n",
      "__________________________________________________________________________________________________\n",
      "Encoder2_Gyro (Dense)           (None, 25)           1275        Encoder1_Gyro[0][0]              \n",
      "__________________________________________________________________________________________________\n",
      "Encoder2_Quart (Dense)          (None, 25)           1275        Encoder1_Quart[0][0]             \n",
      "__________________________________________________________________________________________________\n",
      "Concatenate (Concatenate)       (None, 75)           0           Encoder2_Accel[0][0]             \n",
      "                                                                 Encoder2_Gyro[0][0]              \n",
      "                                                                 Encoder2_Quart[0][0]             \n",
      "__________________________________________________________________________________________________\n",
      "Shared_Hidden_Layer (Dense)     (None, 5)            380         Concatenate[0][0]                \n",
      "__________________________________________________________________________________________________\n",
      "Decoder1 (Dense)                (None, 25)           150         Shared_Hidden_Layer[0][0]        \n",
      "__________________________________________________________________________________________________\n",
      "Decoder2 (Dense)                (None, 50)           1300        Decoder1[0][0]                   \n",
      "__________________________________________________________________________________________________\n",
      "Output (Dense)                  (None, 6)            306         Decoder2[0][0]                   \n",
      "==================================================================================================\n",
      "Total params: 7,111\n",
      "Trainable params: 7,111\n",
      "Non-trainable params: 0\n",
      "__________________________________________________________________________________________________\n"
     ]
    }
   ],
   "source": [
    "model = build_multi_in_single_out_model(train_accel, train_gyro, train_quart)\n",
    "model.summary()"
   ]
  },
  {
   "cell_type": "code",
   "execution_count": 34,
   "metadata": {},
   "outputs": [
    {
     "ename": "SyntaxError",
     "evalue": "invalid syntax (<ipython-input-34-40b677c815bf>, line 4)",
     "output_type": "error",
     "traceback": [
      "\u001b[1;36m  File \u001b[1;32m\"<ipython-input-34-40b677c815bf>\"\u001b[1;36m, line \u001b[1;32m4\u001b[0m\n\u001b[1;33m    show_layer_names=True)\u001b[0m\n\u001b[1;37m                   ^\u001b[0m\n\u001b[1;31mSyntaxError\u001b[0m\u001b[1;31m:\u001b[0m invalid syntax\n"
     ]
    }
   ],
   "source": [
    "plot_model(model, \n",
    "           to_file='model.png', \n",
    "           show_shapes=True,o\n",
    "           show_layer_names=True)\n",
    "IPython.display.Image('model.png')"
   ]
  },
  {
   "cell_type": "code",
   "execution_count": null,
   "metadata": {},
   "outputs": [],
   "source": [
    "model.compile(optimizer='adam', metrics=['accuracy'], loss=['mean_squared_logarithmic_error'])"
   ]
  },
  {
   "cell_type": "code",
   "execution_count": null,
   "metadata": {},
   "outputs": [],
   "source": [
    "%%time\n",
    "history = model.fit([train_accel, train_gyro, train_quart], train_accel, \n",
    "                    validation_split=0.1, epochs=EPOCH, batch_size=BATCH_SIZE, shuffle=True, callbacks=callbacks)"
   ]
  },
  {
   "cell_type": "code",
   "execution_count": null,
   "metadata": {},
   "outputs": [],
   "source": [
    "test_predict = model.predict([test_accel, test_gyro, test_quart])\n",
    "score, acc = model.evaluate([test_accel, test_gyro, test_quart], test_accel, batch_size=32)\n",
    "print(f'Test Score: {score}')\n",
    "print(f'Test Acc: {acc}')"
   ]
  },
  {
   "cell_type": "code",
   "execution_count": null,
   "metadata": {},
   "outputs": [],
   "source": [
    "# list all data in history\n",
    "print(history.history.keys())"
   ]
  },
  {
   "cell_type": "code",
   "execution_count": null,
   "metadata": {},
   "outputs": [],
   "source": [
    "# summarize history for accuracy\n",
    "plt.plot(history.history['acc'])\n",
    "plt.plot(history.history['val_acc'])\n",
    "plt.title('model accuracy')\n",
    "plt.ylabel('accuracy')\n",
    "plt.xlabel('epoch')\n",
    "plt.legend(['train', 'test'], loc='upper left')\n",
    "plt.show()"
   ]
  },
  {
   "cell_type": "code",
   "execution_count": null,
   "metadata": {},
   "outputs": [],
   "source": [
    "# summarize history for loss\n",
    "plt.plot(history.history['loss'])\n",
    "plt.plot(history.history['val_loss'])\n",
    "plt.title('model loss')\n",
    "plt.ylabel('loss')\n",
    "plt.xlabel('epoch')\n",
    "plt.legend(['train', 'test'], loc='upper left')\n",
    "plt.show()"
   ]
  },
  {
   "cell_type": "code",
   "execution_count": null,
   "metadata": {},
   "outputs": [],
   "source": [
    "threshold = 6\n",
    "dist = np.linalg.norm(test_accel - test_predict, axis=1)"
   ]
  },
  {
   "cell_type": "code",
   "execution_count": null,
   "metadata": {},
   "outputs": [],
   "source": [
    "for d in dist:\n",
    "    if (d > threshold):\n",
    "        print('Anomaly')"
   ]
  },
  {
   "cell_type": "code",
   "execution_count": null,
   "metadata": {},
   "outputs": [],
   "source": []
  },
  {
   "cell_type": "markdown",
   "metadata": {},
   "source": [
    "### Multi sensor input / autoencoder / multi output model"
   ]
  },
  {
   "cell_type": "code",
   "execution_count": null,
   "metadata": {},
   "outputs": [],
   "source": [
    "# Config\n",
    "encoder_dimension = 42\n",
    "EPOCH = 20\n",
    "BATCH_SIZE = 24"
   ]
  },
  {
   "cell_type": "code",
   "execution_count": null,
   "metadata": {},
   "outputs": [],
   "source": [
    "def build_multi_in_multi_out_model(train_accel, train_gyro, train_quart):\n",
    "    # Input dimension\n",
    "    accel_dim = train_accel.shape[1]\n",
    "    gyro_dim = train_gyro.shape[1]\n",
    "    quart_dim = train_quart.shape[1]\n",
    "    # All input\n",
    "    input_accel = Input(shape=(accel_dim,), name='Input_Accel')\n",
    "    input_gyro = Input(shape=(gyro_dim,), name='Input_Gyro')\n",
    "    input_quart = Input(shape=(quart_dim,), name='Input_Quart')\n",
    "    # Encoder branch for Accel\n",
    "    accel_encoder = Dense(50, activation='relu', name='Encoder1_Accel')(input_accel)\n",
    "    accel_encoder = Dense(25, activation='relu', name='Encoder2_Accel')(accel_encoder)\n",
    "    # Encoder branch for Gyro\n",
    "    gyro_encoder = Dense(50, activation='relu', name='Encoder1_Gyro')(input_gyro)\n",
    "    gyro_encoder = Dense(25, activation='relu', name='Encoder2_Gyro')(gyro_encoder)\n",
    "    # Encoder branch for Quart\n",
    "    quart_encoder = Dense(50, activation='relu', name='Encoder1_Quart')(input_quart)\n",
    "    quart_encoder = Dense(25, activation='relu', name='Encoder2_Quart')(quart_encoder)\n",
    "    # Shared layer\n",
    "    shared_input = Concatenate(name='Concatenate')([accel_encoder, gyro_encoder, quart_encoder])\n",
    "    shared_hidden_layer = Dense(5, activation='relu', name='Shared_Hidden_Layer')(shared_input)\n",
    "    # Decoder branch for Accel    \n",
    "    accel_decoder = Dense(25, activation='relu', name='Decoder1_Accel')(shared_hidden_layer)\n",
    "    accel_decoder = Dense(50, activation='relu', name='Decoder2_Accel')(accel_decoder)\n",
    "    accel_decoder = Dense(6, activation='relu', name='Output_Accel')(accel_decoder)\n",
    "    # Decoder branch for Gyro\n",
    "    gyro_decoder = Dense(25, activation='relu', name='Decoder1_Gyro')(shared_hidden_layer)\n",
    "    gyro_decoder = Dense(50, activation='relu', name='Decoder2_Gyro')(gyro_decoder)\n",
    "    gyro_decoder = Dense(6, activation='relu', name='Output_Gyro')(gyro_decoder)\n",
    "    # Decoder branch for Quart\n",
    "    quart_decoder = Dense(25, activation='relu', name='Decoder1_Quart')(shared_hidden_layer)\n",
    "    quart_decoder = Dense(50, activation='relu', name='Decoder2_Quart')(quart_decoder)\n",
    "    quart_decoder = Dense(8, activation='relu', name='Output_Quart')(quart_decoder)\n",
    "    \n",
    "    \n",
    "    model = Model(inputs=([input_accel, input_gyro, input_quart]), outputs=([accel_decoder, gyro_decoder, quart_decoder]))\n",
    "    return model"
   ]
  },
  {
   "cell_type": "code",
   "execution_count": null,
   "metadata": {},
   "outputs": [],
   "source": [
    "model2 = build_multi_in_multi_out_model(train_accel, train_gyro, train_quart)\n",
    "model2.summary()"
   ]
  },
  {
   "cell_type": "code",
   "execution_count": null,
   "metadata": {},
   "outputs": [],
   "source": [
    "plot_model(model2, \n",
    "           to_file='model2.png', \n",
    "           show_shapes=True,\n",
    "           show_layer_names=True)\n",
    "IPython.display.Image('model2.png')"
   ]
  },
  {
   "cell_type": "code",
   "execution_count": null,
   "metadata": {},
   "outputs": [],
   "source": [
    "model2.compile(optimizer='adam', metrics=['accuracy'], \n",
    "               loss=['mean_squared_logarithmic_error', 'mean_squared_logarithmic_error', 'mean_squared_logarithmic_error'])"
   ]
  },
  {
   "cell_type": "code",
   "execution_count": null,
   "metadata": {},
   "outputs": [],
   "source": [
    "%%time\n",
    "history2 = model2.fit([train_accel, train_gyro, train_quart], [train_accel, train_gyro, train_quart], \n",
    "                    validation_split=0.1, epochs=EPOCH, batch_size=BATCH_SIZE, shuffle=True, callbacks=callbacks)"
   ]
  },
  {
   "cell_type": "code",
   "execution_count": null,
   "metadata": {},
   "outputs": [],
   "source": [
    "test_predict2 = model2.predict([test_accel, test_gyro, test_quart])\n",
    "result = model2.evaluate([test_accel, test_gyro, test_quart], [test_accel, test_gyro, test_quart], batch_size=32)\n",
    "for idx in range(len(model2.metrics_names)):\n",
    "    print(f'{model2.metrics_names[idx]}: {result[idx]}')"
   ]
  },
  {
   "cell_type": "code",
   "execution_count": null,
   "metadata": {},
   "outputs": [],
   "source": [
    "# summarize history for accuracy\n",
    "plt.plot(history2.history['Output_Accel_acc'])\n",
    "plt.plot(history2.history['Output_Gyro_acc'])\n",
    "plt.plot(history2.history['Output_Quart_acc'])\n",
    "plt.title('model accuracy')\n",
    "plt.ylabel('accuracy')\n",
    "plt.xlabel('epoch')\n",
    "plt.legend(['train', 'test'], loc='upper left')\n",
    "plt.show()"
   ]
  },
  {
   "cell_type": "code",
   "execution_count": null,
   "metadata": {},
   "outputs": [],
   "source": [
    "# summarize history for loss\n",
    "plt.plot(history2.history['loss'])\n",
    "plt.plot(history2.history['val_loss'])\n",
    "plt.plot(history2.history['Output_Accel_loss'])\n",
    "plt.plot(history2.history['Output_Gyro_loss'])\n",
    "plt.plot(history2.history['Output_Quart_loss'])\n",
    "plt.title('model loss')\n",
    "plt.ylabel('loss')\n",
    "plt.xlabel('epoch')\n",
    "plt.legend(['train', 'test'], loc='upper left')\n",
    "plt.show()"
   ]
  },
  {
   "cell_type": "code",
   "execution_count": null,
   "metadata": {},
   "outputs": [],
   "source": []
  }
 ],
 "metadata": {
  "kernelspec": {
   "display_name": "Python 3",
   "language": "python",
   "name": "python3"
  },
  "language_info": {
   "codemirror_mode": {
    "name": "ipython",
    "version": 3
   },
   "file_extension": ".py",
   "mimetype": "text/x-python",
   "name": "python",
   "nbconvert_exporter": "python",
   "pygments_lexer": "ipython3",
   "version": "3.6.7"
  }
 },
 "nbformat": 4,
 "nbformat_minor": 4
}
