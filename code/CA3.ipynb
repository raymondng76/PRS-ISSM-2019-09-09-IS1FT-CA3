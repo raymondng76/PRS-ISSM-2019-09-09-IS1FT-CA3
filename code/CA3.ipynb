{
 "cells": [
  {
   "cell_type": "markdown",
   "metadata": {},
   "source": [
    "### ISSM CA3"
   ]
  },
  {
   "cell_type": "code",
   "execution_count": 89,
   "metadata": {},
   "outputs": [],
   "source": [
    "import numpy as np\n",
    "import pandas as pd\n",
    "import matplotlib.pyplot as plt\n",
    "%matplotlib inline\n",
    "\n",
    "import os\n",
    "import glob\n",
    "import time"
   ]
  },
  {
   "cell_type": "markdown",
   "metadata": {},
   "source": [
    "### Dataset attributes\n",
    "Column 1: Timestamp in seconds  \n",
    "Column 2: Timestamp in microseconds  \n",
    "Column 3-15: [AccX, AccY, AccZ, GyrX, GyrY, Gyr, GyrZ, MagX, MagY, MagZ, Q1, Q2, Q3, Q4] of sensor S1  \n",
    "Column 16-28: [AccX, AccY, AccZ, GyrX, GyrY, Gyr, GyrZ, MagX, MagY, MagZ, Q1, Q2, Q3, Q4] of sensor S2  \n",
    "Column 29-41: [AccX, AccY, AccZ, GyrX, GyrY, Gyr, GyrZ, MagX, MagY, MagZ, Q1, Q2, Q3, Q4] of sensor S3  \n",
    "Column 42-54: [AccX, AccY, AccZ, GyrX, GyrY, Gyr, GyrZ, MagX, MagY, MagZ, Q1, Q2, Q3, Q4] of sensor S4  \n",
    "Column 55-67: [AccX, AccY, AccZ, GyrX, GyrY, Gyr, GyrZ, MagX, MagY, MagZ, Q1, Q2, Q3, Q4] of sensor S5  \n",
    "Column 68-80: [AccX, AccY, AccZ, GyrX, GyrY, Gyr, GyrZ, MagX, MagY, MagZ, Q1, Q2, Q3, Q4] of sensor S6  \n",
    "Column 91-93: [AccX, AccY, AccZ, GyrX, GyrY, Gyr, GyrZ, MagX, MagY, MagZ, Q1, Q2, Q3, Q4] of sensor S7  \n",
    "Column 94-106: [AccX, AccY, AccZ, GyrX, GyrY, Gyr, GyrZ, MagX, MagY, MagZ, Q1, Q2, Q3, Q4] of sensor S8  \n",
    "Column 107-119: [AccX, AccY, AccZ, GyrX, GyrY, Gyr, GyrZ, MagX, MagY, MagZ, Q1, Q2, Q3, Q4] of sensor S9  \n",
    "Column 120: Label (see activity set) [Walking = 1] [Jogging = 2] [Running = 3]"
   ]
  },
  {
   "cell_type": "markdown",
   "metadata": {},
   "source": [
    "### Run following cells for the following dataset structure:\n",
    "    *df_walking : all 17 subjects + walking + (accel + gyro + quart)\n",
    "    *df_jogging : all 17 subjects + jogging + (accel + gyro + quart)\n",
    "    *df_running : all 17 subjects + running + (accel + gyro + quart)\n",
    "    \n",
    "Col[0]: Timestamp in seconds  \n",
    "Col[1]: Timestamp in microseconds  \n",
    "Col[93-105]: Sensor S8  \n",
    "Col[106-118]: Sensor S9  \n",
    "Col[119]: Activity Label"
   ]
  },
  {
   "cell_type": "code",
   "execution_count": 99,
   "metadata": {},
   "outputs": [],
   "source": [
    "data_dir = '..\\dataset'\n",
    "\n",
    "def readcsvDataset(directory):\n",
    "    files = glob.glob(directory + '\\*.csv')\n",
    "    df_walk = []\n",
    "    df_jog = []\n",
    "    df_run = []\n",
    "    for file in files:\n",
    "        df_all = pd.read_csv(file, header=None, delim_whitespace=True)\n",
    "        df_walk.append(df_all[df_all[119] == 1])\n",
    "        df_jog.append(df_all[df_all[119] == 2])\n",
    "        df_run.append(df_all[df_all[119] == 3])\n",
    "    return pd.concat(df_walk, ignore_index=True), pd.concat(df_jog, ignore_index=True), pd.concat(df_run, ignore_index=True)\n",
    "\n",
    "def removeOtherSensor(df_walk, df_jog, df_run):\n",
    "    idx = np.r_[2:93]\n",
    "    return df_walk.drop(df_walk.columns[idx], axis=1), df_jog.drop(df_jog.columns[idx], axis=1), df_run.drop(df_run.columns[idx], axis=1)"
   ]
  },
  {
   "cell_type": "code",
   "execution_count": 100,
   "metadata": {},
   "outputs": [
    {
     "name": "stdout",
     "output_type": "stream",
     "text": [
      "Elapsed: 32.123751640319824\n"
     ]
    }
   ],
   "source": [
    "start = time.time()\n",
    "dfw, dfj, dfr = readcsvDataset(data_dir)\n",
    "df_walk, df_jog, df_run = removeOtherSensor(dfw, dfj, dfr)\n",
    "end = time.time()\n",
    "print(f'Elapsed: {str(end-start)}')"
   ]
  },
  {
   "cell_type": "code",
   "execution_count": 101,
   "metadata": {},
   "outputs": [
    {
     "data": {
      "text/html": [
       "<div>\n",
       "<style scoped>\n",
       "    .dataframe tbody tr th:only-of-type {\n",
       "        vertical-align: middle;\n",
       "    }\n",
       "\n",
       "    .dataframe tbody tr th {\n",
       "        vertical-align: top;\n",
       "    }\n",
       "\n",
       "    .dataframe thead th {\n",
       "        text-align: right;\n",
       "    }\n",
       "</style>\n",
       "<table border=\"1\" class=\"dataframe\">\n",
       "  <thead>\n",
       "    <tr style=\"text-align: right;\">\n",
       "      <th></th>\n",
       "      <th>0</th>\n",
       "      <th>1</th>\n",
       "      <th>93</th>\n",
       "      <th>94</th>\n",
       "      <th>95</th>\n",
       "      <th>96</th>\n",
       "      <th>97</th>\n",
       "      <th>98</th>\n",
       "      <th>99</th>\n",
       "      <th>100</th>\n",
       "      <th>...</th>\n",
       "      <th>110</th>\n",
       "      <th>111</th>\n",
       "      <th>112</th>\n",
       "      <th>113</th>\n",
       "      <th>114</th>\n",
       "      <th>115</th>\n",
       "      <th>116</th>\n",
       "      <th>117</th>\n",
       "      <th>118</th>\n",
       "      <th>119</th>\n",
       "    </tr>\n",
       "  </thead>\n",
       "  <tbody>\n",
       "    <tr>\n",
       "      <td>45633</td>\n",
       "      <td>456</td>\n",
       "      <td>940000.0</td>\n",
       "      <td>-6.3261</td>\n",
       "      <td>0.49173</td>\n",
       "      <td>-2.06260</td>\n",
       "      <td>-0.69493</td>\n",
       "      <td>-0.325470</td>\n",
       "      <td>0.427830</td>\n",
       "      <td>0.59707</td>\n",
       "      <td>-0.081856</td>\n",
       "      <td>...</td>\n",
       "      <td>0.47527</td>\n",
       "      <td>0.022887</td>\n",
       "      <td>0.61756</td>\n",
       "      <td>-0.27884</td>\n",
       "      <td>0.095882</td>\n",
       "      <td>-0.56782</td>\n",
       "      <td>0.41634</td>\n",
       "      <td>-0.63496</td>\n",
       "      <td>-0.31793</td>\n",
       "      <td>1</td>\n",
       "    </tr>\n",
       "    <tr>\n",
       "      <td>45634</td>\n",
       "      <td>456</td>\n",
       "      <td>960000.0</td>\n",
       "      <td>-5.6887</td>\n",
       "      <td>0.27611</td>\n",
       "      <td>-1.49380</td>\n",
       "      <td>-0.73027</td>\n",
       "      <td>-0.089975</td>\n",
       "      <td>0.255660</td>\n",
       "      <td>0.59280</td>\n",
       "      <td>-0.082832</td>\n",
       "      <td>...</td>\n",
       "      <td>0.47707</td>\n",
       "      <td>0.010613</td>\n",
       "      <td>0.61893</td>\n",
       "      <td>-0.27946</td>\n",
       "      <td>0.101300</td>\n",
       "      <td>-0.56451</td>\n",
       "      <td>0.41788</td>\n",
       "      <td>-0.63780</td>\n",
       "      <td>-0.31610</td>\n",
       "      <td>1</td>\n",
       "    </tr>\n",
       "    <tr>\n",
       "      <td>45635</td>\n",
       "      <td>456</td>\n",
       "      <td>980000.0</td>\n",
       "      <td>-5.3004</td>\n",
       "      <td>0.17579</td>\n",
       "      <td>-0.65768</td>\n",
       "      <td>-0.79647</td>\n",
       "      <td>0.162780</td>\n",
       "      <td>0.167450</td>\n",
       "      <td>0.59254</td>\n",
       "      <td>-0.084551</td>\n",
       "      <td>...</td>\n",
       "      <td>0.49299</td>\n",
       "      <td>0.001066</td>\n",
       "      <td>0.62184</td>\n",
       "      <td>-0.27693</td>\n",
       "      <td>0.108670</td>\n",
       "      <td>-0.56105</td>\n",
       "      <td>0.41981</td>\n",
       "      <td>-0.64029</td>\n",
       "      <td>-0.31465</td>\n",
       "      <td>1</td>\n",
       "    </tr>\n",
       "    <tr>\n",
       "      <td>45636</td>\n",
       "      <td>457</td>\n",
       "      <td>0.0</td>\n",
       "      <td>-5.3568</td>\n",
       "      <td>0.35077</td>\n",
       "      <td>0.22515</td>\n",
       "      <td>-0.88075</td>\n",
       "      <td>0.397370</td>\n",
       "      <td>0.090353</td>\n",
       "      <td>0.59128</td>\n",
       "      <td>-0.086545</td>\n",
       "      <td>...</td>\n",
       "      <td>0.54279</td>\n",
       "      <td>-0.006686</td>\n",
       "      <td>0.62217</td>\n",
       "      <td>-0.27413</td>\n",
       "      <td>0.112640</td>\n",
       "      <td>-0.55720</td>\n",
       "      <td>0.42186</td>\n",
       "      <td>-0.64327</td>\n",
       "      <td>-0.31267</td>\n",
       "      <td>1</td>\n",
       "    </tr>\n",
       "    <tr>\n",
       "      <td>45637</td>\n",
       "      <td>457</td>\n",
       "      <td>20000.0</td>\n",
       "      <td>-5.4664</td>\n",
       "      <td>0.49299</td>\n",
       "      <td>1.02270</td>\n",
       "      <td>-0.80796</td>\n",
       "      <td>0.585730</td>\n",
       "      <td>0.030970</td>\n",
       "      <td>0.59328</td>\n",
       "      <td>-0.091122</td>\n",
       "      <td>...</td>\n",
       "      <td>0.55324</td>\n",
       "      <td>0.026911</td>\n",
       "      <td>0.62150</td>\n",
       "      <td>-0.27479</td>\n",
       "      <td>0.119120</td>\n",
       "      <td>-0.55344</td>\n",
       "      <td>0.42354</td>\n",
       "      <td>-0.64632</td>\n",
       "      <td>-0.31081</td>\n",
       "      <td>1</td>\n",
       "    </tr>\n",
       "  </tbody>\n",
       "</table>\n",
       "<p>5 rows × 29 columns</p>\n",
       "</div>"
      ],
      "text/plain": [
       "       0         1       93       94       95       96        97        98   \\\n",
       "45633  456  940000.0 -6.3261  0.49173 -2.06260 -0.69493 -0.325470  0.427830   \n",
       "45634  456  960000.0 -5.6887  0.27611 -1.49380 -0.73027 -0.089975  0.255660   \n",
       "45635  456  980000.0 -5.3004  0.17579 -0.65768 -0.79647  0.162780  0.167450   \n",
       "45636  457       0.0 -5.3568  0.35077  0.22515 -0.88075  0.397370  0.090353   \n",
       "45637  457   20000.0 -5.4664  0.49299  1.02270 -0.80796  0.585730  0.030970   \n",
       "\n",
       "           99        100  ...      110       111      112      113       114  \\\n",
       "45633  0.59707 -0.081856  ...  0.47527  0.022887  0.61756 -0.27884  0.095882   \n",
       "45634  0.59280 -0.082832  ...  0.47707  0.010613  0.61893 -0.27946  0.101300   \n",
       "45635  0.59254 -0.084551  ...  0.49299  0.001066  0.62184 -0.27693  0.108670   \n",
       "45636  0.59128 -0.086545  ...  0.54279 -0.006686  0.62217 -0.27413  0.112640   \n",
       "45637  0.59328 -0.091122  ...  0.55324  0.026911  0.62150 -0.27479  0.119120   \n",
       "\n",
       "           115      116      117      118  119  \n",
       "45633 -0.56782  0.41634 -0.63496 -0.31793    1  \n",
       "45634 -0.56451  0.41788 -0.63780 -0.31610    1  \n",
       "45635 -0.56105  0.41981 -0.64029 -0.31465    1  \n",
       "45636 -0.55720  0.42186 -0.64327 -0.31267    1  \n",
       "45637 -0.55344  0.42354 -0.64632 -0.31081    1  \n",
       "\n",
       "[5 rows x 29 columns]"
      ]
     },
     "execution_count": 101,
     "metadata": {},
     "output_type": "execute_result"
    }
   ],
   "source": [
    "df_walk.tail()"
   ]
  },
  {
   "cell_type": "code",
   "execution_count": 94,
   "metadata": {},
   "outputs": [
    {
     "data": {
      "text/plain": [
       "(45638, 28)"
      ]
     },
     "execution_count": 94,
     "metadata": {},
     "output_type": "execute_result"
    }
   ],
   "source": [
    "df_walk.shape"
   ]
  },
  {
   "cell_type": "code",
   "execution_count": 95,
   "metadata": {},
   "outputs": [
    {
     "data": {
      "text/plain": [
       "(41790, 28)"
      ]
     },
     "execution_count": 95,
     "metadata": {},
     "output_type": "execute_result"
    }
   ],
   "source": [
    "df_jog.shape"
   ]
  },
  {
   "cell_type": "code",
   "execution_count": 96,
   "metadata": {},
   "outputs": [
    {
     "data": {
      "text/plain": [
       "(40142, 28)"
      ]
     },
     "execution_count": 96,
     "metadata": {},
     "output_type": "execute_result"
    }
   ],
   "source": [
    "df_run.shape"
   ]
  }
 ],
 "metadata": {
  "kernelspec": {
   "display_name": "Python 3",
   "language": "python",
   "name": "python3"
  },
  "language_info": {
   "codemirror_mode": {
    "name": "ipython",
    "version": 3
   },
   "file_extension": ".py",
   "mimetype": "text/x-python",
   "name": "python",
   "nbconvert_exporter": "python",
   "pygments_lexer": "ipython3",
   "version": "3.6.7"
  }
 },
 "nbformat": 4,
 "nbformat_minor": 4
}
